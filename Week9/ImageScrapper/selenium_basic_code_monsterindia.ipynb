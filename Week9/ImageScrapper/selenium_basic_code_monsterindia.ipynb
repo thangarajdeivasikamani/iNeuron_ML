{
 "cells": [
  {
   "cell_type": "code",
   "execution_count": 1,
   "metadata": {},
   "outputs": [],
   "source": [
    "# Here direct HTML tag extarcting without clcik\n",
    "# In this example we are using beatifulsoup & see more java script - Can't direct scrap.\n",
    "# We need to first pass through web driver & scrap using html parser."
   ]
  },
  {
   "cell_type": "code",
   "execution_count": 2,
   "metadata": {},
   "outputs": [],
   "source": [
    "import requests\n",
    "from bs4 import BeautifulSoup as bs\n",
    "from urllib.request import urlopen as uReq\n",
    "import pymongo\n",
    "from selenium import webdriver\n",
    "from selenium.webdriver.support.ui import Select\n",
    "from selenium.webdriver.common.by import By\n",
    "from selenium.webdriver.common.action_chains import ActionChains\n",
    "import time\n",
    "import pandas as pd"
   ]
  },
  {
   "cell_type": "code",
   "execution_count": 3,
   "metadata": {},
   "outputs": [],
   "source": [
    "firefox_options = webdriver.FirefoxOptions()\n",
    "firefox_options.add_argument('--no-sandbox')\n",
    "firefox_options.add_argument('--headless') # Enable if not required to open the broswer\n",
    "#firefox_options.add_argument('--window-size=1920,1080')\n",
    "firefox_options.add_argument('--disable-gpu')\n",
    "driver = webdriver.Firefox(options=firefox_options)\n"
   ]
  },
  {
   "cell_type": "code",
   "execution_count": 4,
   "metadata": {},
   "outputs": [],
   "source": [
    "test_url = 'https://www.monsterindia.com/srp/results?query=Data%20Scientist&searchId=885a5b51-9e78-4ad2-9fb2-6a9e6f2275b7'"
   ]
  },
  {
   "cell_type": "code",
   "execution_count": 5,
   "metadata": {},
   "outputs": [],
   "source": [
    "uClient = uReq(test_url)\n",
    "monster_page = uClient.read()\n",
    "uClient.close()"
   ]
  },
  {
   "cell_type": "code",
   "execution_count": 6,
   "metadata": {},
   "outputs": [],
   "source": [
    "monster_html = bs(monster_page,'html.parser')"
   ]
  },
  {
   "cell_type": "code",
   "execution_count": 7,
   "metadata": {},
   "outputs": [],
   "source": [
    "# Copy this html & past into https://www.freeformatter.com/html-formatter.html & format it\n",
    "# Then save into text editor\n",
    "#monster_html"
   ]
  },
  {
   "cell_type": "code",
   "execution_count": 8,
   "metadata": {},
   "outputs": [],
   "source": [
    "#Above html we can see lot of java script <script type=\"text/javascript\"> now we need to convert those to HTML code\n",
    "search_job = 'Data Scientist'\n",
    "monster_url = 'https://www.monsterindia.com/srp/results?query='+search_job\n",
    "driver.get(monster_url)\n",
    "driver.implicitly_wait(30)\n",
    "time.sleep(2)"
   ]
  },
  {
   "cell_type": "code",
   "execution_count": 9,
   "metadata": {},
   "outputs": [],
   "source": [
    "#Before apply expand the page details whether 25 record or 5o record or 100 record\n",
    "driver.find_element(By.XPATH, \"//div/div/div/div/div/div[2]/div/div/div/div/div\").click()\n",
    "# Change li =3 for 75 jobs per page\n",
    "driver.find_element(By.XPATH, \"//div[2]/ul/li[4]/span/span\").click()\n",
    "element = driver.find_element(By.XPATH, \"//div/div/div/div/div/div[2]/div/div/div/div/div\")\n",
    "actions = ActionChains(driver)\n",
    "actions.double_click(element).perform()\n",
    "time.sleep(2)"
   ]
  },
  {
   "cell_type": "code",
   "execution_count": 10,
   "metadata": {},
   "outputs": [],
   "source": [
    "source = driver.page_source"
   ]
  },
  {
   "cell_type": "code",
   "execution_count": 11,
   "metadata": {},
   "outputs": [
    {
     "name": "stdout",
     "output_type": "stream",
     "text": [
      "101\n"
     ]
    }
   ],
   "source": [
    "# Convert this page into html \n",
    "html = bs(source,'html.parser')\n",
    "\n",
    "bigboxes = html.findAll('div',{'class':'card-apply-content'})\n",
    "#print(bigboxes)\n",
    "print(len(bigboxes))"
   ]
  },
  {
   "cell_type": "code",
   "execution_count": 12,
   "metadata": {},
   "outputs": [],
   "source": [
    "job_link_list = []\n",
    "for i in list(range(len(bigboxes))):\n",
    "    try:\n",
    "        job_link = 'https'+bigboxes[i].find('div',{'class':'job-tittle'}).h3.a['href']\n",
    "        job_link_list.append(job_link)\n",
    "    except:\n",
    "        job_link_list.append('job link is not available')\n",
    "#job_link_list"
   ]
  },
  {
   "cell_type": "code",
   "execution_count": 13,
   "metadata": {},
   "outputs": [],
   "source": [
    "job_title_list = []\n",
    "for i in list(range(len(bigboxes))):\n",
    "    try:\n",
    "        job_title = bigboxes[i].find('div',{'class':'job-tittle'}).h3.a.text\n",
    "        job_title_list.append(job_title)\n",
    "    except:\n",
    "         job_title_list.append('job_title is not available')\n",
    "#job_title_list"
   ]
  },
  {
   "cell_type": "code",
   "execution_count": 14,
   "metadata": {},
   "outputs": [],
   "source": [
    "company_name_list = []\n",
    "for i in list(range(len(bigboxes))):\n",
    "    try:\n",
    "        company_name = bigboxes[i].find('span',{'class':'company-name'}).text\n",
    "        company_name_list.append(company_name)\n",
    "    except:\n",
    "        company_name_list.append('company_name is not available')\n",
    "#company_name_list"
   ]
  },
  {
   "cell_type": "code",
   "execution_count": 15,
   "metadata": {},
   "outputs": [],
   "source": [
    "job_location_list = []\n",
    "for i in list(range(len(bigboxes))):\n",
    "    try:\n",
    "        job_location = bigboxes[i].find('div',{'class':'job-tittle'}).div.span.small.text.strip()\n",
    "        job_location_list.append(job_location)\n",
    "    except:\n",
    "        job_location_list.append('job_location is not available')\n",
    "#job_location_list"
   ]
  },
  {
   "cell_type": "code",
   "execution_count": 16,
   "metadata": {},
   "outputs": [],
   "source": [
    "Year_of_experience_list =[]\n",
    "for i in list(range(len(bigboxes))):\n",
    "    try:\n",
    "        Year_of_experience =  bigboxes[i].find('div',{'class':'exp col-xxs-12 col-sm-3 text-ellipsis'}).small.text\n",
    "        Year_of_experience_list.append(Year_of_experience)\n",
    "    except:\n",
    "        Year_of_experience_list.append('Year_of_experience is not available')"
   ]
  },
  {
   "cell_type": "code",
   "execution_count": 17,
   "metadata": {},
   "outputs": [
    {
     "data": {
      "text/plain": [
       "'Use POC to test proposed solutions and implement final deployment/operationalisation in product. Design, develop, validate and deploy advanced data products and deliver actionable insights from data analysis.\\n '"
      ]
     },
     "execution_count": 17,
     "metadata": {},
     "output_type": "execute_result"
    }
   ],
   "source": [
    "# job_description = bigboxes[3].find('p',{'class':'job-descrip'}).text\n",
    "# job_description"
   ]
  },
  {
   "cell_type": "code",
   "execution_count": 18,
   "metadata": {},
   "outputs": [],
   "source": [
    "job_description_list=[]\n",
    "\n",
    "for i in list(range(len(bigboxes))):\n",
    "    try:\n",
    "        job_description = bigboxes[i].find('p',{'class':'job-descrip'}).text\n",
    "        job_description_list.append(job_description)\n",
    "    except:\n",
    "          job_description_list.append('job_description is not available')\n",
    "#job_description_list"
   ]
  },
  {
   "cell_type": "code",
   "execution_count": 19,
   "metadata": {},
   "outputs": [],
   "source": [
    "# raw_skill = bigboxes[1].find('p',{'class':'descrip-skills'}).text.\n",
    "# raw_skill.rstrip('\\n')"
   ]
  },
  {
   "cell_type": "code",
   "execution_count": 27,
   "metadata": {},
   "outputs": [],
   "source": [
    "skills_box_list = []\n",
    "for i in list(range(len(bigboxes))):\n",
    "    try:\n",
    "        skills_box = bigboxes[i].find('p',{'class':'descrip-skills'}).text\n",
    "        skills_box_list.append(skills_box)\n",
    "    except:\n",
    "        skills_box_list.append('Skills are not available')\n",
    "#skills_box_list"
   ]
  },
  {
   "cell_type": "code",
   "execution_count": 21,
   "metadata": {},
   "outputs": [],
   "source": [
    "# for skill in skills_box:\n",
    "#     print(skill.a.text.strip(','),end='')    "
   ]
  },
  {
   "cell_type": "code",
   "execution_count": 22,
   "metadata": {},
   "outputs": [],
   "source": [
    "job_posting_time_list = []\n",
    "for i in list(range(len(bigboxes))):\n",
    "    try:\n",
    "        job_posting_time = html.findAll('div',{'class':'card-footer apply-footer no-bdr'})[i].find('div',{'class':'posted-update pl5'}).span.text.strip()\n",
    "        job_posting_time_list.append(job_posting_time)\n",
    "    except:\n",
    "         job_posting_time_list.append('job_posting_timeis not available')"
   ]
  },
  {
   "cell_type": "code",
   "execution_count": 28,
   "metadata": {},
   "outputs": [],
   "source": [
    "job_df = pd.DataFrame({'Job_Link':pd.Series(job_link_list),'Job_Title':pd.Series(job_title_list),'Company_Name':pd.Series(company_name_list),\n",
    "                      'Job_Location':pd.Series(job_location_list),'Year_Of_Experience_list':pd.Series(Year_of_experience_list),\n",
    "                      'Job_Description':pd.Series(job_description_list),'Skills_Box':pd.Series(skills_box_list)})"
   ]
  },
  {
   "cell_type": "code",
   "execution_count": 39,
   "metadata": {},
   "outputs": [
    {
     "data": {
      "text/html": [
       "<div>\n",
       "<style scoped>\n",
       "    .dataframe tbody tr th:only-of-type {\n",
       "        vertical-align: middle;\n",
       "    }\n",
       "\n",
       "    .dataframe tbody tr th {\n",
       "        vertical-align: top;\n",
       "    }\n",
       "\n",
       "    .dataframe thead th {\n",
       "        text-align: right;\n",
       "    }\n",
       "</style>\n",
       "<table border=\"1\" class=\"dataframe\">\n",
       "  <thead>\n",
       "    <tr style=\"text-align: right;\">\n",
       "      <th></th>\n",
       "      <th>Job_Link</th>\n",
       "      <th>Job_Title</th>\n",
       "      <th>Company_Name</th>\n",
       "      <th>Job_Location</th>\n",
       "      <th>Year_Of_Experience_list</th>\n",
       "      <th>Job_Description</th>\n",
       "      <th>Skills_Box</th>\n",
       "    </tr>\n",
       "  </thead>\n",
       "  <tbody>\n",
       "    <tr>\n",
       "      <th>0</th>\n",
       "      <td>https//www.monsterindia.com/job-vacancy-salesf...</td>\n",
       "      <td>Salesforce Architect</td>\n",
       "      <td>Intellect Design Arena Limited</td>\n",
       "      <td>Chennai, Hyderabad / Secunderabad</td>\n",
       "      <td>5-8 Years</td>\n",
       "      <td>Minimum 2 years of design and development expe...</td>\n",
       "      <td>Skills :  \\n                        Salesforce...</td>\n",
       "    </tr>\n",
       "    <tr>\n",
       "      <th>1</th>\n",
       "      <td>https//www.monsterindia.com/seeker/job-details...</td>\n",
       "      <td>Data Scientist</td>\n",
       "      <td>Novateur IT Technologies India Private Limited</td>\n",
       "      <td>Hyderabad / Secunderabad</td>\n",
       "      <td>4-6 Years</td>\n",
       "      <td>Location:Hyderabad\\n Position:Fulltime\\n Compa...</td>\n",
       "      <td>Skills :  \\n                        R\\n       ...</td>\n",
       "    </tr>\n",
       "    <tr>\n",
       "      <th>2</th>\n",
       "      <td>https//www.monsterindia.com/seeker/job-details...</td>\n",
       "      <td>Data Scientist</td>\n",
       "      <td>Encora Innovation Labs India Private Limited</td>\n",
       "      <td>Bengaluru / Bangalore</td>\n",
       "      <td>5-10 Years</td>\n",
       "      <td>5+ years of relevant experience as a Data Sci...</td>\n",
       "      <td>Skills :  \\n                        Data Scien...</td>\n",
       "    </tr>\n",
       "    <tr>\n",
       "      <th>3</th>\n",
       "      <td>https//www.monsterindia.com/seeker/job-details...</td>\n",
       "      <td>Lead Data Scientist</td>\n",
       "      <td>SnapHunt Pte Ltd</td>\n",
       "      <td>Hyderabad / Secunderabad</td>\n",
       "      <td>6-11 Years</td>\n",
       "      <td>Use POC to test proposed solutions and impleme...</td>\n",
       "      <td>Skills :  \\n                        Python\\n  ...</td>\n",
       "    </tr>\n",
       "    <tr>\n",
       "      <th>4</th>\n",
       "      <td>https//www.monsterindia.com/seeker/job-details...</td>\n",
       "      <td>Data Scientist</td>\n",
       "      <td>Andnr Soft Solutions Private Limited</td>\n",
       "      <td>Mumbai</td>\n",
       "      <td>6-10 Years</td>\n",
       "      <td>We are looking for a Data Scientist who will s...</td>\n",
       "      <td>Skills :  \\n                        R\\n       ...</td>\n",
       "    </tr>\n",
       "    <tr>\n",
       "      <th>...</th>\n",
       "      <td>...</td>\n",
       "      <td>...</td>\n",
       "      <td>...</td>\n",
       "      <td>...</td>\n",
       "      <td>...</td>\n",
       "      <td>...</td>\n",
       "      <td>...</td>\n",
       "    </tr>\n",
       "    <tr>\n",
       "      <th>96</th>\n",
       "      <td>https//www.monsterindia.com/seeker/job-details...</td>\n",
       "      <td>urgent opportunity for data scientist in banga...</td>\n",
       "      <td>JB Consultants</td>\n",
       "      <td>Bengaluru / Bangalore</td>\n",
       "      <td>8-18 Years</td>\n",
       "      <td>Position:Sr Data Scientist\\n Experience:8-18 y...</td>\n",
       "      <td>Skills :  \\n                        Data Scien...</td>\n",
       "    </tr>\n",
       "    <tr>\n",
       "      <th>97</th>\n",
       "      <td>https//www.monsterindia.com/seeker/job-details...</td>\n",
       "      <td>Data Analyst – Fresher – Data Scientist – Grad...</td>\n",
       "      <td>Structured Learning Assistance Consultants Ind...</td>\n",
       "      <td>Delhi, Noida</td>\n",
       "      <td>0-5 Years</td>\n",
       "      <td>Fresher Can Apply:\\n \\n Call @ 7303778896 | 95...</td>\n",
       "      <td>Skills :  \\n                        Freshers\\n...</td>\n",
       "    </tr>\n",
       "    <tr>\n",
       "      <th>98</th>\n",
       "      <td>https//www.monsterindia.com/seeker/job-details...</td>\n",
       "      <td>\\t\\tMedical Executive/Senior Medical Executive...</td>\n",
       "      <td>Core Careers Private Limited</td>\n",
       "      <td>Bengaluru / Bangalore, Chennai</td>\n",
       "      <td>2-5 Years</td>\n",
       "      <td>job_description is not available</td>\n",
       "      <td>Skills :  \\n                        Clinical E...</td>\n",
       "    </tr>\n",
       "    <tr>\n",
       "      <th>99</th>\n",
       "      <td>https//www.monsterindia.com/seeker/job-details...</td>\n",
       "      <td>Research Scientist</td>\n",
       "      <td>Singh RanjayKumar(Proprietor Of Zee India Co)</td>\n",
       "      <td>Bengaluru / Bangalore</td>\n",
       "      <td>0-4 Years</td>\n",
       "      <td>Research Scientist Required.</td>\n",
       "      <td>Skills :  \\n                        Research S...</td>\n",
       "    </tr>\n",
       "    <tr>\n",
       "      <th>100</th>\n",
       "      <td>https//www.monsterindia.com/seeker/job-details...</td>\n",
       "      <td>Data Analyst , Senior Data Analyst , Data Anal...</td>\n",
       "      <td>Company Name Confidential</td>\n",
       "      <td>Delhi, Pune</td>\n",
       "      <td>0-5 Years</td>\n",
       "      <td>Data Analyst , Senior Data Analyst , Data Anal...</td>\n",
       "      <td>Skills :  \\n                        Fresher Da...</td>\n",
       "    </tr>\n",
       "  </tbody>\n",
       "</table>\n",
       "<p>101 rows × 7 columns</p>\n",
       "</div>"
      ],
      "text/plain": [
       "                                              Job_Link  \\\n",
       "0    https//www.monsterindia.com/job-vacancy-salesf...   \n",
       "1    https//www.monsterindia.com/seeker/job-details...   \n",
       "2    https//www.monsterindia.com/seeker/job-details...   \n",
       "3    https//www.monsterindia.com/seeker/job-details...   \n",
       "4    https//www.monsterindia.com/seeker/job-details...   \n",
       "..                                                 ...   \n",
       "96   https//www.monsterindia.com/seeker/job-details...   \n",
       "97   https//www.monsterindia.com/seeker/job-details...   \n",
       "98   https//www.monsterindia.com/seeker/job-details...   \n",
       "99   https//www.monsterindia.com/seeker/job-details...   \n",
       "100  https//www.monsterindia.com/seeker/job-details...   \n",
       "\n",
       "                                             Job_Title  \\\n",
       "0                                 Salesforce Architect   \n",
       "1                                      Data Scientist    \n",
       "2                                       Data Scientist   \n",
       "3                                  Lead Data Scientist   \n",
       "4                                       Data Scientist   \n",
       "..                                                 ...   \n",
       "96   urgent opportunity for data scientist in banga...   \n",
       "97   Data Analyst – Fresher – Data Scientist – Grad...   \n",
       "98   \\t\\tMedical Executive/Senior Medical Executive...   \n",
       "99                                 Research Scientist    \n",
       "100  Data Analyst , Senior Data Analyst , Data Anal...   \n",
       "\n",
       "                                          Company_Name  \\\n",
       "0                       Intellect Design Arena Limited   \n",
       "1       Novateur IT Technologies India Private Limited   \n",
       "2         Encora Innovation Labs India Private Limited   \n",
       "3                                     SnapHunt Pte Ltd   \n",
       "4                 Andnr Soft Solutions Private Limited   \n",
       "..                                                 ...   \n",
       "96                                      JB Consultants   \n",
       "97   Structured Learning Assistance Consultants Ind...   \n",
       "98                        Core Careers Private Limited   \n",
       "99       Singh RanjayKumar(Proprietor Of Zee India Co)   \n",
       "100                          Company Name Confidential   \n",
       "\n",
       "                          Job_Location Year_Of_Experience_list  \\\n",
       "0    Chennai, Hyderabad / Secunderabad               5-8 Years   \n",
       "1             Hyderabad / Secunderabad               4-6 Years   \n",
       "2                Bengaluru / Bangalore              5-10 Years   \n",
       "3             Hyderabad / Secunderabad              6-11 Years   \n",
       "4                               Mumbai              6-10 Years   \n",
       "..                                 ...                     ...   \n",
       "96               Bengaluru / Bangalore              8-18 Years   \n",
       "97                        Delhi, Noida               0-5 Years   \n",
       "98      Bengaluru / Bangalore, Chennai               2-5 Years   \n",
       "99               Bengaluru / Bangalore               0-4 Years   \n",
       "100                        Delhi, Pune               0-5 Years   \n",
       "\n",
       "                                       Job_Description  \\\n",
       "0    Minimum 2 years of design and development expe...   \n",
       "1    Location:Hyderabad\\n Position:Fulltime\\n Compa...   \n",
       "2     5+ years of relevant experience as a Data Sci...   \n",
       "3    Use POC to test proposed solutions and impleme...   \n",
       "4    We are looking for a Data Scientist who will s...   \n",
       "..                                                 ...   \n",
       "96   Position:Sr Data Scientist\\n Experience:8-18 y...   \n",
       "97   Fresher Can Apply:\\n \\n Call @ 7303778896 | 95...   \n",
       "98                    job_description is not available   \n",
       "99                        Research Scientist Required.   \n",
       "100  Data Analyst , Senior Data Analyst , Data Anal...   \n",
       "\n",
       "                                            Skills_Box  \n",
       "0    Skills :  \\n                        Salesforce...  \n",
       "1    Skills :  \\n                        R\\n       ...  \n",
       "2    Skills :  \\n                        Data Scien...  \n",
       "3    Skills :  \\n                        Python\\n  ...  \n",
       "4    Skills :  \\n                        R\\n       ...  \n",
       "..                                                 ...  \n",
       "96   Skills :  \\n                        Data Scien...  \n",
       "97   Skills :  \\n                        Freshers\\n...  \n",
       "98   Skills :  \\n                        Clinical E...  \n",
       "99   Skills :  \\n                        Research S...  \n",
       "100  Skills :  \\n                        Fresher Da...  \n",
       "\n",
       "[101 rows x 7 columns]"
      ]
     },
     "execution_count": 39,
     "metadata": {},
     "output_type": "execute_result"
    }
   ],
   "source": [
    "job_df"
   ]
  },
  {
   "cell_type": "code",
   "execution_count": 38,
   "metadata": {},
   "outputs": [
    {
     "data": {
      "text/plain": [
       "'Skills :                          Salesforce Architect                        ,                        SFDC                        ,                         Data Modelling                        ,                         Java                        ,                         Javascript                        ,                         Soap                        ,                         Restful Services                        ,                         Http                        ,                         Java                        ,                         Javascript                        '"
      ]
     },
     "execution_count": 38,
     "metadata": {},
     "output_type": "execute_result"
    }
   ],
   "source": [
    "job_df['Skills_Box'].str.replace('\\\\n','')[0]"
   ]
  },
  {
   "cell_type": "code",
   "execution_count": null,
   "metadata": {},
   "outputs": [],
   "source": []
  }
 ],
 "metadata": {
  "kernelspec": {
   "display_name": "Python 3",
   "language": "python",
   "name": "python3"
  },
  "language_info": {
   "codemirror_mode": {
    "name": "ipython",
    "version": 3
   },
   "file_extension": ".py",
   "mimetype": "text/x-python",
   "name": "python",
   "nbconvert_exporter": "python",
   "pygments_lexer": "ipython3",
   "version": "3.8.5"
  }
 },
 "nbformat": 4,
 "nbformat_minor": 4
}
