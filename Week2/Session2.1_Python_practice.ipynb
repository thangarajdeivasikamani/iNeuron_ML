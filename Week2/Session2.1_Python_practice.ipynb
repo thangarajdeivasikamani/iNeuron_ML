{
 "cells": [
  {
   "cell_type": "markdown",
   "metadata": {},
   "source": [
    "## Python Practice"
   ]
  },
  {
   "cell_type": "code",
   "execution_count": 1,
   "metadata": {},
   "outputs": [
    {
     "name": "stdout",
     "output_type": "stream",
     "text": [
      "{40, 10, 80, 50, 20, 60, 30}\n"
     ]
    }
   ],
   "source": [
    "# Display the duplicate items in the list\n",
    "samp_list = [10, 20, 30, 20, 10, 50, 60, 40, 80, 50, 40]\n",
    "dup_items = set(samp_list)\n",
    "uniq_items = []\n",
    "for x in samp_list:\n",
    "  if x not in dup_items:\n",
    "    uniq_items.append(x)\n",
    "    dup_items.add(x)\n",
    "print(dup_items)"
   ]
  },
  {
   "cell_type": "code",
   "execution_count": 2,
   "metadata": {},
   "outputs": [
    {
     "name": "stdout",
     "output_type": "stream",
     "text": [
      "False\n"
     ]
    }
   ],
   "source": [
    "#The all() function returns True if all items in an iterable are true, otherwise it returns False.\n",
    "mylist = [0, 1, 1]\n",
    "x = all(mylist)\n",
    "print(x)"
   ]
  },
  {
   "cell_type": "code",
   "execution_count": 3,
   "metadata": {},
   "outputs": [
    {
     "name": "stdout",
     "output_type": "stream",
     "text": [
      "False\n"
     ]
    }
   ],
   "source": [
    "#Return True if the statement is not True:\n",
    "x = 1\n",
    "\n",
    "print(not x)"
   ]
  },
  {
   "cell_type": "code",
   "execution_count": 4,
   "metadata": {},
   "outputs": [
    {
     "name": "stdout",
     "output_type": "stream",
     "text": [
      "True\n",
      "False\n",
      "False\n"
     ]
    }
   ],
   "source": [
    "mylist = [0, 1, 1]\n",
    "for i in mylist:\n",
    "    print(not i)"
   ]
  },
  {
   "cell_type": "code",
   "execution_count": 5,
   "metadata": {},
   "outputs": [
    {
     "name": "stdout",
     "output_type": "stream",
     "text": [
      "True\n",
      "True\n",
      "True\n"
     ]
    }
   ],
   "source": [
    "mylist = [[], [], []]\n",
    "for i in mylist:\n",
    "      print(not i)  "
   ]
  },
  {
   "cell_type": "code",
   "execution_count": 6,
   "metadata": {},
   "outputs": [
    {
     "name": "stdout",
     "output_type": "stream",
     "text": [
      "True\n"
     ]
    }
   ],
   "source": [
    "mylist = [[], [], []]\n",
    "x =[]\n",
    "for i in mylist:\n",
    "      x.append(not i) \n",
    "print(all(x))"
   ]
  },
  {
   "cell_type": "code",
   "execution_count": 7,
   "metadata": {},
   "outputs": [
    {
     "name": "stdout",
     "output_type": "stream",
     "text": [
      "True\n",
      "False\n"
     ]
    }
   ],
   "source": [
    "##Write a Python program to check if all dictionaries in a list are empty or not.\n",
    "my_list1 = [{},{},{}]\n",
    "my_list2 = [{123,2345},{},{}]\n",
    "print(all(not d for d in my_list1))\n",
    "print(all(not d for d in my_list2))"
   ]
  },
  {
   "cell_type": "code",
   "execution_count": 8,
   "metadata": {},
   "outputs": [
    {
     "name": "stdout",
     "output_type": "stream",
     "text": [
      "Original List [[110, 120], [240], [330, 456, 425], [310, 220], [133], [240]]\n",
      "[[110, 120], [133], [240], [240], [310, 220], [330, 456, 425]]\n",
      "[True, True, True]\n"
     ]
    }
   ],
   "source": [
    "import itertools\n",
    "num = [[110, 120], [240], [330, 456, 425], [310, 220], [133], [240]]\n",
    "print(\"Original List\", num)\n",
    "num.sort()\n",
    "print(num)\n",
    "x in itertools.groupby(num)\n",
    "print(x)"
   ]
  },
  {
   "cell_type": "code",
   "execution_count": 9,
   "metadata": {},
   "outputs": [
    {
     "name": "stdout",
     "output_type": "stream",
     "text": [
      "Original List [[110, 120], [240], [330, 456, 425], [310, 220], [133], [240]]\n",
      "New List [[110, 120], [133], [240], [310, 220], [330, 456, 425]]\n"
     ]
    }
   ],
   "source": [
    "##Write a Python program to remove duplicates from a list of lists.\n",
    "#Solution\n",
    "import itertools\n",
    "num = [[110, 120], [240], [330, 456, 425], [310, 220], [133], [240]]\n",
    "print(\"Original List\", num)\n",
    "num.sort()\n",
    "new_num = list(num for num,_ in itertools.groupby(num))\n",
    "print(\"New List\", new_num)"
   ]
  },
  {
   "cell_type": "code",
   "execution_count": 10,
   "metadata": {},
   "outputs": [
    {
     "name": "stdout",
     "output_type": "stream",
     "text": [
      "[403, 503, 603, 103, 320, 430]\n"
     ]
    }
   ],
   "source": [
    "# #Write a Python program to extend a list without append.\n",
    "x = [103, 320, 430]\n",
    "y = [403, 503, 603]\n",
    "x[:0] =y\n",
    "print(x)"
   ]
  },
  {
   "cell_type": "code",
   "execution_count": 11,
   "metadata": {},
   "outputs": [
    {
     "name": "stdout",
     "output_type": "stream",
     "text": [
      "230\n",
      "240\n",
      "1211\n",
      "530\n",
      "133\n",
      "240\n"
     ]
    }
   ],
   "source": [
    "##Write a Python program to find the list in a list of lists whose sum of elements is the highest\n",
    "num = [[110, 120], [240], [330, 456, 425], [310, 220], [133], [240]]\n",
    "sum_value =[]\n",
    "for i in num:\n",
    "    print(sum(i))\n",
    "#     sum_value.append(sum(i))\n",
    "# max_index_id = sum_value.index(max(sum_value)) \n",
    "# print(max_index_id)\n",
    "# print(num[max_index_id])"
   ]
  },
  {
   "cell_type": "code",
   "execution_count": 12,
   "metadata": {},
   "outputs": [
    {
     "name": "stdout",
     "output_type": "stream",
     "text": [
      "[10, 11, 12]\n"
     ]
    }
   ],
   "source": [
    "num = [[1,2,3], [4,5,6], [10,11,12], [7,8,9]]\n",
    "print(max(num, key=sum))"
   ]
  },
  {
   "cell_type": "code",
   "execution_count": 13,
   "metadata": {},
   "outputs": [
    {
     "name": "stdout",
     "output_type": "stream",
     "text": [
      "stats\n"
     ]
    }
   ],
   "source": [
    "# #Write a Python program to access dictionary key’s element by index.\n",
    "num = {'stats': 80, 'math': 90, 'algorithm': 86}\n",
    "print(list(num)[0])"
   ]
  },
  {
   "cell_type": "code",
   "execution_count": 14,
   "metadata": {},
   "outputs": [
    {
     "data": {
      "text/plain": [
       "['stats', 'math', 'algorithm']"
      ]
     },
     "execution_count": 14,
     "metadata": {},
     "output_type": "execute_result"
    }
   ],
   "source": [
    "num = {'stats': 80, 'math': 90, 'algorithm': 86}\n",
    "list(num)"
   ]
  },
  {
   "cell_type": "code",
   "execution_count": 15,
   "metadata": {},
   "outputs": [
    {
     "name": "stdout",
     "output_type": "stream",
     "text": [
      "1 red\n",
      "2 while\n",
      "3 black\n"
     ]
    }
   ],
   "source": [
    "##Write a Python program to iterate over two lists simultaneously.\n",
    "num = [1, 2, 3]\n",
    "color = ['red', 'while', 'black']\n",
    "for (a,b) in zip(num, color):\n",
    "   print(a, b)"
   ]
  },
  {
   "cell_type": "code",
   "execution_count": 16,
   "metadata": {},
   "outputs": [
    {
     "name": "stdout",
     "output_type": "stream",
     "text": [
      "['customer100', 'customer123', 'customer345', 'customer567', 'customer789', 'customer890', 'customer98', 'customer876', 'customer543', 'customer678']\n"
     ]
    }
   ],
   "source": [
    "##write a program to insert a string at the begining of every elements in a list\n",
    "a = [100,123,345,567,789,890,98,876,543,678]\n",
    "#enter customer before each element\n",
    "print(['customer{0}'.format(i) for i in a])\n"
   ]
  },
  {
   "cell_type": "code",
   "execution_count": 17,
   "metadata": {},
   "outputs": [
    {
     "name": "stdout",
     "output_type": "stream",
     "text": [
      "False\n",
      "False\n",
      "True\n"
     ]
    }
   ],
   "source": [
    "## write a program to take two lists and print if they have at least one common member\n",
    "num = [1, 2, 3]\n",
    "color = [5,3,3]\n",
    "for (a,b) in zip(num, color):\n",
    "    print(a == b)"
   ]
  },
  {
   "cell_type": "code",
   "execution_count": 18,
   "metadata": {},
   "outputs": [
    {
     "name": "stdout",
     "output_type": "stream",
     "text": [
      "True\n",
      "None\n"
     ]
    }
   ],
   "source": [
    "def common_data(list1, list2):\n",
    "    result = False\n",
    "    for x in list1:\n",
    "        for y in list2:\n",
    "              if x == y:\n",
    "                    result = True\n",
    "                    return result\n",
    "print(common_data([121,222,332,432,125], [125,236,457,678,779]))\n",
    "print(common_data([1,2,3,4,5], [6,7,8,9]))"
   ]
  },
  {
   "cell_type": "code",
   "execution_count": 19,
   "metadata": {},
   "outputs": [
    {
     "name": "stdout",
     "output_type": "stream",
     "text": [
      "[(12, 22, 23), (12, 23, 22), (22, 12, 23), (22, 23, 12), (23, 12, 22), (23, 22, 12)]\n"
     ]
    }
   ],
   "source": [
    "## compute all permutations in a list\n",
    "import itertools\n",
    "print(list(itertools.permutations([12,22,23])))"
   ]
  },
  {
   "cell_type": "code",
   "execution_count": 20,
   "metadata": {},
   "outputs": [],
   "source": [
    "# # create a dictionary\n",
    "dict1 = {'data': '123',\n",
    "'science':'234',\n",
    "'AI': '235'}"
   ]
  },
  {
   "cell_type": "code",
   "execution_count": 21,
   "metadata": {},
   "outputs": [
    {
     "name": "stdout",
     "output_type": "stream",
     "text": [
      "AI: 235\n",
      "data: 123\n",
      "science: 234\n"
     ]
    }
   ],
   "source": [
    "# write a program to sort a dictionary by key.\n",
    "for key in sorted(dict1):\n",
    "     print(\"%s: %s\" % (key, dict1[key]))"
   ]
  },
  {
   "cell_type": "code",
   "execution_count": 22,
   "metadata": {},
   "outputs": [
    {
     "name": "stdout",
     "output_type": "stream",
     "text": [
      "{'x': 'algorithm', 'y': 'statistics', 'z': 'programming'}\n"
     ]
    }
   ],
   "source": [
    "##Write a Python program to get a dictionary from an object's fields.\n",
    "#solution\n",
    "class dictObj(object):\n",
    "    def __init__(self):\n",
    "        self.x = 'algorithm'\n",
    "        self.y = 'statistics'\n",
    "        self.z = 'programming'\n",
    "    def do_nothing(self):\n",
    "        pass\n",
    "test = dictObj()\n",
    "print(test.__dict__)"
   ]
  },
  {
   "cell_type": "code",
   "execution_count": 23,
   "metadata": {},
   "outputs": [
    {
     "name": "stdout",
     "output_type": "stream",
     "text": [
      "{'id1': {'name': ['Sara'], 'class': ['V'], 'subject_integration': ['english, math, science']}, 'id2': {'name': ['David'], 'class': ['V'], 'subject_integration': ['english, math, science']}, 'id4': {'name': ['Surya'], 'class': ['V'], 'subject_integration': ['english, math, science']}}\n"
     ]
    }
   ],
   "source": [
    "## write a program to remove duplicates from Dictionary.\n",
    "#solution\n",
    "student_data = {'id1':\n",
    "{'name': ['Sara'],\n",
    "'class': ['V'],\n",
    "'subject_integration': ['english, math, science']\n",
    "},\n",
    "'id2':\n",
    "{'name': ['David'],\n",
    "'class': ['V'],\n",
    "'subject_integration': ['english, math, science']\n",
    "},\n",
    "'id3':\n",
    "{'name': ['Sara'],\n",
    "'class': ['V'],\n",
    "'subject_integration': ['english, math, science']\n",
    "},\n",
    "'id4':\n",
    "{'name': ['Surya'],\n",
    "'class': ['V'],\n",
    "'subject_integration': ['english, math, science']\n",
    "},\n",
    "}\n",
    "result = {}\n",
    "for key,value in student_data.items():\n",
    "    if value not in result.values():\n",
    "        result[key] = value\n",
    "print(result)"
   ]
  },
  {
   "cell_type": "code",
   "execution_count": 24,
   "metadata": {},
   "outputs": [
    {
     "name": "stdout",
     "output_type": "stream",
     "text": [
      "Counter({'b': 3400, 'a': 1300, 'c': 1300, 'd': 400})\n"
     ]
    }
   ],
   "source": [
    "## write a program to combine two dictionary adding values for common keys\n",
    "from collections import Counter\n",
    "d1 = {'a': 1000, 'b': 3200, 'c':1300}\n",
    "d2 = {'a': 300, 'b': 200, 'd':400}\n",
    "d = Counter(d1) + Counter(d2)\n",
    "print(d)"
   ]
  },
  {
   "cell_type": "code",
   "execution_count": 25,
   "metadata": {},
   "outputs": [
    {
     "name": "stdout",
     "output_type": "stream",
     "text": [
      "Unique Values:  {'S007', 'S002', 'S001', 'S005', 'S009'}\n"
     ]
    }
   ],
   "source": [
    "## write a program to print all unique values from a dictionary in a list\n",
    "data = [{\"V\":\"S001\"}, {\"V\": \"S002\"}, {\"VI\": \"S001\"}, {\"VI\": \"S005\"}, {\"VII\":\"S005\"}, {\n",
    "\"V\":\"S009\"},{\"VIII\":\"S007\"}]\n",
    "u_value = set( val for dic in data for val in dic.values())\n",
    "print(\"Unique Values: \",u_value)"
   ]
  },
  {
   "cell_type": "code",
   "execution_count": 26,
   "metadata": {},
   "outputs": [
    {
     "name": "stdout",
     "output_type": "stream",
     "text": [
      "(3, [2.3, 4.5, 6.7], [1, 2, 3], [True, False, True])\n"
     ]
    }
   ],
   "source": [
    "#a = ['tuple','dict','try']\n",
    "b = [2.3,4.5,6.7]\n",
    "c = [1,2,3]\n",
    "d = [True, False, True]\n",
    "tuple2 = (a,b,c,d)\n",
    "print(tuple2)"
   ]
  },
  {
   "cell_type": "code",
   "execution_count": 27,
   "metadata": {},
   "outputs": [
    {
     "name": "stdout",
     "output_type": "stream",
     "text": [
      "data science has the following options: Red hat\n",
      "Blue mix has the following options: Blue mixx\n",
      "algorithms has the following options: Green gold\n"
     ]
    }
   ],
   "source": [
    "# Create a list of length 3 and Create a list of length 4, For each element in the first list,\n",
    "# Display the corresponding index element of the second list\n",
    "# Create a list of length 3:\n",
    "header = ['data science', 'Blue mix', 'algorithms']\n",
    "# Create a list of length 4:\n",
    "match = ['Red hat', 'Blue mixx','Green gold','Orange Ai']\n",
    "# For each element in the first list,\n",
    "for header, match in zip(header, match):\n",
    "# Display the corresponding index element of the second list:\n",
    "       print(header, 'has the following options:', match)"
   ]
  },
  {
   "cell_type": "code",
   "execution_count": 28,
   "metadata": {},
   "outputs": [
    {
     "data": {
      "text/plain": [
       "[('data science', 'Red hat'),\n",
       " ('data science', 'Blue mixx'),\n",
       " ('data science', 'Green gold'),\n",
       " ('data science', 'Orange Ai'),\n",
       " ('Blue mix', 'Red hat'),\n",
       " ('Blue mix', 'Blue mixx'),\n",
       " ('Blue mix', 'Green gold'),\n",
       " ('Blue mix', 'Orange Ai'),\n",
       " ('algorithms', 'Red hat'),\n",
       " ('algorithms', 'Blue mixx'),\n",
       " ('algorithms', 'Green gold'),\n",
       " ('algorithms', 'Orange Ai')]"
      ]
     },
     "execution_count": 28,
     "metadata": {},
     "output_type": "execute_result"
    }
   ],
   "source": [
    "# display an example of Nested For Loops Using List Comprehension\n",
    "# Create a list of length 3:\n",
    "headers = ['data science', 'Blue mix', 'algorithms']\n",
    "# Create a list of length 4:\n",
    "matches = ['Red hat', 'Blue mixx','Green gold','Orange Ai']\n",
    "[(header, match) for header in headers for match in matches ]"
   ]
  },
  {
   "cell_type": "code",
   "execution_count": 29,
   "metadata": {},
   "outputs": [],
   "source": [
    "#write a program for breaking and exiting out of loop\n",
    "# Create a list:\n",
    "armies = ['Red Army', 'Blue Army', 'Green Army']"
   ]
  },
  {
   "cell_type": "code",
   "execution_count": 30,
   "metadata": {},
   "outputs": [
    {
     "name": "stdout",
     "output_type": "stream",
     "text": [
      "Red Army\n",
      "Blue Army\n",
      "Blue Army Found! Stopping.\n"
     ]
    }
   ],
   "source": [
    "for army in armies:\n",
    "    print(army)\n",
    "    if army == 'Blue Army':\n",
    "        print('Blue Army Found! Stopping.')\n",
    "        break"
   ]
  },
  {
   "cell_type": "code",
   "execution_count": 31,
   "metadata": {},
   "outputs": [
    {
     "name": "stdout",
     "output_type": "stream",
     "text": [
      "Red Army\n",
      "Blue Army\n",
      "Green Army\n",
      "Looped Through The Whole List, No Orange Army Found\n"
     ]
    }
   ],
   "source": [
    "##A loop will exit when completed, but using an else statement we can add an action \n",
    "#at the conclusion of the loop if it hasn’t been exited earlier.\n",
    "for army in armies:\n",
    "    print(army)\n",
    "    if army == 'Orange Army':\n",
    "        break\n",
    "else:\n",
    "    print('Looped Through The Whole List, No Orange Army Found')"
   ]
  },
  {
   "cell_type": "code",
   "execution_count": null,
   "metadata": {},
   "outputs": [],
   "source": []
  }
 ],
 "metadata": {
  "kernelspec": {
   "display_name": "Python 3",
   "language": "python",
   "name": "python3"
  },
  "language_info": {
   "codemirror_mode": {
    "name": "ipython",
    "version": 3
   },
   "file_extension": ".py",
   "mimetype": "text/x-python",
   "name": "python",
   "nbconvert_exporter": "python",
   "pygments_lexer": "ipython3",
   "version": "3.6.8"
  }
 },
 "nbformat": 4,
 "nbformat_minor": 2
}
