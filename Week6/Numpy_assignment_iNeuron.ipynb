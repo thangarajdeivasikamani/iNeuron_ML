{
 "cells": [
  {
   "cell_type": "markdown",
   "metadata": {},
   "source": [
    "# Problem statement 1\n"
   ]
  },
  {
   "cell_type": "raw",
   "metadata": {},
   "source": [
    "Write a function so that the columns of the output matrix are powers of the input\n",
    "vector.\n",
    "The order of the powers is determined by the increasing boolean argument. Specifically, when\n",
    "increasing is False, the i-th output column is the input vector raised element-wise to the power\n",
    "of N - i - 1.\n",
    "HINT: Such a matrix with a geometric progression in each row is named for Alexandre-\n",
    "Theophile Vandermonde."
   ]
  },
  {
   "cell_type": "code",
   "execution_count": 1,
   "metadata": {},
   "outputs": [],
   "source": [
    "# Import the modules\n",
    "import numpy as np"
   ]
  },
  {
   "cell_type": "code",
   "execution_count": 2,
   "metadata": {},
   "outputs": [],
   "source": [
    "def Vandermonde(array_value,length_of_array,flag_value):\n",
    "    if  flag_value == True:\n",
    "        result_values = []\n",
    "        for i in range(length_of_array):\n",
    "            result_values.append(np.array(array_value**i))\n",
    "        return np.column_stack(result_values)\n",
    "    else:\n",
    "        result_values = []\n",
    "        for i in range(length_of_array):\n",
    "            result_values.append(np.array(array_value**(length_of_array-1-i)))\n",
    "        return np.column_stack(result_values)"
   ]
  },
  {
   "cell_type": "code",
   "execution_count": 3,
   "metadata": {},
   "outputs": [],
   "source": [
    "array_value = np.array ([1,2,3,4,5])\n",
    "length_of_array = len(array_value)\n",
    "flag_value = True"
   ]
  },
  {
   "cell_type": "code",
   "execution_count": 4,
   "metadata": {},
   "outputs": [
    {
     "data": {
      "text/plain": [
       "array([[  1,   1,   1,   1,   1],\n",
       "       [  1,   2,   4,   8,  16],\n",
       "       [  1,   3,   9,  27,  81],\n",
       "       [  1,   4,  16,  64, 256],\n",
       "       [  1,   5,  25, 125, 625]], dtype=int32)"
      ]
     },
     "execution_count": 4,
     "metadata": {},
     "output_type": "execute_result"
    }
   ],
   "source": [
    "result = Vandermonde(array_value,length_of_array,flag_value)\n",
    "result"
   ]
  },
  {
   "cell_type": "code",
   "execution_count": 5,
   "metadata": {},
   "outputs": [],
   "source": [
    "array_value = np.array ([1,2,3,4,5])\n",
    "length_of_array = len(array_value)\n",
    "flag_value = False"
   ]
  },
  {
   "cell_type": "code",
   "execution_count": 6,
   "metadata": {},
   "outputs": [
    {
     "data": {
      "text/plain": [
       "array([[  1,   1,   1,   1,   1],\n",
       "       [ 16,   8,   4,   2,   1],\n",
       "       [ 81,  27,   9,   3,   1],\n",
       "       [256,  64,  16,   4,   1],\n",
       "       [625, 125,  25,   5,   1]], dtype=int32)"
      ]
     },
     "execution_count": 6,
     "metadata": {},
     "output_type": "execute_result"
    }
   ],
   "source": [
    "result = Vandermonde(array_value,length_of_array,flag_value)\n",
    "result"
   ]
  },
  {
   "cell_type": "code",
   "execution_count": 7,
   "metadata": {},
   "outputs": [
    {
     "data": {
      "text/plain": [
       "array([[   1,   11,  121, 1331],\n",
       "       [   1,    9,   81,  729],\n",
       "       [   1,   10,  100, 1000],\n",
       "       [   1,    2,    4,    8]], dtype=int32)"
      ]
     },
     "execution_count": 7,
     "metadata": {},
     "output_type": "execute_result"
    }
   ],
   "source": [
    "# Using matirx\n",
    "matrix_value = np.random.randint(16,size = (4,4))\n",
    "array_value = matrix_value[:,2]\n",
    "length_of_array = len(array_value)\n",
    "flag_value = True\n",
    "result = Vandermonde(array_value,length_of_array,flag_value)\n",
    "result"
   ]
  },
  {
   "cell_type": "code",
   "execution_count": 8,
   "metadata": {},
   "outputs": [
    {
     "data": {
      "text/plain": [
       "array([[     1,     19,    361,   6859, 130321],\n",
       "       [     1,      6,     36,    216,   1296],\n",
       "       [     1,      3,      9,     27,     81],\n",
       "       [     1,     11,    121,   1331,  14641],\n",
       "       [     1,     11,    121,   1331,  14641]], dtype=int32)"
      ]
     },
     "execution_count": 8,
     "metadata": {},
     "output_type": "execute_result"
    }
   ],
   "source": [
    "# Using matirx & seed\n",
    "np.random.seed(42)\n",
    "matrix_value = np.random.randint(20,size = (5,4))\n",
    "array_value = matrix_value[:,1]\n",
    "length_of_array = len(array_value)\n",
    "flag_value = True\n",
    "result = Vandermonde(array_value,length_of_array,flag_value)\n",
    "result"
   ]
  },
  {
   "cell_type": "code",
   "execution_count": 9,
   "metadata": {},
   "outputs": [
    {
     "data": {
      "text/plain": [
       "array([[     1,     19,    361,   6859, 130321],\n",
       "       [     1,      6,     36,    216,   1296],\n",
       "       [     1,      3,      9,     27,     81],\n",
       "       [     1,     11,    121,   1331,  14641],\n",
       "       [     1,     11,    121,   1331,  14641]])"
      ]
     },
     "execution_count": 9,
     "metadata": {},
     "output_type": "execute_result"
    }
   ],
   "source": [
    "# inbulit function\n",
    "np.random.seed(42)\n",
    "matrix_value = np.random.randint(20,size = (5,4))\n",
    "array_value = matrix_value[:,1]\n",
    "np.vander(array_value,increasing=True)"
   ]
  },
  {
   "cell_type": "markdown",
   "metadata": {},
   "source": [
    "# Problem statement 2"
   ]
  },
  {
   "attachments": {
    "image.png": {
     "image/png": "[encoded data removed]"
    }
   },
   "cell_type": "markdown",
   "metadata": {},
   "source": [
    "![image.png](attachment:image.png)"
   ]
  },
  {
   "attachments": {
    "image.png": {
     "image/png": "[encoded data removed]"
    }
   },
   "cell_type": "markdown",
   "metadata": {},
   "source": [
    "![image.png](attachment:image.png)"
   ]
  },
  {
   "attachments": {
    "image.png": {
     "image/png": "[encoded data removed]"
    }
   },
   "cell_type": "markdown",
   "metadata": {},
   "source": [
    "![image.png](attachment:image.png)"
   ]
  },
  {
   "cell_type": "code",
   "execution_count": 10,
   "metadata": {},
   "outputs": [
    {
     "data": {
      "text/plain": [
       "array([25., 35., 45., 55., 65., 75., 85.])"
      ]
     },
     "execution_count": 10,
     "metadata": {},
     "output_type": "execute_result"
    }
   ],
   "source": [
    "# Sample problem\n",
    "values = [10,20,30,40,50,60,70,80,90,100]\n",
    "windows_period = 4\n",
    "def simple_moving_avg(x, n):\n",
    "    # insert the zero into zero index\n",
    "    new_array= np.insert(x, 0, 0)\n",
    "    cumsum_value = np.cumsum(new_array)\n",
    "#     print(cumsum_value)\n",
    "#     print(cumsum_value[n:])\n",
    "#     print(cumsum_value[:-n])\n",
    "    return (cumsum_value[n:] - cumsum_value[:-n]) /float(n)\n",
    "result = simple_moving_avg(values,windows_period)\n",
    "result"
   ]
  },
  {
   "cell_type": "code",
   "execution_count": 11,
   "metadata": {},
   "outputs": [],
   "source": [
    "#Question:\n",
    "values = [3,5,7,2,8,10,11,65,72,81,99,100,150]\n",
    "windows_period = 3"
   ]
  },
  {
   "cell_type": "code",
   "execution_count": 12,
   "metadata": {},
   "outputs": [
    {
     "data": {
      "text/plain": [
       "array([  5.        ,   4.66666667,   5.66666667,   6.66666667,\n",
       "         9.66666667,  28.66666667,  49.33333333,  72.66666667,\n",
       "        84.        ,  93.33333333, 116.33333333])"
      ]
     },
     "execution_count": 12,
     "metadata": {},
     "output_type": "execute_result"
    }
   ],
   "source": [
    "result = simple_moving_avg(values,windows_period)\n",
    "result"
   ]
  },
  {
   "cell_type": "code",
   "execution_count": 13,
   "metadata": {},
   "outputs": [],
   "source": [
    "# Using numpy inbuilt method\n",
    "def simple_moving_average(x, w):\n",
    "    return np.convolve(x, np.ones(w), mode = 'valid') / w"
   ]
  },
  {
   "cell_type": "code",
   "execution_count": 14,
   "metadata": {},
   "outputs": [
    {
     "data": {
      "text/plain": [
       "array([  5.        ,   4.66666667,   5.66666667,   6.66666667,\n",
       "         9.66666667,  28.66666667,  49.33333333,  72.66666667,\n",
       "        84.        ,  93.33333333, 116.33333333])"
      ]
     },
     "execution_count": 14,
     "metadata": {},
     "output_type": "execute_result"
    }
   ],
   "source": [
    "result = simple_moving_average(values,windows_period)\n",
    "result"
   ]
  },
  {
   "cell_type": "code",
   "execution_count": null,
   "metadata": {},
   "outputs": [],
   "source": []
  }
 ],
 "metadata": {
  "kernelspec": {
   "display_name": "Python 3",
   "language": "python",
   "name": "python3"
  },
  "language_info": {
   "codemirror_mode": {
    "name": "ipython",
    "version": 3
   },
   "file_extension": ".py",
   "mimetype": "text/x-python",
   "name": "python",
   "nbconvert_exporter": "python",
   "pygments_lexer": "ipython3",
   "version": "3.6.8"
  }
 },
 "nbformat": 4,
 "nbformat_minor": 2
}
