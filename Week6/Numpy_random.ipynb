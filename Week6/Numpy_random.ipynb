{
 "cells": [
  {
   "cell_type": "markdown",
   "metadata": {},
   "source": [
    "# 100 numpy exercises\n",
    "\n",
    "This is a collection of exercises that have been collected in the numpy mailing list, on stack overflow\n",
    "and in the numpy documentation. The goal of this collection is to offer a quick reference for both old\n",
    "and new users but also to provide a set of exercises for those who teach.\n",
    "\n",
    "\n",
    "If you find an error or think you've a better way to solve some of them, feel\n",
    "free to open an issue at <https://github.com/rougier/numpy-100>."
   ]
  },
  {
   "cell_type": "markdown",
   "metadata": {},
   "source": [
    "File automatically generated. See the documentation to update questions/answers/hints programmatically."
   ]
  },
  {
   "cell_type": "markdown",
   "metadata": {},
   "source": [
    "Run the `initialize.py` module, then call a random question with `pick()` an hint towards its solution with\n",
    "`hint(n)` and the answer with `answer(n)`, where n is the number of the picked question."
   ]
  },
  {
   "cell_type": "code",
   "execution_count": 10,
   "metadata": {},
   "outputs": [],
   "source": [
    "#!pip install import mdutils\n",
    "%run initialise.py"
   ]
  },
  {
   "cell_type": "code",
   "execution_count": 12,
   "metadata": {},
   "outputs": [
    {
     "name": "stdout",
     "output_type": "stream",
     "text": [
      "80. Consider an arbitrary array, write a function that extract a subpart with a fixed shape and centered on a given element (pad with a `fill` value when necessary) (★★★)\n"
     ]
    }
   ],
   "source": [
    "pick()"
   ]
  },
  {
   "cell_type": "code",
   "execution_count": 14,
   "metadata": {},
   "outputs": [
    {
     "name": "stdout",
     "output_type": "stream",
     "text": [
      "# Author: Nicolas Rougier\n",
      "\n",
      "Z = np.random.randint(0,10,(10,10))\n",
      "shape = (5,5)\n",
      "fill  = 0\n",
      "position = (1,1)\n",
      "\n",
      "R = np.ones(shape, dtype=Z.dtype)*fill\n",
      "P  = np.array(list(position)).astype(int)\n",
      "Rs = np.array(list(R.shape)).astype(int)\n",
      "Zs = np.array(list(Z.shape)).astype(int)\n",
      "\n",
      "R_start = np.zeros((len(shape),)).astype(int)\n",
      "R_stop  = np.array(list(shape)).astype(int)\n",
      "Z_start = (P-Rs//2)\n",
      "Z_stop  = (P+Rs//2)+Rs%2\n",
      "\n",
      "R_start = (R_start - np.minimum(Z_start,0)).tolist()\n",
      "Z_start = (np.maximum(Z_start,0)).tolist()\n",
      "R_stop = np.maximum(R_start, (R_stop - np.maximum(Z_stop-Zs,0))).tolist()\n",
      "Z_stop = (np.minimum(Z_stop,Zs)).tolist()\n",
      "\n",
      "r = [slice(start,stop) for start,stop in zip(R_start,R_stop)]\n",
      "z = [slice(start,stop) for start,stop in zip(Z_start,Z_stop)]\n",
      "R[r] = Z[z]\n",
      "print(Z)\n",
      "print(R)\n"
     ]
    }
   ],
   "source": [
    "answer(80)"
   ]
  },
  {
   "cell_type": "code",
   "execution_count": 15,
   "metadata": {},
   "outputs": [
    {
     "name": "stdout",
     "output_type": "stream",
     "text": [
      "[[9 9 1 5 1 6 7 0 2 5]\n",
      " [2 8 0 3 7 8 4 1 8 2]\n",
      " [1 5 7 1 1 5 7 3 0 4]\n",
      " [1 2 1 6 0 3 7 4 7 9]\n",
      " [7 2 6 7 2 1 9 3 2 3]\n",
      " [4 5 2 1 3 6 4 4 2 5]\n",
      " [9 9 5 5 4 8 8 8 0 6]\n",
      " [6 4 5 1 2 5 2 1 5 3]\n",
      " [3 6 9 9 1 2 4 0 1 2]\n",
      " [5 3 6 7 4 3 0 0 1 9]]\n",
      "[[0 0 0 0 0]\n",
      " [0 9 9 1 5]\n",
      " [0 2 8 0 3]\n",
      " [0 1 5 7 1]\n",
      " [0 1 2 1 6]]\n"
     ]
    },
    {
     "name": "stderr",
     "output_type": "stream",
     "text": [
      "C:\\ProgramData\\Anaconda3\\lib\\site-packages\\ipykernel_launcher.py:25: FutureWarning: Using a non-tuple sequence for multidimensional indexing is deprecated; use `arr[tuple(seq)]` instead of `arr[seq]`. In the future this will be interpreted as an array index, `arr[np.array(seq)]`, which will result either in an error or a different result.\n"
     ]
    }
   ],
   "source": [
    "# Author: Nicolas Rougier\n",
    "\n",
    "Z = np.random.randint(0,10,(10,10))\n",
    "shape = (5,5)\n",
    "fill  = 0\n",
    "position = (1,1)\n",
    "\n",
    "R = np.ones(shape, dtype=Z.dtype)*fill\n",
    "P  = np.array(list(position)).astype(int)\n",
    "Rs = np.array(list(R.shape)).astype(int)\n",
    "Zs = np.array(list(Z.shape)).astype(int)\n",
    "\n",
    "R_start = np.zeros((len(shape),)).astype(int)\n",
    "R_stop  = np.array(list(shape)).astype(int)\n",
    "Z_start = (P-Rs//2)\n",
    "Z_stop  = (P+Rs//2)+Rs%2\n",
    "\n",
    "R_start = (R_start - np.minimum(Z_start,0)).tolist()\n",
    "Z_start = (np.maximum(Z_start,0)).tolist()\n",
    "R_stop = np.maximum(R_start, (R_stop - np.maximum(Z_stop-Zs,0))).tolist()\n",
    "Z_stop = (np.minimum(Z_stop,Zs)).tolist()\n",
    "\n",
    "r = [slice(start,stop) for start,stop in zip(R_start,R_stop)]\n",
    "z = [slice(start,stop) for start,stop in zip(Z_start,Z_stop)]\n",
    "R[r] = Z[z]\n",
    "print(Z)\n",
    "print(R)"
   ]
  },
  {
   "cell_type": "code",
   "execution_count": null,
   "metadata": {},
   "outputs": [],
   "source": []
  }
 ],
 "metadata": {
  "kernelspec": {
   "display_name": "Python 3",
   "language": "python",
   "name": "python3"
  },
  "language_info": {
   "codemirror_mode": {
    "name": "ipython",
    "version": 3
   },
   "file_extension": ".py",
   "mimetype": "text/x-python",
   "name": "python",
   "nbconvert_exporter": "python",
   "pygments_lexer": "ipython3",
   "version": "3.6.8"
  }
 },
 "nbformat": 4,
 "nbformat_minor": 4
}
