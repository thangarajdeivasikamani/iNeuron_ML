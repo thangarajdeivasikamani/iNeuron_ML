{
 "cells": [
  {
   "cell_type": "markdown",
   "metadata": {},
   "source": [
    "# Object Oriented Programming and File I/O"
   ]
  },
  {
   "cell_type": "markdown",
   "metadata": {},
   "source": [
    "__Object Oriented Programming (OOP)__ is a programming paradigm that allows abstraction through the concept of interacting entities. This programming works contradictory to conventional model and is procedural, in which programs are organized as a sequence of commands or statements to perform.\n",
    "\n",
    "We can think an object as an entity that resides in memory, has a state and it's able to perform some actions. \n",
    " \n",
    "More formally objects are entities that represent **instances** of a general abstract concept called **class**. In `Python`, \"attributes\" are the variables defining an object state and the possible actions are called \"methods\".\n",
    "\n",
    "In Python, everything is an object also classes and functions."
   ]
  },
  {
   "cell_type": "raw",
   "metadata": {},
   "source": [
    "# Class is classification of object, Object is proprerity of realworld object\n",
    "# Group the similar type of operations e.g Read the file from differnt source,Instead of write separate method for each source we can create the class and group the common operation and will call sifferent ways."
   ]
  },
  {
   "cell_type": "markdown",
   "metadata": {},
   "source": [
    "## 1 How to define classes"
   ]
  },
  {
   "cell_type": "markdown",
   "metadata": {},
   "source": [
    "### 1.1 Creating a class"
   ]
  },
  {
   "cell_type": "markdown",
   "metadata": {},
   "source": [
    "Suppose we want to create a class, named Person, as a prototype, a sort of template for any number of 'Person' objects (instances)."
   ]
  },
  {
   "cell_type": "markdown",
   "metadata": {},
   "source": [
    "The following python syntax defines a class:\n",
    "\n",
    "    class ClassName(base_classes):\n",
    "        statements\n",
    "\n",
    "        "
   ]
  },
  {
   "cell_type": "markdown",
   "metadata": {},
   "source": [
    "Class names should always be uppercase (it's a naming convention)."
   ]
  },
  {
   "cell_type": "markdown",
   "metadata": {},
   "source": [
    "Say we need to model a Person as:\n",
    "\n",
    "* Name\n",
    "* Surname  \n",
    "* Age  "
   ]
  },
  {
   "cell_type": "markdown",
   "metadata": {},
   "source": [
    "- Python support both scripting(without some structure) and OOPS some Structure\n",
    "\n",
    "- Basic oops concepts are class,object,Polymorphism,encapsulation,inhertance,method overloading,method overrighting\n",
    "- Any program you can able to write with class and fuction called OOPS\n",
    "- e.g Class car      \n",
    "- if I talk out about car we can say some kind of object,this will give some details(properties) Wheel,audio system,streaing\n",
    "- Class is ther classification of  realword enitity(Blue print)\n",
    "- These details applicable for for that paritcular object. e.g (Audi) \n",
    "- object is real world entity we can able to see and manipulate/varible or instance of class\n",
    "- Here Audi is object of class.\n",
    "- Entire python created based on OOPS concept\n",
    "\n"
   ]
  },
  {
   "cell_type": "code",
   "execution_count": 1,
   "metadata": {},
   "outputs": [
    {
     "data": {
      "text/plain": [
       "4"
      ]
     },
     "execution_count": 1,
     "metadata": {},
     "output_type": "execute_result"
    }
   ],
   "source": [
    "1+3"
   ]
  },
  {
   "cell_type": "code",
   "execution_count": 2,
   "metadata": {},
   "outputs": [
    {
     "name": "stdout",
     "output_type": "stream",
     "text": [
      "<class 'int'>\n"
     ]
    }
   ],
   "source": [
    "# Here  i is varible. This object of int class\n",
    "# Here int class is created by some one else.\n",
    "# Similar way we can create own class do ther operation\n",
    "i = 10 \n",
    "print(type(i))"
   ]
  },
  {
   "cell_type": "code",
   "execution_count": 3,
   "metadata": {},
   "outputs": [
    {
     "name": "stdout",
     "output_type": "stream",
     "text": [
      "<class 'str'>\n"
     ]
    }
   ],
   "source": [
    "s = \"sudh\"\n",
    "print(type(s))"
   ]
  },
  {
   "cell_type": "code",
   "execution_count": 4,
   "metadata": {},
   "outputs": [],
   "source": [
    "class test:\n",
    "    pass"
   ]
  },
  {
   "cell_type": "code",
   "execution_count": 5,
   "metadata": {},
   "outputs": [
    {
     "name": "stdout",
     "output_type": "stream",
     "text": [
      "<class '__main__.test'>\n"
     ]
    }
   ],
   "source": [
    "a = test()\n",
    "print(type(a))# Here type of class test or we can say object of test class"
   ]
  },
  {
   "cell_type": "code",
   "execution_count": 6,
   "metadata": {},
   "outputs": [],
   "source": [
    "# Here we are creaing object b and assigning difffernt varibale\n",
    "class test1:\n",
    "    pass\n",
    "b  = test1() \n",
    "b.name = \"sudh\"\n",
    "b.age = 234\n",
    "b.year_of_birth= 32442"
   ]
  },
  {
   "cell_type": "code",
   "execution_count": 7,
   "metadata": {},
   "outputs": [
    {
     "name": "stdout",
     "output_type": "stream",
     "text": [
      "<__main__.test1 object at 0x0000026D52FF6438>\n"
     ]
    }
   ],
   "source": [
    "print(b)"
   ]
  },
  {
   "cell_type": "code",
   "execution_count": 8,
   "metadata": {},
   "outputs": [
    {
     "data": {
      "text/plain": [
       "'sudh'"
      ]
     },
     "execution_count": 8,
     "metadata": {},
     "output_type": "execute_result"
    }
   ],
   "source": [
    "b.name"
   ]
  },
  {
   "cell_type": "markdown",
   "metadata": {},
   "source": [
    "- Bad way of creating calss and object"
   ]
  },
  {
   "cell_type": "code",
   "execution_count": 9,
   "metadata": {},
   "outputs": [],
   "source": [
    "# We can create any number of object inside the class and call\n",
    "class test1:\n",
    "    pass\n",
    "b  = test1() # Here we are creaing object \n",
    "b.name = \"sudh\"\n",
    "b.age = 234\n",
    "b.year_of_birth= 32442\n",
    "\n",
    "c = test1()\n",
    "c.name = \"sdffs\"\n",
    "c.age= \"Fsdfsf\"\n",
    "c.name = \"sdafsf\"\n",
    "\n",
    "d = test1()\n",
    "d.name = \"raj\"\n",
    "d.age= \"Thanga\"\n",
    "d.surname = \"sdafsf\""
   ]
  },
  {
   "cell_type": "code",
   "execution_count": 10,
   "metadata": {},
   "outputs": [
    {
     "data": {
      "text/plain": [
       "'sudh'"
      ]
     },
     "execution_count": 10,
     "metadata": {},
     "output_type": "execute_result"
    }
   ],
   "source": [
    "# Here I can able to access one be one. This is not good practice\n",
    "b.name"
   ]
  },
  {
   "cell_type": "code",
   "execution_count": 11,
   "metadata": {},
   "outputs": [
    {
     "data": {
      "text/plain": [
       "'raj'"
      ]
     },
     "execution_count": 11,
     "metadata": {},
     "output_type": "execute_result"
    }
   ],
   "source": [
    "d.name"
   ]
  },
  {
   "cell_type": "code",
   "execution_count": 12,
   "metadata": {},
   "outputs": [
    {
     "ename": "AttributeError",
     "evalue": "'test1' object has no attribute 'surname'",
     "output_type": "error",
     "traceback": [
      "\u001b[1;31m---------------------------------------------------------------------------\u001b[0m",
      "\u001b[1;31mAttributeError\u001b[0m                            Traceback (most recent call last)",
      "\u001b[1;32m<ipython-input-12-739c9b76cdb7>\u001b[0m in \u001b[0;36m<module>\u001b[1;34m\u001b[0m\n\u001b[0;32m      1\u001b[0m \u001b[1;31m# But if you try to get unkwon vraible b.sursame will give error becasue it will understand.\u001b[0m\u001b[1;33m\u001b[0m\u001b[1;33m\u001b[0m\u001b[1;33m\u001b[0m\u001b[0m\n\u001b[1;32m----> 2\u001b[1;33m \u001b[0mb\u001b[0m\u001b[1;33m.\u001b[0m\u001b[0msurname\u001b[0m\u001b[1;33m\u001b[0m\u001b[1;33m\u001b[0m\u001b[0m\n\u001b[0m",
      "\u001b[1;31mAttributeError\u001b[0m: 'test1' object has no attribute 'surname'"
     ]
    }
   ],
   "source": [
    "# But if you try to get unkown vraible b.sursame will give error becasue it will understand.\n",
    "b.surname"
   ]
  },
  {
   "cell_type": "code",
   "execution_count": 14,
   "metadata": {},
   "outputs": [
    {
     "name": "stdout",
     "output_type": "stream",
     "text": [
      "<__main__.Person object at 0x0000026D53270EF0>\n",
      "Alec Baldwin was born in 1958.\n"
     ]
    }
   ],
   "source": [
    "class Person:\n",
    "    pass\n",
    "john_doe = Person()\n",
    "john_doe.name = \"Alec\"\n",
    "john_doe.surname = \"Baldwin\"\n",
    "john_doe.year_of_birth = 1958\n",
    "\n",
    "\n",
    "print(john_doe)\n",
    "print(\"%s %s was born in %d.\" %\n",
    "      (john_doe.name, john_doe.surname, john_doe.year_of_birth))"
   ]
  },
  {
   "cell_type": "markdown",
   "metadata": {},
   "source": [
    "- Now also we can get the details , but this not way create the new class"
   ]
  },
  {
   "cell_type": "code",
   "execution_count": 15,
   "metadata": {},
   "outputs": [],
   "source": [
    "class Person:\n",
    "    pass"
   ]
  },
  {
   "cell_type": "markdown",
   "metadata": {},
   "source": [
    "The following example defines an empty class (i.e. the class doesn't have a state) called _Person_ then creates a _Person_ instance called _john_doe_ and adds three attributes to _john_doe_. We see that we can access objects attributes using the \"dot\" operator.\n",
    "\n",
    "This isn't a recommended style because classes should describe homogeneous entities. A way to do so is the following:"
   ]
  },
  {
   "cell_type": "code",
   "execution_count": 16,
   "metadata": {},
   "outputs": [],
   "source": [
    "# __init__ is default,intialize the variable /value to the class\n",
    "# Whenever create the object mandatory parameter needs to be passed to __init__ method arguments.\n",
    "# Any Class we need to start with one pointer like self\n",
    "# Here self is not keyword we can use any name.(like sudh)\n",
    "# Here self help map the varibale to class\n",
    "# Init method will do assignment the variable to class/pass the variable to class\n",
    "# sudh.name these are the variable/pointer associated with class\n",
    "# sudh.name,sudh.surname,sudh.year_of_birth are class variable\n",
    "class Person:\n",
    "    def __init__(sudh, name, surname, year_of_birth):\n",
    "        sudh.name = name   # name,surname are data variable\n",
    "        sudh.surname = surname\n",
    "        sudh.year_of_birth = year_of_birth"
   ]
  },
  {
   "cell_type": "code",
   "execution_count": 17,
   "metadata": {},
   "outputs": [
    {
     "name": "stdout",
     "output_type": "stream",
     "text": [
      "sudh\n",
      "<__main__.Person object at 0x0000026D532362B0>\n"
     ]
    }
   ],
   "source": [
    "a = Person(\"sudh\",\"kumar\",535345)\n",
    "print(a.name)\n",
    "#b = Person(\"dfdfa\",\"fsdf\",543)\n",
    "#b.name\n",
    "print(a)"
   ]
  },
  {
   "cell_type": "code",
   "execution_count": 18,
   "metadata": {},
   "outputs": [
    {
     "ename": "AttributeError",
     "evalue": "'Person' object has no attribute 'name'",
     "output_type": "error",
     "traceback": [
      "\u001b[1;31m---------------------------------------------------------------------------\u001b[0m",
      "\u001b[1;31mAttributeError\u001b[0m                            Traceback (most recent call last)",
      "\u001b[1;32m<ipython-input-18-10a78c589d2c>\u001b[0m in \u001b[0;36m<module>\u001b[1;34m\u001b[0m\n\u001b[0;32m      6\u001b[0m         \u001b[0msudh\u001b[0m\u001b[1;33m.\u001b[0m\u001b[0myear_of_birth\u001b[0m \u001b[1;33m=\u001b[0m \u001b[0myear_of_birth\u001b[0m\u001b[1;33m\u001b[0m\u001b[1;33m\u001b[0m\u001b[0m\n\u001b[0;32m      7\u001b[0m \u001b[0ma\u001b[0m \u001b[1;33m=\u001b[0m \u001b[0mPerson\u001b[0m\u001b[1;33m(\u001b[0m\u001b[1;34m\"sudh\"\u001b[0m\u001b[1;33m,\u001b[0m\u001b[1;34m\"kumar\"\u001b[0m\u001b[1;33m,\u001b[0m\u001b[1;36m535345\u001b[0m\u001b[1;33m)\u001b[0m\u001b[1;33m\u001b[0m\u001b[1;33m\u001b[0m\u001b[0m\n\u001b[1;32m----> 8\u001b[1;33m \u001b[0mprint\u001b[0m\u001b[1;33m(\u001b[0m\u001b[0ma\u001b[0m\u001b[1;33m.\u001b[0m\u001b[0mname\u001b[0m\u001b[1;33m)\u001b[0m\u001b[1;33m\u001b[0m\u001b[1;33m\u001b[0m\u001b[0m\n\u001b[0m",
      "\u001b[1;31mAttributeError\u001b[0m: 'Person' object has no attribute 'name'"
     ]
    }
   ],
   "source": [
    "# Change the class variable & try to call will give error\n",
    "class Person:\n",
    "    def __init__(sudh, name, surname, year_of_birth):\n",
    "        sudh.name1 = name   # name,surname are data variable\n",
    "        sudh.surname = surname\n",
    "        sudh.year_of_birth = year_of_birth\n",
    "a = Person(\"sudh\",\"kumar\",535345)\n",
    "print(a.name)"
   ]
  },
  {
   "cell_type": "code",
   "execution_count": 19,
   "metadata": {},
   "outputs": [],
   "source": [
    "# Good way to use self\n",
    "class Person:\n",
    "    def __init__(self, name, surname, year_of_birth):\n",
    "        self.name = name\n",
    "        self.surname = surname\n",
    "        self.year_of_birth = year_of_birth"
   ]
  },
  {
   "cell_type": "code",
   "execution_count": 20,
   "metadata": {},
   "outputs": [
    {
     "data": {
      "text/plain": [
       "'dfdfa'"
      ]
     },
     "execution_count": 20,
     "metadata": {},
     "output_type": "execute_result"
    }
   ],
   "source": [
    "b = Person(\"dfdfa\",\"fsdf\",543)\n",
    "b.name"
   ]
  },
  {
   "cell_type": "markdown",
   "metadata": {},
   "source": [
    "    __init__(self, ...)\n",
    "Is a special _Python_ method that is automatically called after an object construction. Its purpose is to initialize every object state. The first argument (by convention) __self__ is automatically passed either and refers to the object itself.\n",
    "\n",
    "In the preceding example, `__init__` adds three attributes to every object that is instantiated. So the class is actually describing each object's state.\n"
   ]
  },
  {
   "cell_type": "markdown",
   "metadata": {},
   "source": [
    "We cannot directly manipulate any class rather we need to create an instance of the class: "
   ]
  },
  {
   "cell_type": "code",
   "execution_count": 22,
   "metadata": {},
   "outputs": [
    {
     "name": "stdout",
     "output_type": "stream",
     "text": [
      "<__main__.Person object at 0x0000026D5322BAC8>\n",
      "Alechgffh Baldwin was born in 1958.\n"
     ]
    }
   ],
   "source": [
    "alec = Person(\"Alechgffh\", \"Baldwin\", 1958)\n",
    "print(alec)\n",
    "print(\"%s %s was born in %d.\" % (alec.name, alec.surname, alec.year_of_birth))"
   ]
  },
  {
   "cell_type": "markdown",
   "metadata": {},
   "source": [
    "\n",
    "We have just created an instance of the Person class, bound to the variable `alec`. "
   ]
  },
  {
   "cell_type": "markdown",
   "metadata": {},
   "source": [
    "### 1.2 Methods"
   ]
  },
  {
   "cell_type": "code",
   "execution_count": 23,
   "metadata": {},
   "outputs": [],
   "source": [
    "class test:\n",
    "    def __init__(self):\n",
    "        pass"
   ]
  },
  {
   "cell_type": "code",
   "execution_count": 24,
   "metadata": {},
   "outputs": [
    {
     "name": "stdout",
     "output_type": "stream",
     "text": [
      "<__main__.Person object at 0x0000026D53263BE0>\n"
     ]
    }
   ],
   "source": [
    "# without str method\n",
    "class Person:\n",
    "    \n",
    "    def __init__(a, name, surname, year_of_birth):\n",
    "        a.name = name\n",
    "        a.surname = surname\n",
    "        a.year_of_birth = year_of_birth\n",
    "\n",
    "    def age(a, current_year):\n",
    "        return current_year - a.year_of_birth   \n",
    "    \n",
    "    \n",
    "alec = Person(\"Alec\", \"Baldwin\", 1958)\n",
    "print(alec) # Here printing only object varibale memory info"
   ]
  },
  {
   "cell_type": "code",
   "execution_count": 25,
   "metadata": {},
   "outputs": [
    {
     "data": {
      "text/plain": [
       "<__main__.Person at 0x26d53263358>"
      ]
     },
     "execution_count": 25,
     "metadata": {},
     "output_type": "execute_result"
    }
   ],
   "source": [
    "# In this example variable a is used instead of self.\n",
    "class Person:\n",
    "    \n",
    "    def __init__(a, name, surname, year_of_birth):\n",
    "        a.name = name\n",
    "        a.surname = surname\n",
    "        a.year_of_birth = year_of_birth\n",
    "\n",
    "    def age(a, current_year):\n",
    "        return current_year - a.year_of_birth   \n",
    "    \n",
    "    \n",
    "    def __str__(a):  # This will help to print the object info # retun can be any type\n",
    "        return \"%s %s was born in %d .\" % (a.name, a.surname, a.year_of_birth)\n",
    "        \n",
    "alec = Person(\"Alec\", \"Baldwin\", 1958)\n",
    "alec # will give object variable"
   ]
  },
  {
   "cell_type": "code",
   "execution_count": 26,
   "metadata": {},
   "outputs": [
    {
     "name": "stdout",
     "output_type": "stream",
     "text": [
      "Alec Baldwin was born in 1958 .\n",
      "56\n"
     ]
    }
   ],
   "source": [
    "# _Str__ will return meaningful info (Will overwrite and provide the required info)\n",
    "# don't use any integer inside the __str__ return\n",
    "print(alec) # will get meaning info\n",
    "print(alec.age(2014))"
   ]
  },
  {
   "cell_type": "code",
   "execution_count": 27,
   "metadata": {},
   "outputs": [
    {
     "name": "stdout",
     "output_type": "stream",
     "text": [
      "Alec Baldwin was born in 1958 .\n"
     ]
    },
    {
     "data": {
      "text/plain": [
       "{'name': 'Alec', 'surname': 'Baldwin', 'year_of_birth': 1958}"
      ]
     },
     "execution_count": 27,
     "metadata": {},
     "output_type": "execute_result"
    }
   ],
   "source": [
    "print(alec)\n",
    "alec.__dict__"
   ]
  },
  {
   "cell_type": "code",
   "execution_count": 28,
   "metadata": {},
   "outputs": [
    {
     "data": {
      "text/plain": [
       "'Alec'"
      ]
     },
     "execution_count": 28,
     "metadata": {},
     "output_type": "execute_result"
    }
   ],
   "source": [
    "# I can access \n",
    "alec.name"
   ]
  },
  {
   "cell_type": "code",
   "execution_count": 29,
   "metadata": {},
   "outputs": [],
   "source": [
    "# In this same exmaple new varibale b is used inside the addtionaly added function.\n",
    "# e.g inside concatlist b instead of self\n",
    "class Person:\n",
    "    \n",
    "    def __init__(a, name, surname, year_of_birth):\n",
    "        a.name = name\n",
    "        a.surname = surname\n",
    "        a.year_of_birth = year_of_birth\n",
    "\n",
    "    def age(a, current_year):\n",
    "        return current_year - a.year_of_birth\n",
    "    \n",
    "    \n",
    "    def concatlist(b,lst1,lst2): # Differnt point name b instead of a\n",
    "        return lst1+lst2\n",
    "       \n",
    "    \n",
    "    def __str__(a):\n",
    "        return \"%s %s was born in %d .\" % (a.name, a.surname, a.year_of_birth)\n"
   ]
  },
  {
   "cell_type": "code",
   "execution_count": 30,
   "metadata": {},
   "outputs": [
    {
     "ename": "TypeError",
     "evalue": "__init__() missing 3 required positional arguments: 'name', 'surname', and 'year_of_birth'",
     "output_type": "error",
     "traceback": [
      "\u001b[1;31m---------------------------------------------------------------------------\u001b[0m",
      "\u001b[1;31mTypeError\u001b[0m                                 Traceback (most recent call last)",
      "\u001b[1;32m<ipython-input-30-1f01c93f3205>\u001b[0m in \u001b[0;36m<module>\u001b[1;34m\u001b[0m\n\u001b[1;32m----> 1\u001b[1;33m \u001b[0mtest1\u001b[0m \u001b[1;33m=\u001b[0m \u001b[0mPerson\u001b[0m\u001b[1;33m(\u001b[0m\u001b[1;33m)\u001b[0m \u001b[1;31m# without passing value call the class & access the variable\u001b[0m\u001b[1;33m\u001b[0m\u001b[1;33m\u001b[0m\u001b[0m\n\u001b[0m\u001b[0;32m      2\u001b[0m \u001b[0mPerson\u001b[0m\u001b[1;33m.\u001b[0m\u001b[0mname\u001b[0m\u001b[1;33m\u001b[0m\u001b[1;33m\u001b[0m\u001b[0m\n",
      "\u001b[1;31mTypeError\u001b[0m: __init__() missing 3 required positional arguments: 'name', 'surname', and 'year_of_birth'"
     ]
    }
   ],
   "source": [
    "test1 = Person() # without passing value call the class & access the variable\n",
    "Person.name"
   ]
  },
  {
   "cell_type": "code",
   "execution_count": 31,
   "metadata": {},
   "outputs": [
    {
     "data": {
      "text/plain": [
       "[1, 2, 3, 4, 5, 6, 7, 8]"
      ]
     },
     "execution_count": 31,
     "metadata": {},
     "output_type": "execute_result"
    }
   ],
   "source": [
    "# Create the object and call concatlist method\n",
    "alec1 = Person(\"Alec\", \"Baldwin\", 1958)\n",
    "alec1.concatlist([1,2,3,4],[5,6,7,8])"
   ]
  },
  {
   "cell_type": "markdown",
   "metadata": {},
   "source": [
    "We defined two more methods `age` and  `__str__`. The latter is once again a special method that is called by Python when the object has to be represented as a string (e.g. when has to be printed). If the `__str__` method isn't defined the **print** command shows the type of object and its address in memory. We can see that in order to call a method we use the same syntax for attributes (**instance_name.instance _method**)."
   ]
  },
  {
   "cell_type": "markdown",
   "metadata": {},
   "source": [
    " - <b> Which constructor __init__ will take if we have created the class with mu;tiple __init__\n",
    "It always consider last one <b>"
   ]
  },
  {
   "cell_type": "code",
   "execution_count": 32,
   "metadata": {},
   "outputs": [],
   "source": [
    "# Multiple _init__ inside the class: last __init __ will consider\n",
    "class Person:\n",
    "    \n",
    "    def __init__(a, name, surname, year_of_birth):  # Three agrument\n",
    "        a.name = name\n",
    "        a.surname = surname\n",
    "        a.year_of_birth = year_of_birth\n",
    "        \n",
    "    def __init__(a, name):  # Signle arugment\n",
    "        a.name = name\n",
    "\n",
    "    \n",
    "    def __init__(a, name, surname):  # Two agrument\n",
    "        a.name = name\n",
    "        a.surname = surname\n",
    "      \n",
    "\n",
    "    def age(a, current_year):\n",
    "        return current_year - a.year_of_birth\n",
    "    \n",
    "    \n",
    "    def concatlist(b,lst1,lst2): \n",
    "        return lst1+lst2\n",
    "       \n",
    "    \n",
    "    def __str__(a):\n",
    "        return \"%s %s was born in %d .\" % (a.name, a.surname, a.year_of_birth)"
   ]
  },
  {
   "cell_type": "code",
   "execution_count": 33,
   "metadata": {},
   "outputs": [
    {
     "ename": "TypeError",
     "evalue": "__init__() missing 1 required positional argument: 'surname'",
     "output_type": "error",
     "traceback": [
      "\u001b[1;31m---------------------------------------------------------------------------\u001b[0m",
      "\u001b[1;31mTypeError\u001b[0m                                 Traceback (most recent call last)",
      "\u001b[1;32m<ipython-input-33-c3348b97e727>\u001b[0m in \u001b[0;36m<module>\u001b[1;34m\u001b[0m\n\u001b[0;32m      1\u001b[0m \u001b[0malec2\u001b[0m \u001b[1;33m=\u001b[0m \u001b[0mPerson\u001b[0m\u001b[1;33m(\u001b[0m\u001b[1;34m\"sdh\"\u001b[0m\u001b[1;33m,\u001b[0m\u001b[1;34m'test'\u001b[0m\u001b[1;33m)\u001b[0m\u001b[1;33m\u001b[0m\u001b[1;33m\u001b[0m\u001b[0m\n\u001b[1;32m----> 2\u001b[1;33m \u001b[0malec1\u001b[0m \u001b[1;33m=\u001b[0m \u001b[0mPerson\u001b[0m\u001b[1;33m(\u001b[0m\u001b[1;34m\"gergesrg\"\u001b[0m\u001b[1;33m)\u001b[0m\u001b[1;33m\u001b[0m\u001b[1;33m\u001b[0m\u001b[0m\n\u001b[0m\u001b[0;32m      3\u001b[0m \u001b[0malec2\u001b[0m\u001b[1;33m.\u001b[0m\u001b[0mname\u001b[0m\u001b[1;33m\u001b[0m\u001b[1;33m\u001b[0m\u001b[0m\n",
      "\u001b[1;31mTypeError\u001b[0m: __init__() missing 1 required positional argument: 'surname'"
     ]
    }
   ],
   "source": [
    "alec2 = Person(\"sdh\",'test')\n",
    "alec1 = Person(\"gergesrg\")\n",
    "alec2.name"
   ]
  },
  {
   "cell_type": "markdown",
   "metadata": {},
   "source": [
    "### 1.3 Bad practice"
   ]
  },
  {
   "cell_type": "markdown",
   "metadata": {},
   "source": [
    "It is possible to create a class without the `__init__` method, but this is not a recommended style because classes should describe homogeneous entities."
   ]
  },
  {
   "cell_type": "code",
   "execution_count": 34,
   "metadata": {},
   "outputs": [],
   "source": [
    "# Create the class with own setter & getter method\n",
    "# These function will just pass to class\n",
    "# Here there is no return\n",
    "class Person:\n",
    "  \n",
    "    def set_name(self, name): \n",
    "        self.name = name\n",
    "        \n",
    "    def set_surname(self, surname):\n",
    "        self.surname = surname\n",
    "        \n",
    "    def set_year_of_birth(self, year_of_birth):\n",
    "        self.year_of_birth = year_of_birth\n",
    "        \n",
    "    def age(self, current_year):\n",
    "        return current_year - self.year_of_birth\n",
    "    \n",
    "    def __str__(self):\n",
    "        return \"%s %s was born in %d .\" \\\n",
    "                % (self.name, self.surname, self.year_of_birth)\n",
    "    "
   ]
  },
  {
   "cell_type": "markdown",
   "metadata": {},
   "source": [
    "In this case, an empty instance of the class Person is created, and no attributes have been initialized while instantiating:"
   ]
  },
  {
   "cell_type": "code",
   "execution_count": 35,
   "metadata": {},
   "outputs": [
    {
     "ename": "AttributeError",
     "evalue": "'Person' object has no attribute 'name'",
     "output_type": "error",
     "traceback": [
      "\u001b[1;31m---------------------------------------------------------------------------\u001b[0m",
      "\u001b[1;31mAttributeError\u001b[0m                            Traceback (most recent call last)",
      "\u001b[1;32m<ipython-input-35-3b616245aedb>\u001b[0m in \u001b[0;36m<module>\u001b[1;34m\u001b[0m\n\u001b[0;32m      1\u001b[0m \u001b[1;31m# If we create object & call name variable won't work without set.\u001b[0m\u001b[1;33m\u001b[0m\u001b[1;33m\u001b[0m\u001b[1;33m\u001b[0m\u001b[0m\n\u001b[0;32m      2\u001b[0m \u001b[0mpresident\u001b[0m \u001b[1;33m=\u001b[0m \u001b[0mPerson\u001b[0m\u001b[1;33m(\u001b[0m\u001b[1;33m)\u001b[0m\u001b[1;33m\u001b[0m\u001b[1;33m\u001b[0m\u001b[0m\n\u001b[1;32m----> 3\u001b[1;33m \u001b[0mpresident\u001b[0m\u001b[1;33m.\u001b[0m\u001b[0mname\u001b[0m\u001b[1;33m\u001b[0m\u001b[1;33m\u001b[0m\u001b[0m\n\u001b[0m",
      "\u001b[1;31mAttributeError\u001b[0m: 'Person' object has no attribute 'name'"
     ]
    }
   ],
   "source": [
    "# If we create object & call name variable won't work without set.\n",
    "president = Person()\n",
    "president.name"
   ]
  },
  {
   "cell_type": "markdown",
   "metadata": {},
   "source": [
    "This raises an Attribute Error... We need to set the attributes:"
   ]
  },
  {
   "cell_type": "code",
   "execution_count": 36,
   "metadata": {},
   "outputs": [
    {
     "name": "stdout",
     "output_type": "stream",
     "text": [
      "fdf\n",
      "sudh\n"
     ]
    }
   ],
   "source": [
    "# Set the name & call\n",
    "president = Person()\n",
    "president.set_name(\"sudh\")\n",
    "president.set_surname(\"fdf\")\n",
    "print(president.surname)\n",
    "print(president.name)"
   ]
  },
  {
   "cell_type": "code",
   "execution_count": 37,
   "metadata": {},
   "outputs": [],
   "source": [
    "president.set_name('John')\n",
    "president.set_surname('Doe')\n",
    "president.set_year_of_birth(1940)"
   ]
  },
  {
   "cell_type": "code",
   "execution_count": 38,
   "metadata": {},
   "outputs": [
    {
     "name": "stdout",
     "output_type": "stream",
     "text": [
      "Mr John Doe is the president, and he is very old. He is 74\n"
     ]
    }
   ],
   "source": [
    "print('Mr', president.name, president.surname,\n",
    "      'is the president, and he is very old. He is',\n",
    "      president.age(2014))"
   ]
  },
  {
   "cell_type": "markdown",
   "metadata": {},
   "source": [
    "### 1.4 Protect your abstraction"
   ]
  },
  {
   "cell_type": "markdown",
   "metadata": {},
   "source": [
    "Here the instance attributes shouldn't be accessible by the end user of an object as they are powerful mean of abstraction they should not reveal the internal implementation detail. In Python, there is no specific strict mechanism to protect object attributes but the official guidelines suggest that a variable that has an underscore prefix should be treated as 'Private'.\n",
    "\n",
    "Moreover prepending two underscores to a variable name makes the interpreter mangle a little the variable name."
   ]
  },
  {
   "cell_type": "markdown",
   "metadata": {},
   "source": [
    "Abstraction: Actually python does not have any abstraction\n",
    "- Public :Any can access from with in class,outside class,with in package,outside package e.g list class, We can access all abstraction or instance\n",
    "- Protected : _ access from with in class,outside class,with in package\n",
    "- Private : __ only with in class\n",
    "- Python is not implemented this way\n",
    "- Python use different notation used.\n",
    "- Abstraction meaning is same but implemention is differnt\n",
    "- _ used for protectd\n",
    "- __ used for private\n",
    "- Abstraction is one of the OOPS concept\n",
    "- Class,Object,Abstration,inhertance,encapsulation,Polymorphism are list of OOPS concept"
   ]
  },
  {
   "cell_type": "code",
   "execution_count": 39,
   "metadata": {},
   "outputs": [
    {
     "name": "stdout",
     "output_type": "stream",
     "text": [
      "Alec Baldwin and was born 1958.\n",
      "Alec\n"
     ]
    },
    {
     "data": {
      "text/plain": [
       "{'name': 'Alec', '_surname': 'Baldwin', '_Person__year_of_birth': 1958}"
      ]
     },
     "execution_count": 39,
     "metadata": {},
     "output_type": "execute_result"
    }
   ],
   "source": [
    "# Here we are use _ symbolic used infront of variable: means protected variable\n",
    "# If it's required call with _ while creation the object\n",
    "class Person:\n",
    "    def __init__(self, name, surname, year_of_birth):\n",
    "        self.name = name # Puplic\n",
    "        self._surname = surname # Protected\n",
    "        self.__year_of_birth = year_of_birth # private\n",
    "    \n",
    "    def age(self, current_year):\n",
    "        return current_year - self._year_of_birth\n",
    "    \n",
    "    def __str__(self):\n",
    "        return \"%s %s and was born %d.\" \\\n",
    "                % (self.name, self._surname, self.__year_of_birth)\n",
    "    \n",
    "alec = Person(\"Alec\", \"Baldwin\", 1958)\n",
    "print(alec)\n",
    "print(alec.name)\n",
    "alec.__dict__"
   ]
  },
  {
   "cell_type": "code",
   "execution_count": 40,
   "metadata": {},
   "outputs": [
    {
     "name": "stdout",
     "output_type": "stream",
     "text": [
      "Baldwin\n"
     ]
    },
    {
     "data": {
      "text/plain": [
       "{'name': 'Alec', '_surname': 'Baldwin', '_Person__year_of_birth': 1958}"
      ]
     },
     "execution_count": 40,
     "metadata": {},
     "output_type": "execute_result"
    }
   ],
   "source": [
    "# Use with _ symbolic\n",
    "print(alec._surname)\n",
    "alec.__dict__ # Will show how the datas were stored internally"
   ]
  },
  {
   "cell_type": "code",
   "execution_count": 41,
   "metadata": {},
   "outputs": [
    {
     "ename": "AttributeError",
     "evalue": "'Person' object has no attribute '__year_of_birth'",
     "output_type": "error",
     "traceback": [
      "\u001b[1;31m---------------------------------------------------------------------------\u001b[0m",
      "\u001b[1;31mAttributeError\u001b[0m                            Traceback (most recent call last)",
      "\u001b[1;32m<ipython-input-41-b213a9a13671>\u001b[0m in \u001b[0;36m<module>\u001b[1;34m\u001b[0m\n\u001b[0;32m      1\u001b[0m \u001b[1;31m# Use with __ symbolic # Private can't access outside\u001b[0m\u001b[1;33m\u001b[0m\u001b[1;33m\u001b[0m\u001b[1;33m\u001b[0m\u001b[0m\n\u001b[1;32m----> 2\u001b[1;33m \u001b[0mprint\u001b[0m\u001b[1;33m(\u001b[0m\u001b[0malec\u001b[0m\u001b[1;33m.\u001b[0m\u001b[0m__year_of_birth\u001b[0m\u001b[1;33m)\u001b[0m\u001b[1;33m\u001b[0m\u001b[1;33m\u001b[0m\u001b[0m\n\u001b[0m",
      "\u001b[1;31mAttributeError\u001b[0m: 'Person' object has no attribute '__year_of_birth'"
     ]
    }
   ],
   "source": [
    "# Use with __ symbolic # Private can't access outside\n",
    "print(alec.__year_of_birth)\n"
   ]
  },
  {
   "cell_type": "code",
   "execution_count": 42,
   "metadata": {},
   "outputs": [
    {
     "ename": "AttributeError",
     "evalue": "'Person' object has no attribute '_name'",
     "output_type": "error",
     "traceback": [
      "\u001b[1;31m---------------------------------------------------------------------------\u001b[0m",
      "\u001b[1;31mAttributeError\u001b[0m                            Traceback (most recent call last)",
      "\u001b[1;32m<ipython-input-42-5f3a84e0da9d>\u001b[0m in \u001b[0;36m<module>\u001b[1;34m\u001b[0m\n\u001b[0;32m     16\u001b[0m \u001b[0malec\u001b[0m \u001b[1;33m=\u001b[0m \u001b[0mPerson\u001b[0m\u001b[1;33m(\u001b[0m\u001b[1;34m\"Alec\"\u001b[0m\u001b[1;33m,\u001b[0m \u001b[1;34m\"Baldwin\"\u001b[0m\u001b[1;33m,\u001b[0m \u001b[1;36m1958\u001b[0m\u001b[1;33m)\u001b[0m\u001b[1;33m\u001b[0m\u001b[1;33m\u001b[0m\u001b[0m\n\u001b[0;32m     17\u001b[0m \u001b[0malec\u001b[0m\u001b[1;33m.\u001b[0m\u001b[0m__dict__\u001b[0m\u001b[1;33m\u001b[0m\u001b[1;33m\u001b[0m\u001b[0m\n\u001b[1;32m---> 18\u001b[1;33m \u001b[0mprint\u001b[0m\u001b[1;33m(\u001b[0m\u001b[0malec\u001b[0m\u001b[1;33m)\u001b[0m\u001b[1;33m\u001b[0m\u001b[1;33m\u001b[0m\u001b[0m\n\u001b[0m\u001b[0;32m     19\u001b[0m \u001b[0mprint\u001b[0m\u001b[1;33m(\u001b[0m\u001b[0malec\u001b[0m\u001b[1;33m.\u001b[0m\u001b[0m__name\u001b[0m\u001b[1;33m)\u001b[0m\u001b[1;33m\u001b[0m\u001b[1;33m\u001b[0m\u001b[0m\n",
      "\u001b[1;32m<ipython-input-42-5f3a84e0da9d>\u001b[0m in \u001b[0;36m__str__\u001b[1;34m(self)\u001b[0m\n\u001b[0;32m     12\u001b[0m     \u001b[1;32mdef\u001b[0m \u001b[0m__str__\u001b[0m\u001b[1;33m(\u001b[0m\u001b[0mself\u001b[0m\u001b[1;33m)\u001b[0m\u001b[1;33m:\u001b[0m\u001b[1;33m\u001b[0m\u001b[1;33m\u001b[0m\u001b[0m\n\u001b[0;32m     13\u001b[0m         \u001b[1;32mreturn\u001b[0m \u001b[1;34m\"%s %s and was born %d.\"\u001b[0m\u001b[0;31m \u001b[0m\u001b[0;31m\\\u001b[0m\u001b[1;33m\u001b[0m\u001b[1;33m\u001b[0m\u001b[0m\n\u001b[1;32m---> 14\u001b[1;33m                 \u001b[1;33m%\u001b[0m \u001b[1;33m(\u001b[0m\u001b[0mself\u001b[0m\u001b[1;33m.\u001b[0m\u001b[0m_name\u001b[0m\u001b[1;33m,\u001b[0m \u001b[0mself\u001b[0m\u001b[1;33m.\u001b[0m\u001b[0m_surname\u001b[0m\u001b[1;33m,\u001b[0m \u001b[0mself\u001b[0m\u001b[1;33m.\u001b[0m\u001b[0m__year_of_birth\u001b[0m\u001b[1;33m)\u001b[0m\u001b[1;33m\u001b[0m\u001b[1;33m\u001b[0m\u001b[0m\n\u001b[0m\u001b[0;32m     15\u001b[0m \u001b[1;33m\u001b[0m\u001b[0m\n\u001b[0;32m     16\u001b[0m \u001b[0malec\u001b[0m \u001b[1;33m=\u001b[0m \u001b[0mPerson\u001b[0m\u001b[1;33m(\u001b[0m\u001b[1;34m\"Alec\"\u001b[0m\u001b[1;33m,\u001b[0m \u001b[1;34m\"Baldwin\"\u001b[0m\u001b[1;33m,\u001b[0m \u001b[1;36m1958\u001b[0m\u001b[1;33m)\u001b[0m\u001b[1;33m\u001b[0m\u001b[1;33m\u001b[0m\u001b[0m\n",
      "\u001b[1;31mAttributeError\u001b[0m: 'Person' object has no attribute '_name'"
     ]
    }
   ],
   "source": [
    "# Here we are use __ symbolic used infront of variable:  means all are private variable\n",
    "# If it's required call with __\n",
    "class Person:\n",
    "    def __init__(self, name, surname, year_of_birth):\n",
    "        self.__name = name\n",
    "        self.__surname = surname\n",
    "        self.__year_of_birth = year_of_birth\n",
    "    \n",
    "    def age(self, current_year):\n",
    "        return current_year - self.__year_of_birth\n",
    "    \n",
    "    def __str__(self):  \n",
    "        return \"%s %s and was born %d.\" \\\n",
    "                % (self._name, self._surname, self.__year_of_birth)\n",
    "    \n",
    "alec = Person(\"Alec\", \"Baldwin\", 1958)\n",
    "alec.__dict__\n",
    "print(alec)\n",
    "print(alec.__name)\n"
   ]
  },
  {
   "cell_type": "code",
   "execution_count": 43,
   "metadata": {},
   "outputs": [
    {
     "ename": "AttributeError",
     "evalue": "'Person' object has no attribute '_name'",
     "output_type": "error",
     "traceback": [
      "\u001b[1;31m---------------------------------------------------------------------------\u001b[0m",
      "\u001b[1;31mAttributeError\u001b[0m                            Traceback (most recent call last)",
      "\u001b[1;32m<ipython-input-43-13eb3ce861cf>\u001b[0m in \u001b[0;36m<module>\u001b[1;34m\u001b[0m\n\u001b[0;32m      1\u001b[0m \u001b[0malec\u001b[0m \u001b[1;33m=\u001b[0m \u001b[0mPerson\u001b[0m\u001b[1;33m(\u001b[0m\u001b[1;34m\"Alec\"\u001b[0m\u001b[1;33m,\u001b[0m \u001b[1;34m\"Baldwin\"\u001b[0m\u001b[1;33m,\u001b[0m \u001b[1;36m1958\u001b[0m\u001b[1;33m)\u001b[0m\u001b[1;33m\u001b[0m\u001b[1;33m\u001b[0m\u001b[0m\n\u001b[1;32m----> 2\u001b[1;33m \u001b[0mprint\u001b[0m\u001b[1;33m(\u001b[0m\u001b[0malec\u001b[0m\u001b[1;33m)\u001b[0m\u001b[1;33m\u001b[0m\u001b[1;33m\u001b[0m\u001b[0m\n\u001b[0m\u001b[0;32m      3\u001b[0m \u001b[0mprint\u001b[0m\u001b[1;33m(\u001b[0m\u001b[0malec\u001b[0m\u001b[1;33m.\u001b[0m\u001b[0m__year_of_birth\u001b[0m\u001b[1;33m)\u001b[0m\u001b[1;33m\u001b[0m\u001b[1;33m\u001b[0m\u001b[0m\n\u001b[0;32m      4\u001b[0m \u001b[0malec\u001b[0m\u001b[1;33m.\u001b[0m\u001b[0m__dict__\u001b[0m\u001b[1;33m\u001b[0m\u001b[1;33m\u001b[0m\u001b[0m\n",
      "\u001b[1;32m<ipython-input-42-5f3a84e0da9d>\u001b[0m in \u001b[0;36m__str__\u001b[1;34m(self)\u001b[0m\n\u001b[0;32m     12\u001b[0m     \u001b[1;32mdef\u001b[0m \u001b[0m__str__\u001b[0m\u001b[1;33m(\u001b[0m\u001b[0mself\u001b[0m\u001b[1;33m)\u001b[0m\u001b[1;33m:\u001b[0m\u001b[1;33m\u001b[0m\u001b[1;33m\u001b[0m\u001b[0m\n\u001b[0;32m     13\u001b[0m         \u001b[1;32mreturn\u001b[0m \u001b[1;34m\"%s %s and was born %d.\"\u001b[0m\u001b[0;31m \u001b[0m\u001b[0;31m\\\u001b[0m\u001b[1;33m\u001b[0m\u001b[1;33m\u001b[0m\u001b[0m\n\u001b[1;32m---> 14\u001b[1;33m                 \u001b[1;33m%\u001b[0m \u001b[1;33m(\u001b[0m\u001b[0mself\u001b[0m\u001b[1;33m.\u001b[0m\u001b[0m_name\u001b[0m\u001b[1;33m,\u001b[0m \u001b[0mself\u001b[0m\u001b[1;33m.\u001b[0m\u001b[0m_surname\u001b[0m\u001b[1;33m,\u001b[0m \u001b[0mself\u001b[0m\u001b[1;33m.\u001b[0m\u001b[0m__year_of_birth\u001b[0m\u001b[1;33m)\u001b[0m\u001b[1;33m\u001b[0m\u001b[1;33m\u001b[0m\u001b[0m\n\u001b[0m\u001b[0;32m     15\u001b[0m \u001b[1;33m\u001b[0m\u001b[0m\n\u001b[0;32m     16\u001b[0m \u001b[0malec\u001b[0m \u001b[1;33m=\u001b[0m \u001b[0mPerson\u001b[0m\u001b[1;33m(\u001b[0m\u001b[1;34m\"Alec\"\u001b[0m\u001b[1;33m,\u001b[0m \u001b[1;34m\"Baldwin\"\u001b[0m\u001b[1;33m,\u001b[0m \u001b[1;36m1958\u001b[0m\u001b[1;33m)\u001b[0m\u001b[1;33m\u001b[0m\u001b[1;33m\u001b[0m\u001b[0m\n",
      "\u001b[1;31mAttributeError\u001b[0m: 'Person' object has no attribute '_name'"
     ]
    }
   ],
   "source": [
    "alec = Person(\"Alec\", \"Baldwin\", 1958)\n",
    "print(alec)\n",
    "print(alec.__year_of_birth)\n",
    "alec.__dict__"
   ]
  },
  {
   "cell_type": "markdown",
   "metadata": {},
   "source": [
    "- <b> Eventhough we called with __ we are not able access because private we will not access outside the class\n",
    "-  Eventhough we asked __year_of_birth will check name.because default start from begining <b>"
   ]
  },
  {
   "cell_type": "code",
   "execution_count": 44,
   "metadata": {},
   "outputs": [],
   "source": [
    "# This example combination of all three\n",
    "class Person:\n",
    "    def __init__(self, name, surname, year_of_birth):\n",
    "        self.name = name # Puplic\n",
    "        self._surname = surname\n",
    "        self.__year_of_birth = year_of_birth\n",
    "    \n",
    "    def age(self, current_year):\n",
    "        return current_year - self.__year_of_birth\n",
    "    \n",
    "    def __str__(self): # Here used format \n",
    "        return \"{} {} and was born {}.\" \\\n",
    "                % (self.__name, self.__surname, self.__year_of_birth)\n",
    "    \n",
    "alec = Person(\"Alec\", \"Baldwin\", 1958)\n",
    "\n",
    "\n"
   ]
  },
  {
   "cell_type": "code",
   "execution_count": 45,
   "metadata": {},
   "outputs": [
    {
     "ename": "AttributeError",
     "evalue": "'Person' object has no attribute '__name'",
     "output_type": "error",
     "traceback": [
      "\u001b[1;31m---------------------------------------------------------------------------\u001b[0m",
      "\u001b[1;31mAttributeError\u001b[0m                            Traceback (most recent call last)",
      "\u001b[1;32m<ipython-input-45-26bd91c9a046>\u001b[0m in \u001b[0;36m<module>\u001b[1;34m\u001b[0m\n\u001b[0;32m      1\u001b[0m \u001b[1;31m# inside the class created puplic and try to access as private\u001b[0m\u001b[1;33m\u001b[0m\u001b[1;33m\u001b[0m\u001b[1;33m\u001b[0m\u001b[0m\n\u001b[1;32m----> 2\u001b[1;33m \u001b[0mprint\u001b[0m\u001b[1;33m(\u001b[0m\u001b[0malec\u001b[0m\u001b[1;33m.\u001b[0m\u001b[0m__name\u001b[0m\u001b[1;33m)\u001b[0m \u001b[1;31m# will not store as expected\u001b[0m\u001b[1;33m\u001b[0m\u001b[1;33m\u001b[0m\u001b[0m\n\u001b[0m",
      "\u001b[1;31mAttributeError\u001b[0m: 'Person' object has no attribute '__name'"
     ]
    }
   ],
   "source": [
    "# inside the class created puplic and try to access as private\n",
    "print(alec.__name) # will not store as expected"
   ]
  },
  {
   "cell_type": "code",
   "execution_count": 46,
   "metadata": {},
   "outputs": [
    {
     "data": {
      "text/plain": [
       "{'name': 'Alec', '_surname': 'Baldwin', '_Person__year_of_birth': 1958}"
      ]
     },
     "execution_count": 46,
     "metadata": {},
     "output_type": "execute_result"
    }
   ],
   "source": [
    "# Now to check hoe the system stored the varibale in differnet way.\n",
    "alec.__dict__"
   ]
  },
  {
   "cell_type": "markdown",
   "metadata": {},
   "source": [
    "`__dict__` is a special attribute is a dictionary containing each attribute of an object. We can see that prepending two underscores every key has `_ClassName__` prepended."
   ]
  },
  {
   "cell_type": "markdown",
   "metadata": {},
   "source": [
    "- <b> Technic to access the private varibale data <b>"
   ]
  },
  {
   "cell_type": "code",
   "execution_count": 47,
   "metadata": {},
   "outputs": [
    {
     "data": {
      "text/plain": [
       "1958"
      ]
     },
     "execution_count": 47,
     "metadata": {},
     "output_type": "execute_result"
    }
   ],
   "source": [
    "# Now try to call with above dict how it's listed\n",
    "alec._Person__year_of_birth"
   ]
  },
  {
   "cell_type": "code",
   "execution_count": 49,
   "metadata": {},
   "outputs": [],
   "source": [
    "# Similar to variable method needs to  be created with public,protected,private"
   ]
  },
  {
   "cell_type": "code",
   "execution_count": 51,
   "metadata": {},
   "outputs": [],
   "source": [
    "class xyz:\n",
    "    def __init__(self, a , b ,c) :\n",
    "        self.a = a \n",
    "        self.b = b\n",
    "        self.c = c\n",
    "    def test(self):\n",
    "        return \"this is  a public method\"\n",
    "    def _test1(self):\n",
    "        print(\"this is a protected method\")\n",
    "    def __test2(self):\n",
    "        print(\"this is a private method\")"
   ]
  },
  {
   "cell_type": "code",
   "execution_count": 52,
   "metadata": {},
   "outputs": [
    {
     "data": {
      "text/plain": [
       "'this is  a public method'"
      ]
     },
     "execution_count": 52,
     "metadata": {},
     "output_type": "execute_result"
    }
   ],
   "source": [
    "obj = xyz(3,4,5)\n",
    "obj.test()"
   ]
  },
  {
   "cell_type": "code",
   "execution_count": 53,
   "metadata": {},
   "outputs": [
    {
     "name": "stdout",
     "output_type": "stream",
     "text": [
      "this is a protected method\n"
     ]
    }
   ],
   "source": [
    "obj._test1()"
   ]
  },
  {
   "cell_type": "code",
   "execution_count": 54,
   "metadata": {},
   "outputs": [
    {
     "ename": "AttributeError",
     "evalue": "'xyz' object has no attribute '__test'",
     "output_type": "error",
     "traceback": [
      "\u001b[1;31m---------------------------------------------------------------------------\u001b[0m",
      "\u001b[1;31mAttributeError\u001b[0m                            Traceback (most recent call last)",
      "\u001b[1;32m<ipython-input-54-2dc561b6fad2>\u001b[0m in \u001b[0;36m<module>\u001b[1;34m\u001b[0m\n\u001b[0;32m      1\u001b[0m \u001b[1;31m## We can't access because not able to call out side the class\u001b[0m\u001b[1;33m\u001b[0m\u001b[1;33m\u001b[0m\u001b[1;33m\u001b[0m\u001b[0m\n\u001b[1;32m----> 2\u001b[1;33m \u001b[0mobj\u001b[0m\u001b[1;33m.\u001b[0m\u001b[0m__test\u001b[0m\u001b[1;33m(\u001b[0m\u001b[1;33m)\u001b[0m\u001b[1;33m\u001b[0m\u001b[1;33m\u001b[0m\u001b[0m\n\u001b[0m",
      "\u001b[1;31mAttributeError\u001b[0m: 'xyz' object has no attribute '__test'"
     ]
    }
   ],
   "source": [
    "## We can't access because not able to call out side the class\n",
    "obj.__test()"
   ]
  },
  {
   "cell_type": "markdown",
   "metadata": {},
   "source": [
    "<b> # But we can access the private variable also using below notation. so Python does not have any abstraction like other lanagauge. Any one can access anything, This is purely based on maturity of developer<b>"
   ]
  },
  {
   "cell_type": "code",
   "execution_count": 55,
   "metadata": {},
   "outputs": [
    {
     "name": "stdout",
     "output_type": "stream",
     "text": [
      "this is a private method\n"
     ]
    }
   ],
   "source": [
    "obj._xyz__test2()"
   ]
  },
  {
   "cell_type": "markdown",
   "metadata": {},
   "source": [
    "## 2 Inheritance"
   ]
  },
  {
   "cell_type": "markdown",
   "metadata": {},
   "source": [
    "Once a class is defined it models a concept. It is useful to extend a class behavior to model a less general concept. Say we need to model a Student, but we know that every student is also a Person so we shouldn't model the Person again but inherit from it instead."
   ]
  },
  {
   "cell_type": "code",
   "execution_count": 56,
   "metadata": {},
   "outputs": [
    {
     "data": {
      "text/plain": [
       "'this is  a public method'"
      ]
     },
     "execution_count": 56,
     "metadata": {},
     "output_type": "execute_result"
    }
   ],
   "source": [
    "class xyz:\n",
    "    def __init__(self, a , b ,c = 5 ) :\n",
    "        self.a = a \n",
    "        self.b = b\n",
    "        self.c = c\n",
    "    def test(self):\n",
    "        return \"this is  a public method\"\n",
    "# direct way access the class   \n",
    "obj = xyz(4,5,6)\n",
    "obj.test()"
   ]
  },
  {
   "cell_type": "code",
   "execution_count": 57,
   "metadata": {},
   "outputs": [],
   "source": [
    "# suppouse I want access the main class variable or property of another class\n",
    "# without rewrite\n",
    "class abc(xyz):\n",
    "    pass"
   ]
  },
  {
   "cell_type": "code",
   "execution_count": 58,
   "metadata": {},
   "outputs": [
    {
     "data": {
      "text/plain": [
       "'this is  a public method'"
      ]
     },
     "execution_count": 58,
     "metadata": {},
     "output_type": "execute_result"
    }
   ],
   "source": [
    "obj = abc(4,5,6)\n",
    "obj.test()"
   ]
  },
  {
   "cell_type": "raw",
   "metadata": {},
   "source": [
    "# Now I want to overwrite the main clas/parent class variable"
   ]
  },
  {
   "cell_type": "code",
   "execution_count": 59,
   "metadata": {},
   "outputs": [],
   "source": [
    "class abc(xyz):\n",
    "    def __init__(self,a,b):\n",
    "        xyz.__init__(self,a,b) # inside the child call restricated main/partens class variable"
   ]
  },
  {
   "cell_type": "code",
   "execution_count": 61,
   "metadata": {},
   "outputs": [
    {
     "data": {
      "text/plain": [
       "'this is  a public method'"
      ]
     },
     "execution_count": 61,
     "metadata": {},
     "output_type": "execute_result"
    }
   ],
   "source": [
    "# Try to access\n",
    "obj = abc(4,5)\n",
    "obj.test()"
   ]
  },
  {
   "cell_type": "code",
   "execution_count": 62,
   "metadata": {},
   "outputs": [],
   "source": [
    "# Even we can create child with more variable.\n",
    "class abc(xyz):\n",
    "    def __init__(self,a,b,d,n):\n",
    "        xyz.__init__(self,a,b)\n",
    "        self.d = d  # Local variable to child\n",
    "        self.n = n"
   ]
  },
  {
   "cell_type": "code",
   "execution_count": 63,
   "metadata": {},
   "outputs": [
    {
     "ename": "TypeError",
     "evalue": "__init__() missing 2 required positional arguments: 'd' and 'n'",
     "output_type": "error",
     "traceback": [
      "\u001b[1;31m---------------------------------------------------------------------------\u001b[0m",
      "\u001b[1;31mTypeError\u001b[0m                                 Traceback (most recent call last)",
      "\u001b[1;32m<ipython-input-63-8bdae3a17694>\u001b[0m in \u001b[0;36m<module>\u001b[1;34m\u001b[0m\n\u001b[0;32m      1\u001b[0m \u001b[1;31m# Try to access will get error because now you are calling with only two variable\u001b[0m\u001b[1;33m\u001b[0m\u001b[1;33m\u001b[0m\u001b[1;33m\u001b[0m\u001b[0m\n\u001b[1;32m----> 2\u001b[1;33m \u001b[0mobj\u001b[0m \u001b[1;33m=\u001b[0m \u001b[0mabc\u001b[0m\u001b[1;33m(\u001b[0m\u001b[1;36m4\u001b[0m\u001b[1;33m,\u001b[0m\u001b[1;36m5\u001b[0m\u001b[1;33m)\u001b[0m\u001b[1;33m\u001b[0m\u001b[1;33m\u001b[0m\u001b[0m\n\u001b[0m\u001b[0;32m      3\u001b[0m \u001b[0mobj\u001b[0m\u001b[1;33m.\u001b[0m\u001b[0mtest\u001b[0m\u001b[1;33m(\u001b[0m\u001b[1;33m)\u001b[0m\u001b[1;33m\u001b[0m\u001b[1;33m\u001b[0m\u001b[0m\n",
      "\u001b[1;31mTypeError\u001b[0m: __init__() missing 2 required positional arguments: 'd' and 'n'"
     ]
    }
   ],
   "source": [
    "# Try to access will get error because now you are calling with only two variable\n",
    "obj = abc(4,5)\n",
    "obj.test()"
   ]
  },
  {
   "cell_type": "code",
   "execution_count": 64,
   "metadata": {},
   "outputs": [
    {
     "data": {
      "text/plain": [
       "'this is  a public method'"
      ]
     },
     "execution_count": 64,
     "metadata": {},
     "output_type": "execute_result"
    }
   ],
   "source": [
    "# Try to access with 4 input & check\n",
    "obj = abc(4,5,7,8)\n",
    "obj.test()"
   ]
  },
  {
   "cell_type": "code",
   "execution_count": 65,
   "metadata": {},
   "outputs": [],
   "source": [
    "# insead of using partent class name we can use supper\n",
    "# Super will map the inhert from partent class variable\n",
    "class abc(xyz):\n",
    "    def __init__(self,a,b,d,n):\n",
    "        super().__init__(self,a,b)\n",
    "        self.d = d  # Local variable to child\n",
    "        self.n = n"
   ]
  },
  {
   "cell_type": "code",
   "execution_count": 66,
   "metadata": {},
   "outputs": [
    {
     "name": "stdout",
     "output_type": "stream",
     "text": [
      "<__main__.abc object at 0x0000026D52FF6588>\n",
      "5\n"
     ]
    }
   ],
   "source": [
    "# Call the subclass & access the main class varible & sub class variable\n",
    "# Here if you see the main class varible not to able to access\n",
    "obj2 = abc(\"sudh\",\"fdsfsf\",5,6)\n",
    "print(obj2.a)\n",
    "print(obj2.d)"
   ]
  },
  {
   "cell_type": "code",
   "execution_count": 67,
   "metadata": {},
   "outputs": [
    {
     "data": {
      "text/plain": [
       "'this is  a public method'"
      ]
     },
     "execution_count": 67,
     "metadata": {},
     "output_type": "execute_result"
    }
   ],
   "source": [
    "# Able to access the method\n",
    "obj2.test()"
   ]
  },
  {
   "cell_type": "code",
   "execution_count": 68,
   "metadata": {},
   "outputs": [],
   "source": [
    "# Now redefine the partents variable in child class and try to access\n",
    "class abc(xyz):\n",
    "    def __init__(self,a,b,d,n):\n",
    "        super().__init__(self,a,b)\n",
    "        self.d = d  # Local variable to child\n",
    "        self.n = n\n",
    "        self.a = a\n",
    "        self.b = b"
   ]
  },
  {
   "cell_type": "code",
   "execution_count": 69,
   "metadata": {},
   "outputs": [
    {
     "name": "stdout",
     "output_type": "stream",
     "text": [
      "sudh\n",
      "5\n"
     ]
    },
    {
     "data": {
      "text/plain": [
       "'this is  a public method'"
      ]
     },
     "execution_count": 69,
     "metadata": {},
     "output_type": "execute_result"
    }
   ],
   "source": [
    "# Now try to access\n",
    "obj2 = abc(\"sudh\",\"fdsfsf\",5,6)\n",
    "print(obj2.a)\n",
    "print(obj2.d)\n",
    "obj2.test()"
   ]
  },
  {
   "cell_type": "code",
   "execution_count": 70,
   "metadata": {},
   "outputs": [
    {
     "name": "stdout",
     "output_type": "stream",
     "text": [
      "sudh\n"
     ]
    },
    {
     "data": {
      "text/plain": [
       "'this is  a public method'"
      ]
     },
     "execution_count": 70,
     "metadata": {},
     "output_type": "execute_result"
    }
   ],
   "source": [
    "# # Anotherway instead of re define the local vraible inside the super use child method name\n",
    "class xyz:\n",
    "    def __init__(self,a,b,c=5 ) :\n",
    "        self.a = a \n",
    "        self.b = b\n",
    "        self.c = c\n",
    "    def test(self):\n",
    "        return \"this is  a public method\"\n",
    "\n",
    "class abc(xyz):\n",
    "    def __init__(self,a,c,d,n):\n",
    "        super(abc,self).__init__(a,b) # Note: Should not use self here\n",
    "        self.d = d \n",
    "        self.n = n\n",
    "# Now try to access\n",
    "obj2 = abc(\"sudh\",\"fdsfsf\",5,6)\n",
    "print(obj2.a)\n",
    "obj2.test()"
   ]
  },
  {
   "cell_type": "code",
   "execution_count": 71,
   "metadata": {},
   "outputs": [
    {
     "name": "stdout",
     "output_type": "stream",
     "text": [
      "sudh\n"
     ]
    },
    {
     "data": {
      "text/plain": [
       "'this is  a public method'"
      ]
     },
     "execution_count": 71,
     "metadata": {},
     "output_type": "execute_result"
    }
   ],
   "source": [
    "# another method using *arg\n",
    "class xyz:\n",
    "    def __init__(self,a,b,c=5) :\n",
    "        self.a = a \n",
    "        self.b = b\n",
    "        self.c = c\n",
    "    def test(self):\n",
    "        return \"this is  a public method\"\n",
    "\n",
    "class abc(xyz):\n",
    "    def __init__(self,*arg):\n",
    "        super(abc,self).__init__(*arg) \n",
    "     \n",
    "# Now try to access\n",
    "obj2 = abc(\"sudh\",\"fdsfsf\")\n",
    "print(obj2.a)\n",
    "obj2.test()\n"
   ]
  },
  {
   "cell_type": "code",
   "execution_count": 72,
   "metadata": {},
   "outputs": [
    {
     "data": {
      "text/plain": [
       "True"
      ]
     },
     "execution_count": 72,
     "metadata": {},
     "output_type": "execute_result"
    }
   ],
   "source": [
    "# Check whether  object we created is instance of main class\n",
    "isinstance(obj2,xyz)"
   ]
  },
  {
   "cell_type": "code",
   "execution_count": 73,
   "metadata": {},
   "outputs": [
    {
     "data": {
      "text/plain": [
       "True"
      ]
     },
     "execution_count": 73,
     "metadata": {},
     "output_type": "execute_result"
    }
   ],
   "source": [
    "isinstance(obj2,abc)"
   ]
  },
  {
   "cell_type": "code",
   "execution_count": 74,
   "metadata": {},
   "outputs": [],
   "source": [
    "# Another example with child class with local variable & *arg"
   ]
  },
  {
   "cell_type": "code",
   "execution_count": 75,
   "metadata": {},
   "outputs": [
    {
     "name": "stdout",
     "output_type": "stream",
     "text": [
      "100\n",
      "<class '__main__.Student'>\n",
      "True\n",
      "True\n"
     ]
    }
   ],
   "source": [
    "# *args call all the partents class\n",
    "# *kwarg call key value pair like dict\n",
    "class Student(Person):\n",
    "    def __init__(self, student_id, *args):  \n",
    "        super(Student, self).__init__(*args)\n",
    "        self._student_id = student_id\n",
    "        \n",
    "charlie = Student(100, 'Charlie', 'Brown', 2006) # Here 100 will assign to student_id & other will map to par class variable\n",
    "print(charlie._student_id)\n",
    "print(type(charlie)) # Check type\n",
    "print(isinstance(charlie, Person)) # Check instance\n",
    "print(isinstance(charlie, object))\n"
   ]
  },
  {
   "cell_type": "markdown",
   "metadata": {},
   "source": [
    "Charlie now has the same behavior of a Person, but his state has also a student ID. A Person is one of the base classes of Student and Student is one of the sub classes of Person. Be aware that a subclass knows about its superclasses but the converse isn't true.\n",
    "\n",
    "A sub class doesn't only inherits from its base classes, but from its base classes too, forming an inheritance tree that starts from a object (every class base class).\n",
    "\n",
    "    super(Class, instance)\n",
    "    \n",
    "is a function that returns a proxy-object that delegates method calls to a parent or sibling class of type.\n",
    "So we used it to access Person's `__init__`."
   ]
  },
  {
   "cell_type": "markdown",
   "metadata": {},
   "source": [
    "# Multi Inhertance"
   ]
  },
  {
   "cell_type": "code",
   "execution_count": 76,
   "metadata": {},
   "outputs": [
    {
     "name": "stdout",
     "output_type": "stream",
     "text": [
      "A\n"
     ]
    }
   ],
   "source": [
    "# Here A class also Test method and B class also same Test Method\n",
    "# Now  child class c inhertit from both a and b parents class and call the test method\n",
    "# From child C we can access both methods.\n",
    "# This is called multi Class , to achive the access the multi class\n",
    "class A():\n",
    "\n",
    "    def test(self):\n",
    "        print('A')\n",
    "        \n",
    "class B():\n",
    "    def test(self):\n",
    "        print('B')\n",
    "        \n",
    "        \n",
    "class c(A,B):\n",
    "#     obja=A()\n",
    "#     objb=B()\n",
    "#     obja.test()\n",
    "#     objb.test()\n",
    "     pass\n",
    "\n",
    "objc = c ()\n",
    "objc.test()"
   ]
  },
  {
   "cell_type": "markdown",
   "metadata": {},
   "source": [
    "- The above code we are creating new object and calling test method. But both partents class method has same name. In this condition child class will call which one is first inhertited from paraents class that method will be loaded.\n"
   ]
  },
  {
   "cell_type": "code",
   "execution_count": 77,
   "metadata": {},
   "outputs": [
    {
     "name": "stdout",
     "output_type": "stream",
     "text": [
      "B\n"
     ]
    }
   ],
   "source": [
    "# Now change the order of C child class inhertance A,B to B,A and observe.\n",
    "class A():\n",
    "\n",
    "    def test(self):\n",
    "        print('A')\n",
    "        \n",
    "class B():\n",
    "    def test(self):\n",
    "        print('B')\n",
    "        \n",
    "        \n",
    "class c(B,A):\n",
    "#     obja=A()\n",
    "#     objb=B()\n",
    "#     obja.test()\n",
    "#     objb.test()\n",
    "     pass\n",
    "\n",
    "objc = c()\n",
    "objc.test()"
   ]
  },
  {
   "cell_type": "code",
   "execution_count": 78,
   "metadata": {},
   "outputs": [
    {
     "name": "stdout",
     "output_type": "stream",
     "text": [
      "A\n",
      "B\n"
     ]
    }
   ],
   "source": [
    "# Now Create two object and call individual to avoid ambiguity\n",
    "class A():\n",
    "\n",
    "    def test(self):\n",
    "        print('A')\n",
    "        \n",
    "class B():\n",
    "    def test(self):\n",
    "        print('B')\n",
    "        \n",
    "        \n",
    "class c(A,B):\n",
    "    obja=A()\n",
    "    objb=B()\n",
    "    obja.test()\n",
    "    objb.test()\n",
    "     "
   ]
  },
  {
   "cell_type": "code",
   "execution_count": 79,
   "metadata": {},
   "outputs": [
    {
     "name": "stdout",
     "output_type": "stream",
     "text": [
      "B\n",
      "A\n"
     ]
    }
   ],
   "source": [
    "# Now Create two object and call & change order as you need\n",
    "class A():\n",
    "\n",
    "    def test(self):\n",
    "        print('A')\n",
    "        \n",
    "class B():\n",
    "    def test(self):\n",
    "        print('B')\n",
    "        \n",
    "        \n",
    "class c(A,B):\n",
    "    obja=A()\n",
    "    objb=B()\n",
    "    objb.test()\n",
    "    obja.test()\n",
    "   "
   ]
  },
  {
   "cell_type": "code",
   "execution_count": 80,
   "metadata": {},
   "outputs": [
    {
     "name": "stdout",
     "output_type": "stream",
     "text": [
      "This is class b Print\n",
      "This is class A Print\n"
     ]
    }
   ],
   "source": [
    "# another example:\n",
    "class A():\n",
    "    def __init__(self,x,y):\n",
    "        self.x = x\n",
    "        self.y = y\n",
    "        \n",
    "    def test(self):\n",
    "        print('This is class A Print')\n",
    "        \n",
    "class B():\n",
    "    def __init__(self,a,b):\n",
    "        self.a = a\n",
    "        self.b = b\n",
    "    def test(self):\n",
    "        print('This is class b Print')\n",
    "\n",
    "        \n",
    "class C(A,B):\n",
    "    obja=A('Test1',10)\n",
    "    objb=B('Test2',20)\n",
    "    objb.test()\n",
    "    obja.test()\n"
   ]
  },
  {
   "cell_type": "markdown",
   "metadata": {},
   "source": [
    "# Multi Level inhertance"
   ]
  },
  {
   "cell_type": "code",
   "execution_count": 81,
   "metadata": {},
   "outputs": [
    {
     "name": "stdout",
     "output_type": "stream",
     "text": [
      "this is A\n",
      "B\n",
      "this is B\n",
      "this is C\n",
      "this is A\n",
      "this is B\n"
     ]
    }
   ],
   "source": [
    "# Here B is inheritied from A and C is inherited from B.\n",
    "# Check able to access access any class from any class mehods from bottom to top.\n",
    "class A():\n",
    "    def test(self):\n",
    "        print('this is A')\n",
    "class B(A):\n",
    "    def xyz(self):\n",
    "        print('this is B')\n",
    "class C(B):\n",
    "    def pqr(self):\n",
    "        print('this is C')\n",
    "        \n",
    "obja=A()\n",
    "obja.test()\n",
    "objb=B()\n",
    "objc.test()\n",
    "objb.xyz()\n",
    "objc=C()\n",
    "objc.pqr()\n",
    "objc.test()\n",
    "objc.xyz()"
   ]
  },
  {
   "cell_type": "markdown",
   "metadata": {},
   "source": [
    "### 2.1 Overriding methods"
   ]
  },
  {
   "cell_type": "markdown",
   "metadata": {},
   "source": [
    "Inheritance allows to add new methods to a subclass but often is useful to change the behavior of a method defined in the superclass. To override a method just define it again."
   ]
  },
  {
   "cell_type": "code",
   "execution_count": 82,
   "metadata": {},
   "outputs": [
    {
     "name": "stdout",
     "output_type": "stream",
     "text": [
      "This is class A and 'a' is  5\n",
      "This is class B  and 'a' is 10\n"
     ]
    }
   ],
   "source": [
    "# In child class we are re-defining the already avaliable in the partents \n",
    "# Should not change the signature, but change the body of the comments\n",
    "# Return type also same means  a= 5, a= 10 , not a = 'thanga' & b =10\n",
    "class A:\n",
    "    def test(self,a=5):   # Signature is same \n",
    "        print(\"This is class A and 'a' is \",a) # Return type ( print same)\n",
    "class B(A):\n",
    "    def test(self,a=10):\n",
    "        print(\"This is class B  and 'a' is\",a) # Here we are redefining\n",
    "obja = A()\n",
    "obja.test()\n",
    "objb = B()\n",
    "objb.test()"
   ]
  },
  {
   "cell_type": "code",
   "execution_count": 5,
   "metadata": {},
   "outputs": [],
   "source": [
    "# New Example:\n",
    "class Person:\n",
    "    \n",
    "    def __init__(self, name, surname, year_of_birth):\n",
    "        self.name = name\n",
    "        self.surname = surname\n",
    "        self.year_of_birth = year_of_birth\n",
    "\n",
    "    def age(self, current_year):\n",
    "        return current_year - self.year_of_birth\n",
    "    \n",
    "        \n",
    "    def __str__(self):\n",
    "        return \"%s %s was born in %d .\" % (self.name, self.surname, self.year_of_birth)"
   ]
  },
  {
   "cell_type": "code",
   "execution_count": 6,
   "metadata": {},
   "outputs": [
    {
     "name": "stdout",
     "output_type": "stream",
     "text": [
      "Alec Baldwin was born in 1958 .\n"
     ]
    }
   ],
   "source": [
    "# create object and print the object, It will return the value mentioned in the __str_method \n",
    "alec = Person(\"Alec\", \"Baldwin\", 1958)\n",
    "print(alec)"
   ]
  },
  {
   "cell_type": "code",
   "execution_count": 7,
   "metadata": {},
   "outputs": [
    {
     "name": "stdout",
     "output_type": "stream",
     "text": [
      "Charlie Brown was born in 2006 .\n"
     ]
    }
   ],
   "source": [
    "# Now in Student class I had inherted the persion class and created the object for student class\n",
    "# Now print the oject and observe,eventhough I have not created __str__method,From Paraents class I am able to access child class details info.\n",
    "# But I need student id info also, means either I need to overwrite the __str__ value or inculde additional details.\n",
    "\n",
    "class Student(Person):\n",
    "    def __init__(self, student_id, *args):  \n",
    "        super(Student, self).__init__(*args)\n",
    "        self._student_id = student_id\n",
    "        \n",
    "charlie = Student(100, 'Charlie', 'Brown', 2006) # Here 100 will assign to student_id & other will map to par class variable\n",
    "print(charlie)"
   ]
  },
  {
   "cell_type": "code",
   "execution_count": 13,
   "metadata": {},
   "outputs": [
    {
     "name": "stdout",
     "output_type": "stream",
     "text": [
      "1\n"
     ]
    }
   ],
   "source": [
    "# Overwrite the existing __str__ method values into this method variable\n",
    "# Here printing the student_id.( it is int , so we need convert string)\n",
    "class Student(Person):\n",
    "    \n",
    "    def __init__(self, student_id, *args, **kwargs):\n",
    "        super(Student, self).__init__(*args, **kwargs)\n",
    "        self.student_id = student_id\n",
    "        \n",
    "    def __str__(self):\n",
    "        return str(self.student_id)\n",
    "        \n",
    "charlie = Student(1, 'Charlie', 'Brown', 2006)\n",
    "print(charlie)"
   ]
  },
  {
   "cell_type": "code",
   "execution_count": 14,
   "metadata": {},
   "outputs": [
    {
     "name": "stdout",
     "output_type": "stream",
     "text": [
      "Charlie Brown was born in 2006 . And has ID: 1\n"
     ]
    }
   ],
   "source": [
    "# Method overriding: Here addintion addtional info with paratents_class _str_ variable\n",
    "class Student(Person):\n",
    "    def __init__(self, student_id, *args, **kwargs):\n",
    "        super(Student, self).__init__(*args, **kwargs)\n",
    "        self.student_id = student_id\n",
    "        \n",
    "    def __str__(self):\n",
    "        return super(Student, self).__str__() + \" And has ID: %d\" % self.student_id\n",
    "        \n",
    "charlie = Student(1, 'Charlie', 'Brown', 2006)\n",
    "print(charlie)\n"
   ]
  },
  {
   "cell_type": "markdown",
   "metadata": {},
   "source": [
    "We defined `__str__` again overriding the one wrote in Person, but we wanted to extend it, so we used super to achieve our goal."
   ]
  },
  {
   "cell_type": "markdown",
   "metadata": {},
   "source": [
    "## 3 Encapsulation"
   ]
  },
  {
   "cell_type": "markdown",
   "metadata": {},
   "source": [
    "-  E.g Your are sick you will take capsule\n",
    " \n",
    "- input is here capsule output may be sick will be cure /non cure\n",
    "-  Here you don't know about inside the capsule\n",
    "-   Same way  in program we know only the input & ouput - But we don't how these also implemented\n",
    "-   Example range,list,tuple,type class we don't know how these are implemented\n",
    "-   But we know how to input & get the output\n",
    "-   Similar way we will aslo create own class & expose only input & output details ( like API)\n",
    "-   others should not worry about implementation.\n",
    "- Two types composition and dynamic extention\n"
   ]
  },
  {
   "cell_type": "markdown",
   "metadata": {},
   "source": [
    "Encapsulation is an another powerful way to extend a class which consists on wrapping an object with a second one.\n",
    "There are two main reasons to use encapsulation:\n",
    "* Composition\n",
    "* Dynamic Extension\n"
   ]
  },
  {
   "cell_type": "markdown",
   "metadata": {},
   "source": [
    "### 3.1 Composition"
   ]
  },
  {
   "cell_type": "markdown",
   "metadata": {},
   "source": [
    "The abstraction process relies on creating a simplified model that remove useless details from a concept. In order to be simplified, a model should be described in terms of other simpler concepts.\n",
    "For example, we can say that a car is composed by:\n",
    "* Tyres\n",
    "* Engine\n",
    "* Body\n",
    "\n",
    "And break down each one of these elements in simpler parts until we reach primitive data."
   ]
  },
  {
   "cell_type": "markdown",
   "metadata": {},
   "source": [
    "- Car having the following parts\n",
    "    - Tyres\n",
    "    - Engine\n",
    "    - Body\n",
    "- Assume each above part class are developed by individual person\n",
    "- But when I create the Car class without worried how implemented inside details Just i can re-use like encapuse(Inside black box details I don't want i need only how to i/p & o/i)"
   ]
  },
  {
   "cell_type": "code",
   "execution_count": 20,
   "metadata": {},
   "outputs": [
    {
     "name": "stdout",
     "output_type": "stream",
     "text": [
      "Tyres: \n",
      " \tBranch: Pirelli\n",
      " \tBelted-bias: True\n",
      " \tOptimal pressure: 2.0\n",
      "Engine: \n",
      " \tFuel type: Diesel\n",
      " \tNoise level:3\n",
      "Body:\n",
      " \tSize: Medium\n"
     ]
    }
   ],
   "source": [
    "# Assume Tyre created by user1\n",
    "# In this class we have implemented initilizer and _str__\n",
    "# If you need any other own method you can create.\n",
    "class Tyres:\n",
    "    def __init__(self, branch, belted_bias, opt_pressure):\n",
    "        self.branch = branch\n",
    "        self.belted_bias = belted_bias\n",
    "        self.opt_pressure = opt_pressure\n",
    "        \n",
    "    def __str__(self):\n",
    "        return (\"Tyres: \\n \\tBranch: \" + self.branch +\n",
    "               \"\\n \\tBelted-bias: \" + str(self.belted_bias) + \n",
    "               \"\\n \\tOptimal pressure: \" + str(self.opt_pressure))\n",
    "\n",
    "# similar way assume Engine created by user2       \n",
    "class Engine:\n",
    "    def __init__(self, fuel_type, noise_level):\n",
    "        self.fuel_type = fuel_type\n",
    "        self.noise_level = noise_level\n",
    "        \n",
    "    def __str__(self):\n",
    "        return (\"Engine: \\n \\tFuel type: \" + self.fuel_type +\n",
    "                \"\\n \\tNoise level:\" + str(self.noise_level))\n",
    "# similar way assume Engine created by user3        \n",
    "class Body:\n",
    "    def __init__(self, size):\n",
    "        self.size = size\n",
    "        \n",
    "    def __str__(self):\n",
    "        return \"Body:\\n \\tSize: \" + self.size\n",
    "\n",
    "# Tyre,Engine,body are entity\n",
    "# Here I am creating car class with three variables\n",
    "# Inside __init__ we used small letter tyre,engine,body\n",
    "# Don't confue with class name. You can give any name.\n",
    "# For easy readnility we are using above class name as variable\n",
    "# Car class I have created with three methods\n",
    "class Car:\n",
    "    def __init__(self, tyres, engine, body):\n",
    "        self.tyres = tyres\n",
    "        self.engine = engine\n",
    "        self.body = body\n",
    "        \n",
    "    def tyrespec(self):\n",
    "        return  self.tyres\n",
    "        \n",
    "    def __str__(self):\n",
    "        return str(self.tyres) + \"\\n\" + str(self.engine) + \"\\n\" + str(self.body)\n",
    "\n",
    "# Now I am creating individual class with required mandaory arugument       \n",
    "t = Tyres('Pirelli', True, 2.0)\n",
    "e = Engine('Diesel', 3)\n",
    "b = Body('Medium')\n",
    "# Once receive consolidated info ( Like each class will return meaningful info based on _str_ method)\n",
    "# These consolidated info passed to class C\n",
    "c = Car(t, e, b)\n",
    "# Now Print those details you will get nice combined output.\n",
    "print(c)"
   ]
  },
  {
   "cell_type": "code",
   "execution_count": 22,
   "metadata": {},
   "outputs": [
    {
     "name": "stdout",
     "output_type": "stream",
     "text": [
      "MRF\n",
      "2.0\n",
      "sedan\n"
     ]
    }
   ],
   "source": [
    "# Now I call car class with my own data it will behave as normal class\n",
    "c = Car('MRF','2.0','sedan')\n",
    "print(c)"
   ]
  },
  {
   "cell_type": "markdown",
   "metadata": {},
   "source": [
    "- <b> But this is not an indentation, Encapusulation means i need to re-use other class method & info without much worry about inside details\n",
    "-  I can pass the object as input to my own class at run time & get the required output <b>\n",
    "-  Always hide the previuos(base) class implemention in current class and invoke is called compositive encapsulation\n",
    "- Advantage code re-use"
   ]
  },
  {
   "cell_type": "code",
   "execution_count": 17,
   "metadata": {},
   "outputs": [
    {
     "name": "stdout",
     "output_type": "stream",
     "text": [
      "Tyres: \n",
      " \tBranch: Pirelli\n",
      " \tBelted-bias: True\n",
      " \tOptimal pressure: 2.0\n",
      "jdthdfh\n",
      "wtwtre\n"
     ]
    },
    {
     "data": {
      "text/plain": [
       "<__main__.Tyres at 0x264e0e6f1d0>"
      ]
     },
     "execution_count": 17,
     "metadata": {},
     "output_type": "execute_result"
    }
   ],
   "source": [
    "# Input the specific class name details & other or dummy then you will get \n",
    "# only the particular clas details you will get\n",
    "car = Car(t,\"jdthdfh\",\"wtwtre\")\n",
    "print(car)\n",
    "car.tyrespec()"
   ]
  },
  {
   "cell_type": "markdown",
   "metadata": {},
   "source": [
    "### 3.2 Dynamic Extension"
   ]
  },
  {
   "cell_type": "markdown",
   "metadata": {},
   "source": [
    "Sometimes it's necessary to model a concept that may be a subclass of another one, but it isn't possible to know which class should be its superclass until runtime."
   ]
  },
  {
   "cell_type": "markdown",
   "metadata": {},
   "source": [
    "#### 3.2.1 Example"
   ]
  },
  {
   "cell_type": "markdown",
   "metadata": {},
   "source": [
    "Suppose we want to model a simple dog school that trains instructors too. It will be nice to re-use Person and Student but students can be dogs or peoples. So we can remodel it this way:"
   ]
  },
  {
   "cell_type": "code",
   "execution_count": 23,
   "metadata": {},
   "outputs": [
    {
     "name": "stdout",
     "output_type": "stream",
     "text": [
      "Kudrjavka is a Laika born in 1954.\n"
     ]
    }
   ],
   "source": [
    "# Dog Class created with few variable & init,Str method.\n",
    "# All variable created with protected.\n",
    "class Dog:\n",
    "    def __init__(self, name, year_of_birth, breed):\n",
    "        self._name = name\n",
    "        self._year_of_birth = year_of_birth\n",
    "        self._breed = breed\n",
    "\n",
    "    def __str__(self):\n",
    "        return \"%s is a %s born in %d.\" % (self._name, self._breed, self._year_of_birth)\n",
    "# Created the object &called\n",
    "kudrjavka = Dog(\"Kudrjavka\", 1954, \"Laika\")\n",
    "print(kudrjavka)"
   ]
  },
  {
   "cell_type": "code",
   "execution_count": 26,
   "metadata": {},
   "outputs": [
    {
     "name": "stdout",
     "output_type": "stream",
     "text": [
      "dsfs Student ID: 1\n",
      "Kudrjavka is a Laika born in 1954. Student ID: 2\n"
     ]
    }
   ],
   "source": [
    "# Now I have created the student class with two  similar to previous dog one\n",
    "class Student:\n",
    "    def __init__(self, anagraphic, student_id):\n",
    "        self._anagraphic = anagraphic\n",
    "        self._student_id = student_id\n",
    "    def __str__(self):\n",
    "        return str(self._anagraphic) + \" Student ID: %d\" % self._student_id\n",
    "\n",
    "# Create the object \n",
    "alec_student = Student(\"dsfs\",1)\n",
    "print(alec_student)\n",
    "# Now create the object, but during runtime just i pass another class object\n",
    "# It will bind two class variable\n",
    "# Example Dog & Traniner info combine\n",
    "kudrjavka_student = Student(kudrjavka, 2)\n",
    "print(kudrjavka_student)\n"
   ]
  },
  {
   "cell_type": "code",
   "execution_count": 27,
   "metadata": {},
   "outputs": [
    {
     "name": "stdout",
     "output_type": "stream",
     "text": [
      "Thanga Raj was born in 1980 .\n",
      "Thanga Raj was born in 1980 . Student ID: 2\n"
     ]
    }
   ],
   "source": [
    "# Try with already created person class object\n",
    "class Person:\n",
    "    \n",
    "    def __init__(self, name, surname, year_of_birth):\n",
    "        self.name = name\n",
    "        self.surname = surname\n",
    "        self.year_of_birth = year_of_birth\n",
    "\n",
    "    def age(self, current_year):\n",
    "        return current_year - self.year_of_birth\n",
    "    \n",
    "        \n",
    "    def __str__(self):\n",
    "        return \"%s %s was born in %d .\" % (self.name, self.surname, self.year_of_birth)\n",
    "\n",
    "# Like run time combine person wuth student id\n",
    "person_info = Person('Thanga','Raj',1980)\n",
    "print(person_info)\n",
    "person_student_id = Student(person_info, 2)\n",
    "print(person_student_id)"
   ]
  },
  {
   "cell_type": "markdown",
   "metadata": {},
   "source": [
    "- Here I don't know about required /integrating class details untill run time & this also one type of encapsulation . This will help combine two class details.\n",
    "- Use some one implementation during run time this is called dynamic\n",
    "- Instead of overriding we are using encapsulation & get the new implementaion"
   ]
  },
  {
   "cell_type": "code",
   "execution_count": 29,
   "metadata": {},
   "outputs": [
    {
     "data": {
      "text/plain": [
       "'1 + \" \" + 2 + \" \" + 3 + \" \" + 4 + \" \" + 5 + \" \" + 6 + \" \" + 7 + \" \" + 8 + \" \" + 9'"
      ]
     },
     "execution_count": 29,
     "metadata": {},
     "output_type": "execute_result"
    }
   ],
   "source": [
    "# Another simple example & encapsulae the inside methods & use your own class\n",
    "# Here f' format used\n",
    "class Class1:\n",
    "    def __init__(self,a1,a2,a3):\n",
    "        self.a1 = a1\n",
    "        self.a2 = a2\n",
    "        self.a3 = a3\n",
    "        \n",
    "    def m1(self):\n",
    "        return (f'{self.a1} + \" \" + {self.a2} + \" \" + {self.a3}')\n",
    "    \n",
    "class Class2:\n",
    "    def __init__(self,b1,b2,b3):\n",
    "        self.b1 = b1\n",
    "        self.b2 = b2\n",
    "        self.b3 = b3\n",
    "        \n",
    "    def m2(self):\n",
    "        return (f'{self.b1} + \" \" + {self.b2} + \" \" + {self.b3}')\n",
    "    \n",
    "class Class3:\n",
    "    def __init__(self,c1,c2,c3):\n",
    "        self.c1 = c1\n",
    "        self.c2 = c2\n",
    "        self.c3 = c3\n",
    "        \n",
    "    def m3(self):\n",
    "        return (f'{self.c1} + \" \" + {self.c2} + \" \" + {self.c3}')\n",
    "    \n",
    "class Class4:\n",
    "    def __init__(self,d1,d2,d3):\n",
    "        self.d1 = d1\n",
    "        self.d2 = d2\n",
    "        self.d3 = d3\n",
    "    \n",
    "    def m4(self):\n",
    "        return (f'{self.d1.m1()} + \" \" + {self.d2.m2()} + \" \" + {self.d3.m3()}')\n",
    "        \n",
    "a = Class1(1,2,3) # Create own class object\n",
    "b = Class2(4,5,6)\n",
    "c = Class3(7,8,9)\n",
    "d = Class4(a,b,c) # Pass the object into D class. \n",
    "# Inside the d class return statement call the base class methos using notation d1.m1()\n",
    "# Because these methods are already exposed to d class.   \n",
    "d.m4() # Call class d method 4\n"
   ]
  },
  {
   "cell_type": "code",
   "execution_count": 56,
   "metadata": {},
   "outputs": [
    {
     "name": "stdout",
     "output_type": "stream",
     "text": [
      "1 2 3.....4 5 6......7 8 9 \n",
      "None\n"
     ]
    }
   ],
   "source": [
    "# The same above example done with str & print\n",
    "class one:\n",
    "    def __init__(self,a1,a2,a3):\n",
    "        self.a1 = a1\n",
    "        self.a2 = a2\n",
    "        self.a3 = a3\n",
    "\n",
    "    def m1(self):\n",
    "        return str(self.a1)+\" \"+str(self.a2)+\" \"+str(self.a3)\n",
    "    \n",
    "class two:\n",
    "    def __init__(self,b1,b2,b3):\n",
    "        self.b1 = b1\n",
    "        self.b2 = b2\n",
    "        self.b3 = b3\n",
    "\n",
    "    def m2(self):\n",
    "        return str(self.b1)+\" \"+str(self.b2)+\" \"+str(self.b3)\n",
    "class three:\n",
    "    def __init__(self,c1,c2,c3):\n",
    "        self.c1 = c1\n",
    "        self.c2 = c2\n",
    "        self.c3 = c3\n",
    "\n",
    "    def m3(self):\n",
    "        return str(self.c1)+\" \"+str(self.c2)+\" \"+str(self.c3)\n",
    "\n",
    "class four:\n",
    "    def __init__(self,one,two,three):\n",
    "        self.one = one\n",
    "        self.two = two\n",
    "        self.three = three\n",
    "    def pri(self):\n",
    "        print(f\"{self.one.m1()}.....{self.two.m2()}......{self.three.m3()} \")\n",
    "\n",
    "x = Class1(1,2,3)\n",
    "a = one(1,2,3)\n",
    "b = two(4,5,6)\n",
    "c = three(7,8,9)\n",
    "d = four(a,b,c)\n",
    "print(d.pri())"
   ]
  },
  {
   "cell_type": "markdown",
   "metadata": {},
   "source": [
    "## 4 Polymorphism and DuckTyping"
   ]
  },
  {
   "cell_type": "markdown",
   "metadata": {},
   "source": [
    "`Python` uses dynamic typing which is also called as duck typing. If an object implements a method you can use it, irrespective of the type. This is different from statically typed languages, where the type of a construct need to be explicitly declared. Polymorphism is the ability to use the <b> same syntax for objects of different types:<b>"
   ]
  },
  {
   "cell_type": "code",
   "execution_count": null,
   "metadata": {},
   "outputs": [],
   "source": [
    "# Example Thangaraj - May be son, May be Brother to some one, May be Husband\n",
    "# Here person is same but role is different differtent based on envoriment \n",
    "# Object & enitity is same but behave differently based on envoriment "
   ]
  },
  {
   "cell_type": "code",
   "execution_count": 31,
   "metadata": {},
   "outputs": [
    {
     "name": "stdout",
     "output_type": "stream",
     "text": [
      "2\n",
      "['a', 'b', 'c', 'd', 'e']\n",
      "abracadabra\n"
     ]
    }
   ],
   "source": [
    "def summer(a, b): # same object /enitity behave differently\n",
    "    return a + b\n",
    "\n",
    "print(summer(1, 1)) # int input  - Some time adding \n",
    "print(summer([\"a\", \"b\", \"c\"], [\"d\", \"e\"])) # List # Some time concadination\n",
    "print(summer(\"abra\", \"cadabra\")) # Tuple         # Append\n"
   ]
  },
  {
   "cell_type": "markdown",
   "metadata": {},
   "source": [
    "## 5 How long does a class should be?"
   ]
  },
  {
   "cell_type": "markdown",
   "metadata": {},
   "source": [
    "There is an Object Oriented Programming (OOP) principle called Single Responsibility Principle (SRP) and it states: \"A class should have one single responsibility\" or \"A class should have only one reason to change\". \n",
    "\n",
    "If you come across a class which doesn't follow the SRP principle, you should spilt it. You will be grateful to SRP during your software maintenance. "
   ]
  },
  {
   "cell_type": "markdown",
   "metadata": {},
   "source": [
    "### Additional class are created to understand during dobut clear session"
   ]
  },
  {
   "cell_type": "code",
   "execution_count": 30,
   "metadata": {},
   "outputs": [
    {
     "data": {
      "text/plain": [
       "'protected variable'"
      ]
     },
     "execution_count": 30,
     "metadata": {},
     "output_type": "execute_result"
    }
   ],
   "source": [
    "# Simple example for explaning how to access the base class protected variable outside/another class\n",
    "class C1:\n",
    "    def __init__(self):\n",
    "        self._pv = \"protected variable\"\n",
    "        \n",
    "class C2(C1):\n",
    "    pass\n",
    "\n",
    "c = C2()\n",
    "c._pv\n"
   ]
  },
  {
   "cell_type": "code",
   "execution_count": 32,
   "metadata": {},
   "outputs": [
    {
     "ename": "TypeError",
     "evalue": "__init__() takes 1 positional argument but 2 were given",
     "output_type": "error",
     "traceback": [
      "\u001b[1;31m---------------------------------------------------------------------------\u001b[0m",
      "\u001b[1;31mTypeError\u001b[0m                                 Traceback (most recent call last)",
      "\u001b[1;32m<ipython-input-32-fe7d599232dc>\u001b[0m in \u001b[0;36m<module>\u001b[1;34m\u001b[0m\n\u001b[0;32m     11\u001b[0m \u001b[0mobject1\u001b[0m \u001b[1;33m=\u001b[0m \u001b[0mclass1\u001b[0m\u001b[1;33m(\u001b[0m\u001b[1;36m10\u001b[0m\u001b[1;33m)\u001b[0m\u001b[1;33m\u001b[0m\u001b[1;33m\u001b[0m\u001b[0m\n\u001b[0;32m     12\u001b[0m \u001b[1;33m\u001b[0m\u001b[0m\n\u001b[1;32m---> 13\u001b[1;33m \u001b[0mobject2\u001b[0m \u001b[1;33m=\u001b[0m \u001b[0mclass2\u001b[0m\u001b[1;33m(\u001b[0m\u001b[1;36m4\u001b[0m\u001b[1;33m)\u001b[0m\u001b[1;33m\u001b[0m\u001b[1;33m\u001b[0m\u001b[0m\n\u001b[0m\u001b[0;32m     14\u001b[0m \u001b[0mobject2\u001b[0m\u001b[1;33m.\u001b[0m\u001b[0mobj\u001b[0m\u001b[1;33m.\u001b[0m\u001b[0m_a\u001b[0m\u001b[1;33m\u001b[0m\u001b[1;33m\u001b[0m\u001b[0m\n",
      "\u001b[1;31mTypeError\u001b[0m: __init__() takes 1 positional argument but 2 were given"
     ]
    }
   ],
   "source": [
    "# Now try to access the parents class variable inside the inhertance\n",
    "class class1:\n",
    "  def __init__(self,a):\n",
    "    self._a = a\n",
    "\n",
    "class class2(class1):\n",
    "  def __init__(self):\n",
    "    class1.__init__(self)\n",
    "    print(self._a)\n",
    " \n",
    "  \n",
    "object1 = class1(10)\n",
    "\n",
    "object2 = class2(4)\n",
    "object2.obj._a\n"
   ]
  },
  {
   "cell_type": "code",
   "execution_count": 33,
   "metadata": {},
   "outputs": [
    {
     "name": "stdout",
     "output_type": "stream",
     "text": [
      "1\n",
      "2\n",
      "3\n"
     ]
    }
   ],
   "source": [
    "class c1:\n",
    "    def __init__(self,a,b,c):\n",
    "        self.a=a\n",
    "        self._b=b\n",
    "        self.__c=c\n",
    "class c2(c1):\n",
    "    pass\n",
    "\n",
    "obj=c2(1,2,3)\n",
    "print(obj.a)\n",
    "print(obj._b)\n",
    "print(obj._c1__c)\n"
   ]
  },
  {
   "cell_type": "code",
   "execution_count": 34,
   "metadata": {},
   "outputs": [
    {
     "name": "stdout",
     "output_type": "stream",
     "text": [
      "456\n"
     ]
    }
   ],
   "source": [
    "class class1:\n",
    "    def __init__(self,a,b,c):\n",
    "        self.a = a\n",
    "        self._b = b\n",
    "        self.__c = c\n",
    "        \n",
    "    def __str__(self):\n",
    "        return str(self.a) + str(self._b) + str(self._class1__c)\n",
    "        \n",
    "obj = class1(4,5,6)\n",
    "print(obj)"
   ]
  },
  {
   "cell_type": "code",
   "execution_count": 35,
   "metadata": {},
   "outputs": [
    {
     "name": "stdout",
     "output_type": "stream",
     "text": [
      "345\n"
     ]
    },
    {
     "ename": "AttributeError",
     "evalue": "'class2' object has no attribute 'c'",
     "output_type": "error",
     "traceback": [
      "\u001b[1;31m---------------------------------------------------------------------------\u001b[0m",
      "\u001b[1;31mAttributeError\u001b[0m                            Traceback (most recent call last)",
      "\u001b[1;32m<ipython-input-35-5bb5eeb03a8a>\u001b[0m in \u001b[0;36m<module>\u001b[1;34m\u001b[0m\n\u001b[0;32m      4\u001b[0m \u001b[0mobj3\u001b[0m \u001b[1;33m=\u001b[0m \u001b[0mclass2\u001b[0m\u001b[1;33m(\u001b[0m\u001b[1;36m3\u001b[0m\u001b[1;33m,\u001b[0m\u001b[1;36m4\u001b[0m\u001b[1;33m,\u001b[0m\u001b[1;36m5\u001b[0m\u001b[1;33m)\u001b[0m\u001b[1;33m\u001b[0m\u001b[1;33m\u001b[0m\u001b[0m\n\u001b[0;32m      5\u001b[0m \u001b[0mprint\u001b[0m\u001b[1;33m(\u001b[0m\u001b[0mobj3\u001b[0m\u001b[1;33m)\u001b[0m\u001b[1;33m\u001b[0m\u001b[1;33m\u001b[0m\u001b[0m\n\u001b[1;32m----> 6\u001b[1;33m \u001b[0mobj3\u001b[0m\u001b[1;33m.\u001b[0m\u001b[0mc\u001b[0m\u001b[1;33m\u001b[0m\u001b[1;33m\u001b[0m\u001b[0m\n\u001b[0m",
      "\u001b[1;31mAttributeError\u001b[0m: 'class2' object has no attribute 'c'"
     ]
    }
   ],
   "source": [
    "class class2(class1) :\n",
    "    pass \n",
    "\n",
    "obj3 = class2(3,4,5)\n",
    "print(obj3)\n",
    "obj3.c"
   ]
  },
  {
   "cell_type": "code",
   "execution_count": 36,
   "metadata": {},
   "outputs": [
    {
     "name": "stdout",
     "output_type": "stream",
     "text": [
      "456\n"
     ]
    },
    {
     "data": {
      "text/plain": [
       "<__main__.class2 at 0x264e0e7d780>"
      ]
     },
     "execution_count": 36,
     "metadata": {},
     "output_type": "execute_result"
    }
   ],
   "source": [
    "\n",
    "\n",
    "class class2:\n",
    "    def __init__(self,a):\n",
    "        self.a = a \n",
    "        \n",
    "         \n",
    "    def __str__(self):\n",
    "        return str(self.a)\n",
    "\n",
    "obj1  = class2(obj)\n",
    "print(obj1)\n",
    "obj1"
   ]
  },
  {
   "cell_type": "code",
   "execution_count": 37,
   "metadata": {},
   "outputs": [
    {
     "name": "stdout",
     "output_type": "stream",
     "text": [
      "\n"
     ]
    }
   ],
   "source": [
    "print()"
   ]
  },
  {
   "cell_type": "code",
   "execution_count": null,
   "metadata": {},
   "outputs": [],
   "source": [
    "#class called by another example\n",
    "class Recording():\n",
    "    def __init__(self):\n",
    "        self.bmiSamples = []\n",
    "        self.bmmSamples = []\n",
    "        self.manualSamples = []\n",
    "        self.lightSamples = []\n",
    "        self.bmaSamples = []\n",
    "        self.bmeSamples = []\n",
    "        self.bmgSamples = []\n",
    "        self.statistics = RecordingStatistics()\n",
    "class RecordingStatistics():\n",
    "    def __init__(self):\n",
    "        self.lostBmiDrdy = 0\n",
    "        self.lostBmmDrdy = 0\n",
    "        self.lostBmaDrdy = 0\n",
    "        self.lostBmeDrdy = 0\n",
    "        self.lostBmgDrdy = 0\n",
    "        self.queueFull = 0\n",
    "    def display(self):\n",
    "         print(self.lostBmaDrdy);\n",
    "recording = Recording()\n",
    "recording.statistics.lostBmaDrdy=10\n",
    "print(recording.statistics.lostBmaDrdy)\n",
    "recording.statistics.display()\n"
   ]
  },
  {
   "cell_type": "markdown",
   "metadata": {},
   "source": [
    "# Files\n",
    "\n",
    "Python uses file objects to interact with the external files on your computer. These file objects cab be of any file format on your computer i.e. can be an audio file, a text file, emails, Excel documents, etc. Note that You will probably need to install certain libraries or modules to interact with those various file types, but they are easily available. (We will cover downloading modules later on in the course).\n",
    "\n",
    "Python has a built-in open function that allows us to open and play with basic file types. First we will need a file though. We're going to use some iPython magic to create a text file!\n",
    "\n",
    "## iPython Writing a File"
   ]
  },
  {
   "cell_type": "code",
   "execution_count": 58,
   "metadata": {},
   "outputs": [
    {
     "name": "stdout",
     "output_type": "stream",
     "text": [
      "Writing test21.txt\n"
     ]
    }
   ],
   "source": [
    "#File will create in current folder using jupter magic command\n",
    "#if file already exist then overwrite\n",
    "%%writefile test21.txt\n",
    "Hello, this is a quick test file hjgtyudfyffhgghghhfch"
   ]
  },
  {
   "cell_type": "code",
   "execution_count": 59,
   "metadata": {},
   "outputs": [
    {
     "data": {
      "text/plain": [
       "'C:\\\\Machinelearning\\\\iNeuron\\\\iNeuron_ML\\\\Week3'"
      ]
     },
     "execution_count": 59,
     "metadata": {},
     "output_type": "execute_result"
    }
   ],
   "source": [
    "pwd()"
   ]
  },
  {
   "cell_type": "markdown",
   "metadata": {},
   "source": [
    "## Python Opening a file\n",
    "\n",
    "We can open a file with the open() function. This function also takes in arguments (also called parameters). Let's see how this is used:"
   ]
  },
  {
   "cell_type": "code",
   "execution_count": 60,
   "metadata": {},
   "outputs": [],
   "source": [
    "# Open the text.txt we made earlier\n",
    "my_file = open('test21.txt')"
   ]
  },
  {
   "cell_type": "code",
   "execution_count": 61,
   "metadata": {},
   "outputs": [
    {
     "data": {
      "text/plain": [
       "<_io.TextIOWrapper name='test21.txt' mode='r' encoding='cp1252'>"
      ]
     },
     "execution_count": 61,
     "metadata": {},
     "output_type": "execute_result"
    }
   ],
   "source": [
    "#just give me the object name \n",
    "my_file"
   ]
  },
  {
   "cell_type": "code",
   "execution_count": 78,
   "metadata": {},
   "outputs": [
    {
     "data": {
      "text/plain": [
       "''"
      ]
     },
     "execution_count": 78,
     "metadata": {},
     "output_type": "execute_result"
    }
   ],
   "source": [
    "# We can now read the file \n",
    "my_file.read()"
   ]
  },
  {
   "cell_type": "code",
   "execution_count": 64,
   "metadata": {},
   "outputs": [
    {
     "data": {
      "text/plain": [
       "''"
      ]
     },
     "execution_count": 64,
     "metadata": {},
     "output_type": "execute_result"
    }
   ],
   "source": [
    "# But what happens if we try to read it again?\n",
    "# Will give blank, First time read index from 0 to last index,\n",
    "# again if you read the pointer will give blank. because the pointer already in last index \n",
    "my_file.read()"
   ]
  },
  {
   "cell_type": "markdown",
   "metadata": {},
   "source": [
    "This happens because you can imagine the reading \"cursor\" is at the end of the file after having read it. So there is nothing left to read. We can reset the \"cursor\" like this:"
   ]
  },
  {
   "cell_type": "code",
   "execution_count": 66,
   "metadata": {},
   "outputs": [
    {
     "data": {
      "text/plain": [
       "10"
      ]
     },
     "execution_count": 66,
     "metadata": {},
     "output_type": "execute_result"
    }
   ],
   "source": [
    "# GO to myfile.read() and re-excute this\n",
    "# Seek to the start of file (index 0)\n",
    "my_file.seek(10)"
   ]
  },
  {
   "cell_type": "code",
   "execution_count": 67,
   "metadata": {},
   "outputs": [
    {
     "data": {
      "text/plain": [
       "'s is a quick test file hjgtyudfyffhgghghhfch\\n'"
      ]
     },
     "execution_count": 67,
     "metadata": {},
     "output_type": "execute_result"
    }
   ],
   "source": [
    "# Now read again, able to see the pointer read from the 10th index\n",
    "my_file.read()"
   ]
  },
  {
   "cell_type": "markdown",
   "metadata": {},
   "source": [
    "In order to not have to reset every time, we can also use the readlines method. Use caution with large files, since everything will be held in memory. We will learn how to iterate over large files later in the course."
   ]
  },
  {
   "cell_type": "code",
   "execution_count": 68,
   "metadata": {},
   "outputs": [
    {
     "data": {
      "text/plain": [
       "0"
      ]
     },
     "execution_count": 68,
     "metadata": {},
     "output_type": "execute_result"
    }
   ],
   "source": [
    "# Seek to the start of file (index 0)\n",
    "my_file.seek(0)"
   ]
  },
  {
   "cell_type": "code",
   "execution_count": 69,
   "metadata": {},
   "outputs": [
    {
     "data": {
      "text/plain": [
       "['Hello, this is a quick test file hjgtyudfyffhgghghhfch\\n']"
      ]
     },
     "execution_count": 69,
     "metadata": {},
     "output_type": "execute_result"
    }
   ],
   "source": [
    "# Readlines returns a list of the lines in the file.\n",
    "my_file.readlines()"
   ]
  },
  {
   "cell_type": "code",
   "execution_count": 70,
   "metadata": {},
   "outputs": [
    {
     "data": {
      "text/plain": [
       "[]"
      ]
     },
     "execution_count": 70,
     "metadata": {},
     "output_type": "execute_result"
    }
   ],
   "source": [
    "# Readlines returns a list of the lines in the file.\n",
    "my_file.readlines()"
   ]
  },
  {
   "cell_type": "code",
   "execution_count": 71,
   "metadata": {},
   "outputs": [],
   "source": [
    "# Differnce b/w read and readlines\n",
    "# Readlines provide each line/row in the form of list\n",
    "# Read will read one by one and return."
   ]
  },
  {
   "cell_type": "markdown",
   "metadata": {},
   "source": [
    "## Writing to a File\n",
    "\n",
    "By default, using the open() function will only allow us to read the file, we need to pass the argument 'w' to write over the file. For example:"
   ]
  },
  {
   "cell_type": "code",
   "execution_count": 72,
   "metadata": {},
   "outputs": [],
   "source": [
    "# Add the second argument to the function, 'w' which stands for write\n",
    "my_file = open('test.txt','w+')"
   ]
  },
  {
   "cell_type": "code",
   "execution_count": 73,
   "metadata": {},
   "outputs": [
    {
     "data": {
      "text/plain": [
       "18"
      ]
     },
     "execution_count": 73,
     "metadata": {},
     "output_type": "execute_result"
    }
   ],
   "source": [
    "# Write to the file\n",
    "my_file.write('This is a new line')"
   ]
  },
  {
   "cell_type": "code",
   "execution_count": 74,
   "metadata": {},
   "outputs": [
    {
     "data": {
      "text/plain": [
       "0"
      ]
     },
     "execution_count": 74,
     "metadata": {},
     "output_type": "execute_result"
    }
   ],
   "source": [
    "# Seek to the start of file (index 0)\n",
    "my_file.seek(0)"
   ]
  },
  {
   "cell_type": "code",
   "execution_count": 75,
   "metadata": {},
   "outputs": [
    {
     "data": {
      "text/plain": [
       "'This is a new line'"
      ]
     },
     "execution_count": 75,
     "metadata": {},
     "output_type": "execute_result"
    }
   ],
   "source": [
    "# Read the file\n",
    "my_file.read()"
   ]
  },
  {
   "cell_type": "markdown",
   "metadata": {},
   "source": [
    "## Iterating through a File\n",
    "\n",
    "Let's get a quick preview of a for loop by iterating over a text file. First, let's make a new text file with some iPython Magic:"
   ]
  },
  {
   "cell_type": "code",
   "execution_count": 79,
   "metadata": {},
   "outputs": [
    {
     "name": "stdout",
     "output_type": "stream",
     "text": [
      "Overwriting test.txt\n"
     ]
    }
   ],
   "source": [
    "%%writefile test.txt\n",
    "First Line\n",
    "Second Line\n",
    "This is thangaraj"
   ]
  },
  {
   "cell_type": "code",
   "execution_count": 80,
   "metadata": {},
   "outputs": [
    {
     "data": {
      "text/plain": [
       "'First Line\\nSecond Line\\nThis is thangaraj\\n'"
      ]
     },
     "execution_count": 80,
     "metadata": {},
     "output_type": "execute_result"
    }
   ],
   "source": [
    "my_file = open('test.txt')\n",
    "my_file.read()"
   ]
  },
  {
   "cell_type": "markdown",
   "metadata": {},
   "source": [
    "Now we can use a little bit of flow to tell the program to for through every line of the file and do something:"
   ]
  },
  {
   "cell_type": "code",
   "execution_count": 81,
   "metadata": {},
   "outputs": [
    {
     "name": "stdout",
     "output_type": "stream",
     "text": [
      "First Line\n",
      "\n",
      "Second Line\n",
      "\n",
      "This is thangaraj\n",
      "\n"
     ]
    }
   ],
   "source": [
    "for line in open('test.txt'):\n",
    "    print(line)"
   ]
  },
  {
   "cell_type": "code",
   "execution_count": 82,
   "metadata": {},
   "outputs": [
    {
     "name": "stdout",
     "output_type": "stream",
     "text": [
      "First Line\n",
      "\n",
      "Second Line\n",
      "\n",
      "This is thangaraj\n",
      "\n"
     ]
    }
   ],
   "source": [
    "# Pertaining to the first point above\n",
    "for asdf in open('test.txt'):\n",
    "    print(asdf)"
   ]
  },
  {
   "cell_type": "markdown",
   "metadata": {},
   "source": [
    "- This files are create and paramently in disk,eventhough system should down later we will access\n",
    "- But example s = 'This is srtring\" The value will be in the RAM\n",
    "- Once system shutdown the values will be erased\n",
    "- I need to perform file like of operation,Then I need to do string IO operation - This will help perfrom file like operation for non persistance method\n",
    "- Read is blong to file system\n"
   ]
  },
  {
   "cell_type": "markdown",
   "metadata": {},
   "source": [
    "# StringIO \n",
    "\n",
    "The StringIO module implements an in-memory filelike object. This object can then be used as input or output to most functions that would expect a standard file object.\n",
    "\n",
    "The best way to show this is by example:"
   ]
  },
  {
   "cell_type": "code",
   "execution_count": 83,
   "metadata": {},
   "outputs": [],
   "source": [
    "from io import StringIO"
   ]
  },
  {
   "cell_type": "code",
   "execution_count": 84,
   "metadata": {},
   "outputs": [],
   "source": [
    "# Arbitrary String\n",
    "message = 'This is just a normal string.'"
   ]
  },
  {
   "cell_type": "code",
   "execution_count": 85,
   "metadata": {},
   "outputs": [],
   "source": [
    "# Use StringIO method to set as file object\n",
    "f = StringIO(message)"
   ]
  },
  {
   "cell_type": "markdown",
   "metadata": {},
   "source": [
    "Now we have an object *f* that we will be able to treat just like a file. For example:"
   ]
  },
  {
   "cell_type": "code",
   "execution_count": 86,
   "metadata": {},
   "outputs": [
    {
     "data": {
      "text/plain": [
       "'This is just a normal string.'"
      ]
     },
     "execution_count": 86,
     "metadata": {},
     "output_type": "execute_result"
    }
   ],
   "source": [
    "f.read()"
   ]
  },
  {
   "cell_type": "markdown",
   "metadata": {},
   "source": [
    "We can also write to it"
   ]
  },
  {
   "cell_type": "code",
   "execution_count": 87,
   "metadata": {},
   "outputs": [
    {
     "data": {
      "text/plain": [
       "40"
      ]
     },
     "execution_count": 87,
     "metadata": {},
     "output_type": "execute_result"
    }
   ],
   "source": [
    "f.write(' Second line written to file like object')"
   ]
  },
  {
   "cell_type": "code",
   "execution_count": 88,
   "metadata": {},
   "outputs": [
    {
     "data": {
      "text/plain": [
       "5"
      ]
     },
     "execution_count": 88,
     "metadata": {},
     "output_type": "execute_result"
    }
   ],
   "source": [
    "# Reset cursor just like you would a file\n",
    "f.seek(5)"
   ]
  },
  {
   "cell_type": "code",
   "execution_count": 89,
   "metadata": {},
   "outputs": [
    {
     "data": {
      "text/plain": [
       "'is just a normal string. Second line written to file like object'"
      ]
     },
     "execution_count": 89,
     "metadata": {},
     "output_type": "execute_result"
    }
   ],
   "source": [
    "# Read again\n",
    "f.read()"
   ]
  }
 ],
 "metadata": {
  "kernelspec": {
   "display_name": "Python 3",
   "language": "python",
   "name": "python3"
  },
  "language_info": {
   "codemirror_mode": {
    "name": "ipython",
    "version": 3
   },
   "file_extension": ".py",
   "mimetype": "text/x-python",
   "name": "python",
   "nbconvert_exporter": "python",
   "pygments_lexer": "ipython3",
   "version": "3.7.1"
  }
 },
 "nbformat": 4,
 "nbformat_minor": 2
}
