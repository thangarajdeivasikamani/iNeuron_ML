{
 "cells": [
  {
   "cell_type": "markdown",
   "metadata": {},
   "source": [
    "## Evaluation of a Classification Model"
   ]
  },
  {
   "cell_type": "markdown",
   "metadata": {},
   "source": [
    "All the code is available in iNeuron git repo."
   ]
  },
  {
   "cell_type": "code",
   "execution_count": 1,
   "metadata": {},
   "outputs": [],
   "source": [
    "from sklearn.linear_model import LogisticRegression\n",
    "from sklearn.model_selection import GridSearchCV"
   ]
  },
  {
   "cell_type": "code",
   "execution_count": 2,
   "metadata": {},
   "outputs": [],
   "source": [
    "from sklearn.model_selection import train_test_split"
   ]
  },
  {
   "cell_type": "code",
   "execution_count": 3,
   "metadata": {},
   "outputs": [],
   "source": [
    "# Intercept_scalling = Automatic standardization\n",
    "# Multi class - Apple,Ornage\n",
    "# Multilable - Same text we can do multilable - Exmple region,state.\n",
    "# OVR - One vest other\n",
    "# Learning rate C = 1/lamda"
   ]
  },
  {
   "attachments": {
    "image.png": {
     "image/png": "[encoded data removed]"
    }
   },
   "cell_type": "markdown",
   "metadata": {},
   "source": [
    "![image.png](attachment:image.png)"
   ]
  },
  {
   "cell_type": "code",
   "execution_count": 4,
   "metadata": {},
   "outputs": [],
   "source": [
    "from sklearn.datasets import load_breast_cancer"
   ]
  },
  {
   "cell_type": "code",
   "execution_count": 5,
   "metadata": {},
   "outputs": [],
   "source": [
    "import pandas as pd"
   ]
  },
  {
   "cell_type": "code",
   "execution_count": 6,
   "metadata": {},
   "outputs": [],
   "source": [
    "df=load_breast_cancer()\n",
    "### Independent features\n",
    "X=pd.DataFrame(df['data'],columns=df['feature_names'])"
   ]
  },
  {
   "cell_type": "code",
   "execution_count": 7,
   "metadata": {},
   "outputs": [
    {
     "data": {
      "text/html": [
       "<div>\n",
       "<style scoped>\n",
       "    .dataframe tbody tr th:only-of-type {\n",
       "        vertical-align: middle;\n",
       "    }\n",
       "\n",
       "    .dataframe tbody tr th {\n",
       "        vertical-align: top;\n",
       "    }\n",
       "\n",
       "    .dataframe thead th {\n",
       "        text-align: right;\n",
       "    }\n",
       "</style>\n",
       "<table border=\"1\" class=\"dataframe\">\n",
       "  <thead>\n",
       "    <tr style=\"text-align: right;\">\n",
       "      <th></th>\n",
       "      <th>mean radius</th>\n",
       "      <th>mean texture</th>\n",
       "      <th>mean perimeter</th>\n",
       "      <th>mean area</th>\n",
       "      <th>mean smoothness</th>\n",
       "      <th>mean compactness</th>\n",
       "      <th>mean concavity</th>\n",
       "      <th>mean concave points</th>\n",
       "      <th>mean symmetry</th>\n",
       "      <th>mean fractal dimension</th>\n",
       "      <th>...</th>\n",
       "      <th>worst radius</th>\n",
       "      <th>worst texture</th>\n",
       "      <th>worst perimeter</th>\n",
       "      <th>worst area</th>\n",
       "      <th>worst smoothness</th>\n",
       "      <th>worst compactness</th>\n",
       "      <th>worst concavity</th>\n",
       "      <th>worst concave points</th>\n",
       "      <th>worst symmetry</th>\n",
       "      <th>worst fractal dimension</th>\n",
       "    </tr>\n",
       "  </thead>\n",
       "  <tbody>\n",
       "    <tr>\n",
       "      <th>0</th>\n",
       "      <td>17.99</td>\n",
       "      <td>10.38</td>\n",
       "      <td>122.80</td>\n",
       "      <td>1001.0</td>\n",
       "      <td>0.11840</td>\n",
       "      <td>0.27760</td>\n",
       "      <td>0.3001</td>\n",
       "      <td>0.14710</td>\n",
       "      <td>0.2419</td>\n",
       "      <td>0.07871</td>\n",
       "      <td>...</td>\n",
       "      <td>25.38</td>\n",
       "      <td>17.33</td>\n",
       "      <td>184.60</td>\n",
       "      <td>2019.0</td>\n",
       "      <td>0.1622</td>\n",
       "      <td>0.6656</td>\n",
       "      <td>0.7119</td>\n",
       "      <td>0.2654</td>\n",
       "      <td>0.4601</td>\n",
       "      <td>0.11890</td>\n",
       "    </tr>\n",
       "    <tr>\n",
       "      <th>1</th>\n",
       "      <td>20.57</td>\n",
       "      <td>17.77</td>\n",
       "      <td>132.90</td>\n",
       "      <td>1326.0</td>\n",
       "      <td>0.08474</td>\n",
       "      <td>0.07864</td>\n",
       "      <td>0.0869</td>\n",
       "      <td>0.07017</td>\n",
       "      <td>0.1812</td>\n",
       "      <td>0.05667</td>\n",
       "      <td>...</td>\n",
       "      <td>24.99</td>\n",
       "      <td>23.41</td>\n",
       "      <td>158.80</td>\n",
       "      <td>1956.0</td>\n",
       "      <td>0.1238</td>\n",
       "      <td>0.1866</td>\n",
       "      <td>0.2416</td>\n",
       "      <td>0.1860</td>\n",
       "      <td>0.2750</td>\n",
       "      <td>0.08902</td>\n",
       "    </tr>\n",
       "    <tr>\n",
       "      <th>2</th>\n",
       "      <td>19.69</td>\n",
       "      <td>21.25</td>\n",
       "      <td>130.00</td>\n",
       "      <td>1203.0</td>\n",
       "      <td>0.10960</td>\n",
       "      <td>0.15990</td>\n",
       "      <td>0.1974</td>\n",
       "      <td>0.12790</td>\n",
       "      <td>0.2069</td>\n",
       "      <td>0.05999</td>\n",
       "      <td>...</td>\n",
       "      <td>23.57</td>\n",
       "      <td>25.53</td>\n",
       "      <td>152.50</td>\n",
       "      <td>1709.0</td>\n",
       "      <td>0.1444</td>\n",
       "      <td>0.4245</td>\n",
       "      <td>0.4504</td>\n",
       "      <td>0.2430</td>\n",
       "      <td>0.3613</td>\n",
       "      <td>0.08758</td>\n",
       "    </tr>\n",
       "    <tr>\n",
       "      <th>3</th>\n",
       "      <td>11.42</td>\n",
       "      <td>20.38</td>\n",
       "      <td>77.58</td>\n",
       "      <td>386.1</td>\n",
       "      <td>0.14250</td>\n",
       "      <td>0.28390</td>\n",
       "      <td>0.2414</td>\n",
       "      <td>0.10520</td>\n",
       "      <td>0.2597</td>\n",
       "      <td>0.09744</td>\n",
       "      <td>...</td>\n",
       "      <td>14.91</td>\n",
       "      <td>26.50</td>\n",
       "      <td>98.87</td>\n",
       "      <td>567.7</td>\n",
       "      <td>0.2098</td>\n",
       "      <td>0.8663</td>\n",
       "      <td>0.6869</td>\n",
       "      <td>0.2575</td>\n",
       "      <td>0.6638</td>\n",
       "      <td>0.17300</td>\n",
       "    </tr>\n",
       "    <tr>\n",
       "      <th>4</th>\n",
       "      <td>20.29</td>\n",
       "      <td>14.34</td>\n",
       "      <td>135.10</td>\n",
       "      <td>1297.0</td>\n",
       "      <td>0.10030</td>\n",
       "      <td>0.13280</td>\n",
       "      <td>0.1980</td>\n",
       "      <td>0.10430</td>\n",
       "      <td>0.1809</td>\n",
       "      <td>0.05883</td>\n",
       "      <td>...</td>\n",
       "      <td>22.54</td>\n",
       "      <td>16.67</td>\n",
       "      <td>152.20</td>\n",
       "      <td>1575.0</td>\n",
       "      <td>0.1374</td>\n",
       "      <td>0.2050</td>\n",
       "      <td>0.4000</td>\n",
       "      <td>0.1625</td>\n",
       "      <td>0.2364</td>\n",
       "      <td>0.07678</td>\n",
       "    </tr>\n",
       "  </tbody>\n",
       "</table>\n",
       "<p>5 rows × 30 columns</p>\n",
       "</div>"
      ],
      "text/plain": [
       "   mean radius  mean texture  mean perimeter  mean area  mean smoothness  \\\n",
       "0        17.99         10.38          122.80     1001.0          0.11840   \n",
       "1        20.57         17.77          132.90     1326.0          0.08474   \n",
       "2        19.69         21.25          130.00     1203.0          0.10960   \n",
       "3        11.42         20.38           77.58      386.1          0.14250   \n",
       "4        20.29         14.34          135.10     1297.0          0.10030   \n",
       "\n",
       "   mean compactness  mean concavity  mean concave points  mean symmetry  \\\n",
       "0           0.27760          0.3001              0.14710         0.2419   \n",
       "1           0.07864          0.0869              0.07017         0.1812   \n",
       "2           0.15990          0.1974              0.12790         0.2069   \n",
       "3           0.28390          0.2414              0.10520         0.2597   \n",
       "4           0.13280          0.1980              0.10430         0.1809   \n",
       "\n",
       "   mean fractal dimension  ...  worst radius  worst texture  worst perimeter  \\\n",
       "0                 0.07871  ...         25.38          17.33           184.60   \n",
       "1                 0.05667  ...         24.99          23.41           158.80   \n",
       "2                 0.05999  ...         23.57          25.53           152.50   \n",
       "3                 0.09744  ...         14.91          26.50            98.87   \n",
       "4                 0.05883  ...         22.54          16.67           152.20   \n",
       "\n",
       "   worst area  worst smoothness  worst compactness  worst concavity  \\\n",
       "0      2019.0            0.1622             0.6656           0.7119   \n",
       "1      1956.0            0.1238             0.1866           0.2416   \n",
       "2      1709.0            0.1444             0.4245           0.4504   \n",
       "3       567.7            0.2098             0.8663           0.6869   \n",
       "4      1575.0            0.1374             0.2050           0.4000   \n",
       "\n",
       "   worst concave points  worst symmetry  worst fractal dimension  \n",
       "0                0.2654          0.4601                  0.11890  \n",
       "1                0.1860          0.2750                  0.08902  \n",
       "2                0.2430          0.3613                  0.08758  \n",
       "3                0.2575          0.6638                  0.17300  \n",
       "4                0.1625          0.2364                  0.07678  \n",
       "\n",
       "[5 rows x 30 columns]"
      ]
     },
     "execution_count": 7,
     "metadata": {},
     "output_type": "execute_result"
    }
   ],
   "source": [
    "X.head()"
   ]
  },
  {
   "cell_type": "code",
   "execution_count": 8,
   "metadata": {},
   "outputs": [
    {
     "data": {
      "text/html": [
       "<div>\n",
       "<style scoped>\n",
       "    .dataframe tbody tr th:only-of-type {\n",
       "        vertical-align: middle;\n",
       "    }\n",
       "\n",
       "    .dataframe tbody tr th {\n",
       "        vertical-align: top;\n",
       "    }\n",
       "\n",
       "    .dataframe thead th {\n",
       "        text-align: right;\n",
       "    }\n",
       "</style>\n",
       "<table border=\"1\" class=\"dataframe\">\n",
       "  <thead>\n",
       "    <tr style=\"text-align: right;\">\n",
       "      <th></th>\n",
       "      <th>Target</th>\n",
       "    </tr>\n",
       "  </thead>\n",
       "  <tbody>\n",
       "    <tr>\n",
       "      <th>0</th>\n",
       "      <td>0</td>\n",
       "    </tr>\n",
       "    <tr>\n",
       "      <th>1</th>\n",
       "      <td>0</td>\n",
       "    </tr>\n",
       "    <tr>\n",
       "      <th>2</th>\n",
       "      <td>0</td>\n",
       "    </tr>\n",
       "    <tr>\n",
       "      <th>3</th>\n",
       "      <td>0</td>\n",
       "    </tr>\n",
       "    <tr>\n",
       "      <th>4</th>\n",
       "      <td>0</td>\n",
       "    </tr>\n",
       "    <tr>\n",
       "      <th>...</th>\n",
       "      <td>...</td>\n",
       "    </tr>\n",
       "    <tr>\n",
       "      <th>564</th>\n",
       "      <td>0</td>\n",
       "    </tr>\n",
       "    <tr>\n",
       "      <th>565</th>\n",
       "      <td>0</td>\n",
       "    </tr>\n",
       "    <tr>\n",
       "      <th>566</th>\n",
       "      <td>0</td>\n",
       "    </tr>\n",
       "    <tr>\n",
       "      <th>567</th>\n",
       "      <td>0</td>\n",
       "    </tr>\n",
       "    <tr>\n",
       "      <th>568</th>\n",
       "      <td>1</td>\n",
       "    </tr>\n",
       "  </tbody>\n",
       "</table>\n",
       "<p>569 rows × 1 columns</p>\n",
       "</div>"
      ],
      "text/plain": [
       "     Target\n",
       "0         0\n",
       "1         0\n",
       "2         0\n",
       "3         0\n",
       "4         0\n",
       "..      ...\n",
       "564       0\n",
       "565       0\n",
       "566       0\n",
       "567       0\n",
       "568       1\n",
       "\n",
       "[569 rows x 1 columns]"
      ]
     },
     "execution_count": 8,
     "metadata": {},
     "output_type": "execute_result"
    }
   ],
   "source": [
    "### Dependent features\n",
    "y=pd.DataFrame(df['target'],columns=[\"Target\"])\n",
    "y"
   ]
  },
  {
   "cell_type": "code",
   "execution_count": 9,
   "metadata": {},
   "outputs": [
    {
     "data": {
      "text/plain": [
       "1    357\n",
       "0    212\n",
       "Name: Target, dtype: int64"
      ]
     },
     "execution_count": 9,
     "metadata": {},
     "output_type": "execute_result"
    }
   ],
   "source": [
    "### Check dataset is balanced or not\n",
    "\n",
    "y['Target'].value_counts()"
   ]
  },
  {
   "cell_type": "code",
   "execution_count": 10,
   "metadata": {},
   "outputs": [],
   "source": [
    "params=[{'C':[1,5,10,100,150,1000],'max_iter':[10,100,200]}]"
   ]
  },
  {
   "cell_type": "code",
   "execution_count": 11,
   "metadata": {},
   "outputs": [],
   "source": [
    "model1=LogisticRegression()"
   ]
  },
  {
   "cell_type": "code",
   "execution_count": 12,
   "metadata": {},
   "outputs": [
    {
     "data": {
      "text/plain": [
       "LogisticRegression()"
      ]
     },
     "execution_count": 12,
     "metadata": {},
     "output_type": "execute_result"
    }
   ],
   "source": [
    "model1"
   ]
  },
  {
   "cell_type": "code",
   "execution_count": 13,
   "metadata": {},
   "outputs": [],
   "source": [
    "model=GridSearchCV(model1,param_grid=params,scoring='f1',cv=5)"
   ]
  },
  {
   "cell_type": "code",
   "execution_count": 14,
   "metadata": {},
   "outputs": [],
   "source": [
    "import warnings\n",
    "warnings.filterwarnings('ignore')\n"
   ]
  },
  {
   "cell_type": "code",
   "execution_count": 15,
   "metadata": {},
   "outputs": [],
   "source": [
    "### Splitted the data into train and test\n",
    "X_train,X_test,y_train,y_test=train_test_split(X,y,train_size=0.75,random_state=50)"
   ]
  },
  {
   "cell_type": "code",
   "execution_count": 16,
   "metadata": {},
   "outputs": [
    {
     "data": {
      "text/plain": [
       "GridSearchCV(cv=5, estimator=LogisticRegression(),\n",
       "             param_grid=[{'C': [1, 5, 10, 100, 150, 1000],\n",
       "                          'max_iter': [10, 100, 200]}],\n",
       "             scoring='f1')"
      ]
     },
     "execution_count": 16,
     "metadata": {},
     "output_type": "execute_result"
    }
   ],
   "source": [
    "model.fit(X_train,y_train)"
   ]
  },
  {
   "cell_type": "code",
   "execution_count": 17,
   "metadata": {},
   "outputs": [
    {
     "name": "stdout",
     "output_type": "stream",
     "text": [
      "{'C': 150, 'max_iter': 200}\n",
      "LogisticRegression(C=150, max_iter=200)\n"
     ]
    }
   ],
   "source": [
    "# Here we can see wich one is best\n",
    "print(model.best_params_)\n",
    "print(model.best_estimator_)"
   ]
  },
  {
   "cell_type": "code",
   "execution_count": 18,
   "metadata": {},
   "outputs": [
    {
     "data": {
      "text/plain": [
       "0.9834254143646408"
      ]
     },
     "execution_count": 18,
     "metadata": {},
     "output_type": "execute_result"
    }
   ],
   "source": [
    "model.score(X_test,y_test)"
   ]
  },
  {
   "cell_type": "code",
   "execution_count": 19,
   "metadata": {},
   "outputs": [
    {
     "data": {
      "text/plain": [
       "{'mean_fit_time': array([0.01540093, 0.04860268, 0.08760495, 0.00920043, 0.05140285,\n",
       "        0.09220524, 0.00920043, 0.04620252, 0.09060516, 0.00940051,\n",
       "        0.04540262, 0.09640546, 0.01100054, 0.0482029 , 0.09100533,\n",
       "        0.01200056, 0.05000277, 0.09160528]),\n",
       " 'std_fit_time': array([0.00939405, 0.00564306, 0.00300693, 0.0003999 , 0.00796539,\n",
       "        0.00746772, 0.00040002, 0.00231523, 0.00463058, 0.00048986,\n",
       "        0.00080009, 0.01434798, 0.00141435, 0.00376319, 0.00456094,\n",
       "        0.00200012, 0.00641901, 0.00557167]),\n",
       " 'mean_score_time': array([0.00500016, 0.00420041, 0.00400028, 0.00380034, 0.00420027,\n",
       "        0.00380034, 0.00420041, 0.00400028, 0.00500031, 0.00400033,\n",
       "        0.00420027, 0.00420032, 0.0044003 , 0.00400004, 0.00440021,\n",
       "        0.00540037, 0.00460024, 0.00360012]),\n",
       " 'std_score_time': array([1.26508327e-03, 3.99971037e-04, 1.16800773e-07, 3.99923339e-04,\n",
       "        4.00042545e-04, 3.99923396e-04, 9.79870896e-04, 1.16800773e-07,\n",
       "        8.94468999e-04, 6.32560492e-04, 3.99923339e-04, 4.00137912e-04,\n",
       "        7.99989707e-04, 1.16800773e-07, 4.89823515e-04, 1.49682848e-03,\n",
       "        1.20014350e-03, 4.89979242e-04]),\n",
       " 'param_C': masked_array(data=[1, 1, 1, 5, 5, 5, 10, 10, 10, 100, 100, 100, 150, 150,\n",
       "                    150, 1000, 1000, 1000],\n",
       "              mask=[False, False, False, False, False, False, False, False,\n",
       "                    False, False, False, False, False, False, False, False,\n",
       "                    False, False],\n",
       "        fill_value='?',\n",
       "             dtype=object),\n",
       " 'param_max_iter': masked_array(data=[10, 100, 200, 10, 100, 200, 10, 100, 200, 10, 100, 200,\n",
       "                    10, 100, 200, 10, 100, 200],\n",
       "              mask=[False, False, False, False, False, False, False, False,\n",
       "                    False, False, False, False, False, False, False, False,\n",
       "                    False, False],\n",
       "        fill_value='?',\n",
       "             dtype=object),\n",
       " 'params': [{'C': 1, 'max_iter': 10},\n",
       "  {'C': 1, 'max_iter': 100},\n",
       "  {'C': 1, 'max_iter': 200},\n",
       "  {'C': 5, 'max_iter': 10},\n",
       "  {'C': 5, 'max_iter': 100},\n",
       "  {'C': 5, 'max_iter': 200},\n",
       "  {'C': 10, 'max_iter': 10},\n",
       "  {'C': 10, 'max_iter': 100},\n",
       "  {'C': 10, 'max_iter': 200},\n",
       "  {'C': 100, 'max_iter': 10},\n",
       "  {'C': 100, 'max_iter': 100},\n",
       "  {'C': 100, 'max_iter': 200},\n",
       "  {'C': 150, 'max_iter': 10},\n",
       "  {'C': 150, 'max_iter': 100},\n",
       "  {'C': 150, 'max_iter': 200},\n",
       "  {'C': 1000, 'max_iter': 10},\n",
       "  {'C': 1000, 'max_iter': 100},\n",
       "  {'C': 1000, 'max_iter': 200}],\n",
       " 'split0_test_score': array([0.96428571, 0.95412844, 0.95412844, 0.96428571, 0.95412844,\n",
       "        0.96296296, 0.96428571, 0.95412844, 0.96296296, 0.96428571,\n",
       "        0.95412844, 0.95327103, 0.96428571, 0.96363636, 0.95327103,\n",
       "        0.96428571, 0.95412844, 0.95327103]),\n",
       " 'split1_test_score': array([0.89655172, 0.88495575, 0.90434783, 0.89655172, 0.90265487,\n",
       "        0.90265487, 0.89655172, 0.88495575, 0.90265487, 0.89655172,\n",
       "        0.88495575, 0.89473684, 0.89655172, 0.89473684, 0.90265487,\n",
       "        0.89655172, 0.88495575, 0.89473684]),\n",
       " 'split2_test_score': array([0.96296296, 1.        , 1.        , 0.96296296, 1.        ,\n",
       "        0.99065421, 0.96296296, 0.99065421, 0.99065421, 0.96296296,\n",
       "        0.98076923, 0.99065421, 0.96296296, 0.98076923, 1.        ,\n",
       "        0.96296296, 0.99047619, 0.99065421]),\n",
       " 'split3_test_score': array([0.92035398, 0.96153846, 0.96153846, 0.92035398, 0.95327103,\n",
       "        0.97142857, 0.92035398, 0.94444444, 0.97142857, 0.92035398,\n",
       "        0.93457944, 0.97142857, 0.92035398, 0.95327103, 0.97142857,\n",
       "        0.92035398, 0.95327103, 0.97142857]),\n",
       " 'split4_test_score': array([0.93457944, 0.96226415, 0.96226415, 0.93457944, 0.95238095,\n",
       "        0.96226415, 0.93457944, 0.96226415, 0.96226415, 0.93457944,\n",
       "        0.95238095, 0.96226415, 0.93457944, 0.96226415, 0.97196262,\n",
       "        0.93457944, 0.95238095, 0.96226415]),\n",
       " 'mean_test_score': array([0.93574676, 0.95257736, 0.95645578, 0.93574676, 0.95248706,\n",
       "        0.95799295, 0.93574676, 0.9472894 , 0.95799295, 0.93574676,\n",
       "        0.94136276, 0.95447096, 0.93574676, 0.95093552, 0.95986342,\n",
       "        0.93574676, 0.94704247, 0.95447096]),\n",
       " 'std_test_score': array([0.02580599, 0.03741158, 0.0305821 , 0.02580599, 0.03080275,\n",
       "        0.02950431, 0.02580599, 0.03477096, 0.02950431, 0.02580599,\n",
       "        0.03182765, 0.03233304, 0.02580599, 0.02947353, 0.03227187,\n",
       "        0.02580599, 0.03423085, 0.03233304]),\n",
       " 'rank_test_score': array([13,  7,  4, 13,  8,  2, 13, 10,  2, 13, 12,  5, 13,  9,  1, 13, 11,\n",
       "         5])}"
      ]
     },
     "execution_count": 19,
     "metadata": {},
     "output_type": "execute_result"
    }
   ],
   "source": [
    "# Each iteration result\n",
    "model.cv_results_"
   ]
  },
  {
   "cell_type": "code",
   "execution_count": 20,
   "metadata": {},
   "outputs": [
    {
     "data": {
      "text/plain": [
       "array([1, 1, 0, 1, 1, 1, 1, 1, 1, 1, 1, 1, 1, 1, 1, 1, 1, 0, 0, 0, 1, 1,\n",
       "       1, 1, 1, 1, 0, 1, 1, 0, 1, 1, 0, 1, 1, 1, 1, 1, 1, 1, 1, 0, 0, 1,\n",
       "       1, 1, 1, 0, 1, 0, 1, 0, 1, 1, 1, 0, 0, 1, 1, 1, 1, 0, 1, 1, 0, 1,\n",
       "       1, 1, 1, 0, 0, 1, 0, 1, 0, 0, 1, 1, 0, 1, 0, 1, 1, 1, 1, 0, 0, 1,\n",
       "       1, 0, 0, 0, 0, 1, 1, 0, 1, 1, 0, 1, 1, 1, 1, 1, 1, 0, 0, 1, 0, 0,\n",
       "       1, 0, 0, 1, 1, 1, 0, 1, 0, 0, 1, 1, 0, 1, 0, 1, 0, 0, 0, 0, 1, 0,\n",
       "       1, 0, 0, 1, 1, 1, 1, 0, 1, 0, 0])"
      ]
     },
     "execution_count": 20,
     "metadata": {},
     "output_type": "execute_result"
    }
   ],
   "source": [
    "y_pred=model.predict(X_test)\n",
    "y_pred"
   ]
  },
  {
   "cell_type": "code",
   "execution_count": 21,
   "metadata": {},
   "outputs": [
    {
     "data": {
      "text/plain": [
       "array([[3.21843835e-03, 9.96781562e-01],\n",
       "       [8.73559044e-05, 9.99912644e-01],\n",
       "       [9.81149105e-01, 1.88508948e-02],\n",
       "       [2.41933388e-02, 9.75806661e-01],\n",
       "       [2.08489493e-03, 9.97915105e-01],\n",
       "       [1.10687536e-03, 9.98893125e-01],\n",
       "       [8.34136215e-03, 9.91658638e-01],\n",
       "       [1.67503958e-02, 9.83249604e-01],\n",
       "       [2.29552761e-01, 7.70447239e-01],\n",
       "       [6.75828774e-04, 9.99324171e-01],\n",
       "       [4.52463037e-03, 9.95475370e-01],\n",
       "       [8.61191265e-05, 9.99913881e-01],\n",
       "       [2.36501446e-04, 9.99763499e-01],\n",
       "       [3.04395876e-01, 6.95604124e-01],\n",
       "       [2.54914512e-03, 9.97450855e-01],\n",
       "       [1.37219045e-01, 8.62780955e-01],\n",
       "       [8.48618046e-04, 9.99151382e-01],\n",
       "       [9.99999998e-01, 2.33348457e-09],\n",
       "       [1.00000000e+00, 2.35832754e-13],\n",
       "       [9.99999970e-01, 3.01454693e-08],\n",
       "       [2.71540251e-03, 9.97284597e-01],\n",
       "       [1.55428899e-05, 9.99984457e-01],\n",
       "       [4.71953179e-04, 9.99528047e-01],\n",
       "       [9.99495971e-04, 9.99000504e-01],\n",
       "       [2.42784891e-02, 9.75721511e-01],\n",
       "       [9.33361460e-02, 9.06663854e-01],\n",
       "       [9.99999734e-01, 2.65680636e-07],\n",
       "       [8.92624441e-04, 9.99107376e-01],\n",
       "       [2.20368021e-04, 9.99779632e-01],\n",
       "       [9.96923004e-01, 3.07699552e-03],\n",
       "       [2.69142742e-03, 9.97308573e-01],\n",
       "       [2.04395688e-02, 9.79560431e-01],\n",
       "       [1.00000000e+00, 5.09739824e-21],\n",
       "       [2.84875934e-01, 7.15124066e-01],\n",
       "       [1.58694148e-01, 8.41305852e-01],\n",
       "       [2.02053287e-03, 9.97979467e-01],\n",
       "       [3.26736948e-02, 9.67326305e-01],\n",
       "       [7.34205196e-04, 9.99265795e-01],\n",
       "       [1.61050226e-03, 9.98389498e-01],\n",
       "       [3.66803928e-03, 9.96331961e-01],\n",
       "       [3.76106308e-03, 9.96238937e-01],\n",
       "       [9.99961406e-01, 3.85935548e-05],\n",
       "       [1.00000000e+00, 5.85439757e-13],\n",
       "       [1.28207851e-02, 9.87179215e-01],\n",
       "       [1.71885558e-03, 9.98281144e-01],\n",
       "       [2.53441764e-04, 9.99746558e-01],\n",
       "       [1.65471251e-01, 8.34528749e-01],\n",
       "       [9.95828370e-01, 4.17163021e-03],\n",
       "       [1.99880744e-02, 9.80011926e-01],\n",
       "       [9.99421529e-01, 5.78470952e-04],\n",
       "       [4.02851796e-02, 9.59714820e-01],\n",
       "       [9.82299546e-01, 1.77004538e-02],\n",
       "       [5.53587022e-04, 9.99446413e-01],\n",
       "       [2.52903965e-04, 9.99747096e-01],\n",
       "       [3.78992104e-02, 9.62100790e-01],\n",
       "       [9.38143553e-01, 6.18564470e-02],\n",
       "       [1.00000000e+00, 1.27256424e-23],\n",
       "       [2.80862934e-02, 9.71913707e-01],\n",
       "       [4.37541711e-01, 5.62458289e-01],\n",
       "       [7.85848588e-02, 9.21415141e-01],\n",
       "       [7.37429759e-03, 9.92625702e-01],\n",
       "       [9.99999968e-01, 3.22662343e-08],\n",
       "       [2.47428903e-02, 9.75257110e-01],\n",
       "       [1.11908917e-01, 8.88091083e-01],\n",
       "       [1.00000000e+00, 5.36780934e-11],\n",
       "       [8.98980683e-03, 9.91010193e-01],\n",
       "       [6.11098069e-03, 9.93889019e-01],\n",
       "       [4.48806417e-04, 9.99551194e-01],\n",
       "       [2.63511993e-03, 9.97364880e-01],\n",
       "       [9.73319374e-01, 2.66806264e-02],\n",
       "       [9.99952534e-01, 4.74661157e-05],\n",
       "       [6.55403680e-04, 9.99344596e-01],\n",
       "       [9.99998748e-01, 1.25174751e-06],\n",
       "       [4.96109340e-01, 5.03890660e-01],\n",
       "       [9.99999972e-01, 2.82474367e-08],\n",
       "       [1.00000000e+00, 9.25115714e-11],\n",
       "       [8.86256774e-03, 9.91137432e-01],\n",
       "       [1.10806770e-03, 9.98891932e-01],\n",
       "       [1.00000000e+00, 2.69919253e-13],\n",
       "       [7.00359424e-04, 9.99299641e-01],\n",
       "       [9.96800684e-01, 3.19931635e-03],\n",
       "       [2.85718670e-03, 9.97142813e-01],\n",
       "       [1.73842328e-02, 9.82615767e-01],\n",
       "       [7.88987238e-04, 9.99211013e-01],\n",
       "       [8.61653710e-02, 9.13834629e-01],\n",
       "       [9.88911651e-01, 1.10883487e-02],\n",
       "       [1.00000000e+00, 1.60510886e-20],\n",
       "       [2.16689456e-02, 9.78331054e-01],\n",
       "       [4.75056681e-04, 9.99524943e-01],\n",
       "       [1.00000000e+00, 2.32493792e-35],\n",
       "       [9.99915082e-01, 8.49184750e-05],\n",
       "       [9.99995486e-01, 4.51390025e-06],\n",
       "       [9.99999681e-01, 3.19107288e-07],\n",
       "       [3.09665567e-03, 9.96903344e-01],\n",
       "       [6.96550439e-04, 9.99303450e-01],\n",
       "       [1.00000000e+00, 2.70762995e-10],\n",
       "       [2.80844254e-02, 9.71915575e-01],\n",
       "       [2.12998904e-03, 9.97870011e-01],\n",
       "       [9.99999340e-01, 6.59639601e-07],\n",
       "       [1.33391933e-02, 9.86660807e-01],\n",
       "       [5.82374632e-04, 9.99417625e-01],\n",
       "       [4.91368535e-03, 9.95086315e-01],\n",
       "       [3.04523384e-02, 9.69547662e-01],\n",
       "       [7.21394977e-02, 9.27860502e-01],\n",
       "       [1.06507370e-01, 8.93492630e-01],\n",
       "       [9.31073585e-01, 6.89264152e-02],\n",
       "       [1.00000000e+00, 1.61859210e-13],\n",
       "       [7.25903410e-03, 9.92740966e-01],\n",
       "       [6.80128132e-01, 3.19871868e-01],\n",
       "       [9.85397846e-01, 1.46021537e-02],\n",
       "       [2.69086110e-01, 7.30913890e-01],\n",
       "       [1.00000000e+00, 8.93475064e-21],\n",
       "       [9.99997684e-01, 2.31622856e-06],\n",
       "       [2.64573065e-03, 9.97354269e-01],\n",
       "       [3.48339786e-05, 9.99965166e-01],\n",
       "       [8.06065320e-03, 9.91939347e-01],\n",
       "       [9.99864954e-01, 1.35045689e-04],\n",
       "       [5.78291216e-03, 9.94217088e-01],\n",
       "       [9.99768698e-01, 2.31302200e-04],\n",
       "       [9.91074125e-01, 8.92587501e-03],\n",
       "       [1.73206653e-01, 8.26793347e-01],\n",
       "       [7.54745135e-04, 9.99245255e-01],\n",
       "       [9.98740929e-01, 1.25907084e-03],\n",
       "       [1.04800246e-04, 9.99895200e-01],\n",
       "       [9.37910827e-01, 6.20891732e-02],\n",
       "       [1.03898625e-04, 9.99896101e-01],\n",
       "       [1.00000000e+00, 6.18010189e-11],\n",
       "       [1.00000000e+00, 3.42284249e-18],\n",
       "       [9.99999963e-01, 3.67185078e-08],\n",
       "       [9.99177805e-01, 8.22194724e-04],\n",
       "       [2.52941844e-02, 9.74705816e-01],\n",
       "       [9.99999615e-01, 3.85172247e-07],\n",
       "       [1.92355700e-03, 9.98076443e-01],\n",
       "       [9.63291304e-01, 3.67086958e-02],\n",
       "       [9.96049227e-01, 3.95077284e-03],\n",
       "       [6.28204964e-02, 9.37179504e-01],\n",
       "       [4.47048435e-04, 9.99552952e-01],\n",
       "       [1.18098730e-02, 9.88190127e-01],\n",
       "       [5.18185351e-03, 9.94818146e-01],\n",
       "       [9.98830894e-01, 1.16910625e-03],\n",
       "       [2.01320717e-02, 9.79867928e-01],\n",
       "       [9.99999999e-01, 6.92591443e-10],\n",
       "       [9.99999975e-01, 2.50866354e-08]])"
      ]
     },
     "execution_count": 21,
     "metadata": {},
     "output_type": "execute_result"
    }
   ],
   "source": [
    "# Getting probality\n",
    "# we will use in ROC\n",
    "# If we see that 2nd if greater compare to second one\n",
    "# So class = 1\n",
    "# we need get label we need to use armax\n",
    "model.predict_proba(X_test)"
   ]
  },
  {
   "cell_type": "code",
   "execution_count": 22,
   "metadata": {},
   "outputs": [
    {
     "data": {
      "text/plain": [
       "array([1, 1, 0, 1, 1, 1, 1, 1, 1, 1, 1, 1, 1, 1, 1, 1, 1, 0, 0, 0, 1, 1,\n",
       "       1, 1, 1, 1, 0, 1, 1, 0, 1, 1, 0, 1, 1, 1, 1, 1, 1, 1, 1, 0, 0, 1,\n",
       "       1, 1, 1, 0, 1, 0, 1, 0, 1, 1, 1, 0, 0, 1, 1, 1, 1, 0, 1, 1, 0, 1,\n",
       "       1, 1, 1, 0, 0, 1, 0, 1, 0, 0, 1, 1, 0, 1, 0, 1, 1, 1, 1, 0, 0, 1,\n",
       "       1, 0, 0, 0, 0, 1, 1, 0, 1, 1, 0, 1, 1, 1, 1, 1, 1, 0, 0, 1, 0, 0,\n",
       "       1, 0, 0, 1, 1, 1, 0, 1, 0, 0, 1, 1, 0, 1, 0, 1, 0, 0, 0, 0, 1, 0,\n",
       "       1, 0, 0, 1, 1, 1, 1, 0, 1, 0, 0], dtype=int64)"
      ]
     },
     "execution_count": 22,
     "metadata": {},
     "output_type": "execute_result"
    }
   ],
   "source": [
    "import numpy as np\n",
    "np.argmax(model.predict_proba(X_test),axis=1)"
   ]
  },
  {
   "cell_type": "markdown",
   "metadata": {},
   "source": [
    "### Model output validation"
   ]
  },
  {
   "cell_type": "code",
   "execution_count": 23,
   "metadata": {},
   "outputs": [],
   "source": [
    "from sklearn.metrics import confusion_matrix,accuracy_score,classification_report"
   ]
  },
  {
   "cell_type": "code",
   "execution_count": 24,
   "metadata": {},
   "outputs": [
    {
     "data": {
      "text/plain": [
       "array([[51,  2],\n",
       "       [ 1, 89]], dtype=int64)"
      ]
     },
     "execution_count": 24,
     "metadata": {},
     "output_type": "execute_result"
    }
   ],
   "source": [
    "# Here only 3 are wrongly predicted.\n",
    "confusion_matrix(y_test,y_pred)"
   ]
  },
  {
   "cell_type": "code",
   "execution_count": 25,
   "metadata": {},
   "outputs": [
    {
     "data": {
      "text/plain": [
       "0.9790209790209791"
      ]
     },
     "execution_count": 25,
     "metadata": {},
     "output_type": "execute_result"
    }
   ],
   "source": [
    "#Here test score is 97\n",
    "#Test score is less than Train- So it's genralize model\n",
    "accuracy_score(y_test,y_pred)"
   ]
  },
  {
   "cell_type": "code",
   "execution_count": 26,
   "metadata": {},
   "outputs": [
    {
     "name": "stdout",
     "output_type": "stream",
     "text": [
      "              precision    recall  f1-score   support\n",
      "\n",
      "           0       0.98      0.96      0.97        53\n",
      "           1       0.98      0.99      0.98        90\n",
      "\n",
      "    accuracy                           0.98       143\n",
      "   macro avg       0.98      0.98      0.98       143\n",
      "weighted avg       0.98      0.98      0.98       143\n",
      "\n"
     ]
    }
   ],
   "source": [
    "print(classification_report(y_test,y_pred))"
   ]
  },
  {
   "cell_type": "code",
   "execution_count": 27,
   "metadata": {},
   "outputs": [
    {
     "data": {
      "text/plain": [
       "0.9755765199161426"
      ]
     },
     "execution_count": 27,
     "metadata": {},
     "output_type": "execute_result"
    }
   ],
   "source": [
    "# Here we will get ROC score.\n",
    "# But I need ROC Curve\n",
    "from sklearn.metrics import roc_auc_score\n",
    "roc_auc_score(y_test,y_pred)"
   ]
  },
  {
   "cell_type": "code",
   "execution_count": 28,
   "metadata": {},
   "outputs": [],
   "source": [
    "y_pred1=model.predict(X_test)"
   ]
  },
  {
   "cell_type": "code",
   "execution_count": 40,
   "metadata": {},
   "outputs": [
    {
     "data": {
      "text/plain": [
       "1.0"
      ]
     },
     "execution_count": 40,
     "metadata": {},
     "output_type": "execute_result"
    }
   ],
   "source": [
    "y_proba= model.predict_proba(X_test)\n",
    "np.max(y_proba)"
   ]
  },
  {
   "cell_type": "code",
   "execution_count": 30,
   "metadata": {},
   "outputs": [],
   "source": [
    "from sklearn.metrics import accuracy_score, confusion_matrix, roc_curve, roc_auc_score"
   ]
  },
  {
   "cell_type": "code",
   "execution_count": 31,
   "metadata": {},
   "outputs": [],
   "source": [
    "# Three things in the ROC \n",
    "# Flase positive rate,\n",
    "# True postivite rate\n",
    "# Theesholds\n",
    "fpr, tpr, thresholds = roc_curve(y_test, y_pred1)"
   ]
  },
  {
   "cell_type": "code",
   "execution_count": 32,
   "metadata": {},
   "outputs": [
    {
     "data": {
      "text/plain": [
       "array([0.        , 0.03773585, 1.        ])"
      ]
     },
     "execution_count": 32,
     "metadata": {},
     "output_type": "execute_result"
    }
   ],
   "source": [
    "# False postive rate  from above confusionm matrix 2/91\n",
    "fpr"
   ]
  },
  {
   "cell_type": "code",
   "execution_count": 33,
   "metadata": {},
   "outputs": [
    {
     "data": {
      "text/plain": [
       "array([0.        , 0.98888889, 1.        ])"
      ]
     },
     "execution_count": 33,
     "metadata": {},
     "output_type": "execute_result"
    }
   ],
   "source": [
    "# True  postive rate  from above confusionm matrix 51/52\n",
    "tpr"
   ]
  },
  {
   "cell_type": "code",
   "execution_count": 34,
   "metadata": {},
   "outputs": [
    {
     "data": {
      "text/plain": [
       "array([2, 1, 0])"
      ]
     },
     "execution_count": 34,
     "metadata": {},
     "output_type": "execute_result"
    }
   ],
   "source": [
    "# From above probabilty calculation the maximum value is 1\n",
    "# as per thershold formula max value +1 is the thersold - So here 1+1 = 2\n",
    "# When thersold is 1 we are getting 0.0377 & 0.988( Check above fpr & TPR)\n",
    "# When thersold is  0 we are getting 100% so both are 1 ,1\n",
    "thresholds"
   ]
  },
  {
   "cell_type": "code",
   "execution_count": 35,
   "metadata": {},
   "outputs": [],
   "source": [
    "import matplotlib.pyplot as plt\n",
    "%matplotlib inline"
   ]
  },
  {
   "cell_type": "code",
   "execution_count": 36,
   "metadata": {},
   "outputs": [
    {
     "data": {
      "text/plain": [
       "0.9755765199161426"
      ]
     },
     "execution_count": 36,
     "metadata": {},
     "output_type": "execute_result"
    }
   ],
   "source": [
    "# Area Under Curve\n",
    "auc = roc_auc_score(y_test, y_pred)\n",
    "auc"
   ]
  },
  {
   "cell_type": "code",
   "execution_count": 37,
   "metadata": {},
   "outputs": [
    {
     "data": {
      "image/png": "[encoded data removed]",
      "text/plain": [
       "<Figure size 432x288 with 1 Axes>"
      ]
     },
     "metadata": {
      "needs_background": "light"
     },
     "output_type": "display_data"
    }
   ],
   "source": [
    "plt.plot(fpr, tpr, color='orange', label='ROC')\n",
    "plt.plot([0, 1], [0, 1], color='darkblue', linestyle='--',label='ROC curve (area = %0.2f)' % auc)\n",
    "plt.xlabel('False Positive Rate')\n",
    "plt.ylabel('True Positive Rate')\n",
    "plt.title('Receiver Operating Characteristic (ROC) Curve')\n",
    "plt.legend()\n",
    "plt.show()"
   ]
  },
  {
   "cell_type": "code",
   "execution_count": 42,
   "metadata": {},
   "outputs": [
    {
     "data": {
      "text/plain": [
       "array([[3.21843835e-03, 9.96781562e-01],\n",
       "       [8.73559044e-05, 9.99912644e-01],\n",
       "       [9.81149105e-01, 1.88508948e-02],\n",
       "       [2.41933388e-02, 9.75806661e-01],\n",
       "       [2.08489493e-03, 9.97915105e-01],\n",
       "       [1.10687536e-03, 9.98893125e-01],\n",
       "       [8.34136215e-03, 9.91658638e-01],\n",
       "       [1.67503958e-02, 9.83249604e-01],\n",
       "       [2.29552761e-01, 7.70447239e-01],\n",
       "       [6.75828774e-04, 9.99324171e-01],\n",
       "       [4.52463037e-03, 9.95475370e-01],\n",
       "       [8.61191265e-05, 9.99913881e-01],\n",
       "       [2.36501446e-04, 9.99763499e-01],\n",
       "       [3.04395876e-01, 6.95604124e-01],\n",
       "       [2.54914512e-03, 9.97450855e-01],\n",
       "       [1.37219045e-01, 8.62780955e-01],\n",
       "       [8.48618046e-04, 9.99151382e-01],\n",
       "       [9.99999998e-01, 2.33348457e-09],\n",
       "       [1.00000000e+00, 2.35832754e-13],\n",
       "       [9.99999970e-01, 3.01454693e-08],\n",
       "       [2.71540251e-03, 9.97284597e-01],\n",
       "       [1.55428899e-05, 9.99984457e-01],\n",
       "       [4.71953179e-04, 9.99528047e-01],\n",
       "       [9.99495971e-04, 9.99000504e-01],\n",
       "       [2.42784891e-02, 9.75721511e-01],\n",
       "       [9.33361460e-02, 9.06663854e-01],\n",
       "       [9.99999734e-01, 2.65680636e-07],\n",
       "       [8.92624441e-04, 9.99107376e-01],\n",
       "       [2.20368021e-04, 9.99779632e-01],\n",
       "       [9.96923004e-01, 3.07699552e-03],\n",
       "       [2.69142742e-03, 9.97308573e-01],\n",
       "       [2.04395688e-02, 9.79560431e-01],\n",
       "       [1.00000000e+00, 5.09739824e-21],\n",
       "       [2.84875934e-01, 7.15124066e-01],\n",
       "       [1.58694148e-01, 8.41305852e-01],\n",
       "       [2.02053287e-03, 9.97979467e-01],\n",
       "       [3.26736948e-02, 9.67326305e-01],\n",
       "       [7.34205196e-04, 9.99265795e-01],\n",
       "       [1.61050226e-03, 9.98389498e-01],\n",
       "       [3.66803928e-03, 9.96331961e-01],\n",
       "       [3.76106308e-03, 9.96238937e-01],\n",
       "       [9.99961406e-01, 3.85935548e-05],\n",
       "       [1.00000000e+00, 5.85439757e-13],\n",
       "       [1.28207851e-02, 9.87179215e-01],\n",
       "       [1.71885558e-03, 9.98281144e-01],\n",
       "       [2.53441764e-04, 9.99746558e-01],\n",
       "       [1.65471251e-01, 8.34528749e-01],\n",
       "       [9.95828370e-01, 4.17163021e-03],\n",
       "       [1.99880744e-02, 9.80011926e-01],\n",
       "       [9.99421529e-01, 5.78470952e-04],\n",
       "       [4.02851796e-02, 9.59714820e-01],\n",
       "       [9.82299546e-01, 1.77004538e-02],\n",
       "       [5.53587022e-04, 9.99446413e-01],\n",
       "       [2.52903965e-04, 9.99747096e-01],\n",
       "       [3.78992104e-02, 9.62100790e-01],\n",
       "       [9.38143553e-01, 6.18564470e-02],\n",
       "       [1.00000000e+00, 1.27256424e-23],\n",
       "       [2.80862934e-02, 9.71913707e-01],\n",
       "       [4.37541711e-01, 5.62458289e-01],\n",
       "       [7.85848588e-02, 9.21415141e-01],\n",
       "       [7.37429759e-03, 9.92625702e-01],\n",
       "       [9.99999968e-01, 3.22662343e-08],\n",
       "       [2.47428903e-02, 9.75257110e-01],\n",
       "       [1.11908917e-01, 8.88091083e-01],\n",
       "       [1.00000000e+00, 5.36780934e-11],\n",
       "       [8.98980683e-03, 9.91010193e-01],\n",
       "       [6.11098069e-03, 9.93889019e-01],\n",
       "       [4.48806417e-04, 9.99551194e-01],\n",
       "       [2.63511993e-03, 9.97364880e-01],\n",
       "       [9.73319374e-01, 2.66806264e-02],\n",
       "       [9.99952534e-01, 4.74661157e-05],\n",
       "       [6.55403680e-04, 9.99344596e-01],\n",
       "       [9.99998748e-01, 1.25174751e-06],\n",
       "       [4.96109340e-01, 5.03890660e-01],\n",
       "       [9.99999972e-01, 2.82474367e-08],\n",
       "       [1.00000000e+00, 9.25115714e-11],\n",
       "       [8.86256774e-03, 9.91137432e-01],\n",
       "       [1.10806770e-03, 9.98891932e-01],\n",
       "       [1.00000000e+00, 2.69919253e-13],\n",
       "       [7.00359424e-04, 9.99299641e-01],\n",
       "       [9.96800684e-01, 3.19931635e-03],\n",
       "       [2.85718670e-03, 9.97142813e-01],\n",
       "       [1.73842328e-02, 9.82615767e-01],\n",
       "       [7.88987238e-04, 9.99211013e-01],\n",
       "       [8.61653710e-02, 9.13834629e-01],\n",
       "       [9.88911651e-01, 1.10883487e-02],\n",
       "       [1.00000000e+00, 1.60510886e-20],\n",
       "       [2.16689456e-02, 9.78331054e-01],\n",
       "       [4.75056681e-04, 9.99524943e-01],\n",
       "       [1.00000000e+00, 2.32493792e-35],\n",
       "       [9.99915082e-01, 8.49184750e-05],\n",
       "       [9.99995486e-01, 4.51390025e-06],\n",
       "       [9.99999681e-01, 3.19107288e-07],\n",
       "       [3.09665567e-03, 9.96903344e-01],\n",
       "       [6.96550439e-04, 9.99303450e-01],\n",
       "       [1.00000000e+00, 2.70762995e-10],\n",
       "       [2.80844254e-02, 9.71915575e-01],\n",
       "       [2.12998904e-03, 9.97870011e-01],\n",
       "       [9.99999340e-01, 6.59639601e-07],\n",
       "       [1.33391933e-02, 9.86660807e-01],\n",
       "       [5.82374632e-04, 9.99417625e-01],\n",
       "       [4.91368535e-03, 9.95086315e-01],\n",
       "       [3.04523384e-02, 9.69547662e-01],\n",
       "       [7.21394977e-02, 9.27860502e-01],\n",
       "       [1.06507370e-01, 8.93492630e-01],\n",
       "       [9.31073585e-01, 6.89264152e-02],\n",
       "       [1.00000000e+00, 1.61859210e-13],\n",
       "       [7.25903410e-03, 9.92740966e-01],\n",
       "       [6.80128132e-01, 3.19871868e-01],\n",
       "       [9.85397846e-01, 1.46021537e-02],\n",
       "       [2.69086110e-01, 7.30913890e-01],\n",
       "       [1.00000000e+00, 8.93475064e-21],\n",
       "       [9.99997684e-01, 2.31622856e-06],\n",
       "       [2.64573065e-03, 9.97354269e-01],\n",
       "       [3.48339786e-05, 9.99965166e-01],\n",
       "       [8.06065320e-03, 9.91939347e-01],\n",
       "       [9.99864954e-01, 1.35045689e-04],\n",
       "       [5.78291216e-03, 9.94217088e-01],\n",
       "       [9.99768698e-01, 2.31302200e-04],\n",
       "       [9.91074125e-01, 8.92587501e-03],\n",
       "       [1.73206653e-01, 8.26793347e-01],\n",
       "       [7.54745135e-04, 9.99245255e-01],\n",
       "       [9.98740929e-01, 1.25907084e-03],\n",
       "       [1.04800246e-04, 9.99895200e-01],\n",
       "       [9.37910827e-01, 6.20891732e-02],\n",
       "       [1.03898625e-04, 9.99896101e-01],\n",
       "       [1.00000000e+00, 6.18010189e-11],\n",
       "       [1.00000000e+00, 3.42284249e-18],\n",
       "       [9.99999963e-01, 3.67185078e-08],\n",
       "       [9.99177805e-01, 8.22194724e-04],\n",
       "       [2.52941844e-02, 9.74705816e-01],\n",
       "       [9.99999615e-01, 3.85172247e-07],\n",
       "       [1.92355700e-03, 9.98076443e-01],\n",
       "       [9.63291304e-01, 3.67086958e-02],\n",
       "       [9.96049227e-01, 3.95077284e-03],\n",
       "       [6.28204964e-02, 9.37179504e-01],\n",
       "       [4.47048435e-04, 9.99552952e-01],\n",
       "       [1.18098730e-02, 9.88190127e-01],\n",
       "       [5.18185351e-03, 9.94818146e-01],\n",
       "       [9.98830894e-01, 1.16910625e-03],\n",
       "       [2.01320717e-02, 9.79867928e-01],\n",
       "       [9.99999999e-01, 6.92591443e-10],\n",
       "       [9.99999975e-01, 2.50866354e-08]])"
      ]
     },
     "execution_count": 42,
     "metadata": {},
     "output_type": "execute_result"
    }
   ],
   "source": [
    "# How to verify thersold values ? when we give model predict_probality we will get two index 0,1 - Becase we have\n",
    "# Two labels - Thats what we are getting two probabality value for each data point.\n",
    "# Now take index 1 as my predict score\n",
    "y_proba= model.predict_proba(X_test)\n",
    "y_proba"
   ]
  },
  {
   "cell_type": "code",
   "execution_count": 44,
   "metadata": {},
   "outputs": [
    {
     "data": {
      "text/plain": [
       "array([9.96781562e-01, 9.99912644e-01, 1.88508948e-02, 9.75806661e-01,\n",
       "       9.97915105e-01, 9.98893125e-01, 9.91658638e-01, 9.83249604e-01,\n",
       "       7.70447239e-01, 9.99324171e-01, 9.95475370e-01, 9.99913881e-01,\n",
       "       9.99763499e-01, 6.95604124e-01, 9.97450855e-01, 8.62780955e-01,\n",
       "       9.99151382e-01, 2.33348457e-09, 2.35832754e-13, 3.01454693e-08,\n",
       "       9.97284597e-01, 9.99984457e-01, 9.99528047e-01, 9.99000504e-01,\n",
       "       9.75721511e-01, 9.06663854e-01, 2.65680636e-07, 9.99107376e-01,\n",
       "       9.99779632e-01, 3.07699552e-03, 9.97308573e-01, 9.79560431e-01,\n",
       "       5.09739824e-21, 7.15124066e-01, 8.41305852e-01, 9.97979467e-01,\n",
       "       9.67326305e-01, 9.99265795e-01, 9.98389498e-01, 9.96331961e-01,\n",
       "       9.96238937e-01, 3.85935548e-05, 5.85439757e-13, 9.87179215e-01,\n",
       "       9.98281144e-01, 9.99746558e-01, 8.34528749e-01, 4.17163021e-03,\n",
       "       9.80011926e-01, 5.78470952e-04, 9.59714820e-01, 1.77004538e-02,\n",
       "       9.99446413e-01, 9.99747096e-01, 9.62100790e-01, 6.18564470e-02,\n",
       "       1.27256424e-23, 9.71913707e-01, 5.62458289e-01, 9.21415141e-01,\n",
       "       9.92625702e-01, 3.22662343e-08, 9.75257110e-01, 8.88091083e-01,\n",
       "       5.36780934e-11, 9.91010193e-01, 9.93889019e-01, 9.99551194e-01,\n",
       "       9.97364880e-01, 2.66806264e-02, 4.74661157e-05, 9.99344596e-01,\n",
       "       1.25174751e-06, 5.03890660e-01, 2.82474367e-08, 9.25115714e-11,\n",
       "       9.91137432e-01, 9.98891932e-01, 2.69919253e-13, 9.99299641e-01,\n",
       "       3.19931635e-03, 9.97142813e-01, 9.82615767e-01, 9.99211013e-01,\n",
       "       9.13834629e-01, 1.10883487e-02, 1.60510886e-20, 9.78331054e-01,\n",
       "       9.99524943e-01, 2.32493792e-35, 8.49184750e-05, 4.51390025e-06,\n",
       "       3.19107288e-07, 9.96903344e-01, 9.99303450e-01, 2.70762995e-10,\n",
       "       9.71915575e-01, 9.97870011e-01, 6.59639601e-07, 9.86660807e-01,\n",
       "       9.99417625e-01, 9.95086315e-01, 9.69547662e-01, 9.27860502e-01,\n",
       "       8.93492630e-01, 6.89264152e-02, 1.61859210e-13, 9.92740966e-01,\n",
       "       3.19871868e-01, 1.46021537e-02, 7.30913890e-01, 8.93475064e-21,\n",
       "       2.31622856e-06, 9.97354269e-01, 9.99965166e-01, 9.91939347e-01,\n",
       "       1.35045689e-04, 9.94217088e-01, 2.31302200e-04, 8.92587501e-03,\n",
       "       8.26793347e-01, 9.99245255e-01, 1.25907084e-03, 9.99895200e-01,\n",
       "       6.20891732e-02, 9.99896101e-01, 6.18010189e-11, 3.42284249e-18,\n",
       "       3.67185078e-08, 8.22194724e-04, 9.74705816e-01, 3.85172247e-07,\n",
       "       9.98076443e-01, 3.67086958e-02, 3.95077284e-03, 9.37179504e-01,\n",
       "       9.99552952e-01, 9.88190127e-01, 9.94818146e-01, 1.16910625e-03,\n",
       "       9.79867928e-01, 6.92591443e-10, 2.50866354e-08])"
      ]
     },
     "execution_count": 44,
     "metadata": {},
     "output_type": "execute_result"
    }
   ],
   "source": [
    "#Assume index 1 has all correct prediction & take this out\n",
    "y_predict = y_proba[:,1]\n",
    "y_predict"
   ]
  },
  {
   "cell_type": "code",
   "execution_count": 45,
   "metadata": {},
   "outputs": [],
   "source": [
    "# Now provide the input \n",
    "fpr, tpr, thresholds = roc_curve(y_test, y_predict)"
   ]
  },
  {
   "cell_type": "code",
   "execution_count": 46,
   "metadata": {},
   "outputs": [
    {
     "data": {
      "text/plain": [
       "array([0.        , 0.        , 0.        , 0.01886792, 0.01886792,\n",
       "       0.03773585, 0.03773585, 0.0754717 , 0.0754717 , 1.        ])"
      ]
     },
     "execution_count": 46,
     "metadata": {},
     "output_type": "execute_result"
    }
   ],
   "source": [
    "fpr"
   ]
  },
  {
   "cell_type": "code",
   "execution_count": 47,
   "metadata": {},
   "outputs": [
    {
     "data": {
      "text/plain": [
       "array([0.        , 0.01111111, 0.85555556, 0.85555556, 0.95555556,\n",
       "       0.95555556, 0.98888889, 0.98888889, 1.        , 1.        ])"
      ]
     },
     "execution_count": 47,
     "metadata": {},
     "output_type": "execute_result"
    }
   ],
   "source": [
    "tpr"
   ]
  },
  {
   "cell_type": "code",
   "execution_count": 48,
   "metadata": {},
   "outputs": [
    {
     "data": {
      "text/plain": [
       "array([1.99998446e+00, 9.99984457e-01, 9.21415141e-01, 9.13834629e-01,\n",
       "       7.30913890e-01, 7.15124066e-01, 5.03890660e-01, 6.89264152e-02,\n",
       "       6.20891732e-02, 2.32493792e-35])"
      ]
     },
     "execution_count": 48,
     "metadata": {},
     "output_type": "execute_result"
    }
   ],
   "source": [
    "# From large to small value selecting randomly\n",
    "# Internally 10 maximum\n",
    "# If we select 0.5(5.03e-01) Thersold we will get 0.988 TPR rate(above Corresponding index inn tpr),0.0377\n",
    "# This will help domain expertice which thersold should choose\n",
    "# Whether we need increase True postive or False postive.\n",
    "# If I choose 0.6 - Model will overfit - Becasue 100% accuracy.\n",
    "thresholds"
   ]
  },
  {
   "cell_type": "code",
   "execution_count": 49,
   "metadata": {},
   "outputs": [
    {
     "data": {
      "text/plain": [
       "0.9960167714884696"
      ]
     },
     "execution_count": 49,
     "metadata": {},
     "output_type": "execute_result"
    }
   ],
   "source": [
    "# Area Under Curve\n",
    "auc = roc_auc_score(y_test, y_predict)\n",
    "auc"
   ]
  },
  {
   "cell_type": "code",
   "execution_count": 50,
   "metadata": {},
   "outputs": [
    {
     "data": {
      "image/png": "[encoded data removed]",
      "text/plain": [
       "<Figure size 432x288 with 1 Axes>"
      ]
     },
     "metadata": {
      "needs_background": "light"
     },
     "output_type": "display_data"
    }
   ],
   "source": [
    "plt.plot(fpr, tpr, color='orange', label='ROC')\n",
    "plt.plot([0, 1], [0, 1], color='darkblue', linestyle='--',label='ROC curve (area = %0.2f)' % auc)\n",
    "plt.xlabel('False Positive Rate')\n",
    "plt.ylabel('True Positive Rate')\n",
    "plt.title('Receiver Operating Characteristic (ROC) Curve')\n",
    "plt.legend()\n",
    "plt.show()"
   ]
  },
  {
   "cell_type": "raw",
   "metadata": {},
   "source": [
    "# What is the use of ROC = here we are checking when we select different differnt probability whether we are getting maximum cover area\n",
    "# Above example we are caluclating sensitivity & specificality for each point using False postive, True negative from starting to end, From that we will ome more column , using that column we are ploting.\n",
    "https://acutecaretesting.org/en/articles/roc-curves-what-are-they-and-how-are-they-used"
   ]
  },
  {
   "cell_type": "code",
   "execution_count": 38,
   "metadata": {},
   "outputs": [],
   "source": [
    "# Different different probability we are applying and we are calcualting TP & FP rate.\n",
    "# Here we can see arouund 98% Curve we are getting good accuracy."
   ]
  },
  {
   "cell_type": "markdown",
   "metadata": {},
   "source": [
    "# Difference between Grid Search & Random search"
   ]
  },
  {
   "cell_type": "raw",
   "metadata": {},
   "source": [
    "# Difference between Grid Search & Random search\n",
    "Grid_Search = All possible permudation and combination will take\n",
    "Random_search = we need to specify the number of paramerter\n",
    "How to combine? - First we need do with Grid search - Find the best parameter\n",
    "Use this paramater in Random search.\n",
    "Which one take more Time- Grid Search.\n"
   ]
  },
  {
   "cell_type": "markdown",
   "metadata": {},
   "source": [
    "## Assigment"
   ]
  },
  {
   "cell_type": "code",
   "execution_count": null,
   "metadata": {},
   "outputs": [],
   "source": [
    "# Take multiclass problem  & How to apply One Vs other Technique"
   ]
  },
  {
   "cell_type": "markdown",
   "metadata": {},
   "source": [
    "##  Interview question"
   ]
  },
  {
   "attachments": {
    "image.png": {
     "image/png": "[encoded data removed]"
    }
   },
   "cell_type": "markdown",
   "metadata": {},
   "source": [
    "Can we apply for below case Logistic regression?\n",
    "\n",
    "\n",
    "![image.png](attachment:image.png)"
   ]
  },
  {
   "cell_type": "code",
   "execution_count": null,
   "metadata": {},
   "outputs": [],
   "source": [
    "Yes we can do. Using square the X value & we will get plane as below."
   ]
  },
  {
   "attachments": {
    "image.png": {
     "image/png": "[encoded data removed]"
    }
   },
   "cell_type": "markdown",
   "metadata": {},
   "source": [
    "![image.png](attachment:image.png)"
   ]
  },
  {
   "cell_type": "markdown",
   "metadata": {},
   "source": [
    "## Random Search"
   ]
  },
  {
   "cell_type": "code",
   "execution_count": 2,
   "metadata": {},
   "outputs": [
    {
     "name": "stdout",
     "output_type": "stream",
     "text": [
      "Best Score: 0.7897619047619049\n",
      "Best Hyperparameters: {'C': 4.878363034905756, 'penalty': 'l2', 'solver': 'newton-cg'}\n"
     ]
    }
   ],
   "source": [
    "# random search logistic regression model on the sonar dataset\n",
    "from scipy.stats import loguniform\n",
    "from pandas import read_csv\n",
    "from sklearn.linear_model import LogisticRegression\n",
    "from sklearn.model_selection import RepeatedStratifiedKFold\n",
    "from sklearn.model_selection import RandomizedSearchCV\n",
    "# load dataset\n",
    "url = 'https://raw.githubusercontent.com/jbrownlee/Datasets/master/sonar.csv'\n",
    "dataframe = read_csv(url, header=None)\n",
    "# split into input and output elements\n",
    "data = dataframe.values\n",
    "X, y = data[:, :-1], data[:, -1]\n",
    "# define model\n",
    "model = LogisticRegression()\n",
    "# define evaluation\n",
    "cv = RepeatedStratifiedKFold(n_splits=10, n_repeats=3, random_state=1)\n",
    "# define search space\n",
    "space = dict()\n",
    "space['solver'] = ['newton-cg', 'lbfgs', 'liblinear']\n",
    "space['penalty'] = ['none', 'l1', 'l2', 'elasticnet']\n",
    "space['C'] = loguniform(1e-5, 100)\n",
    "# define search\n",
    "search = RandomizedSearchCV(model, space, n_iter=500, scoring='accuracy', n_jobs=-1, cv=cv, random_state=1)\n",
    "# execute search\n",
    "result = search.fit(X, y)\n",
    "# summarize result\n",
    "print('Best Score: %s' % result.best_score_)\n",
    "print('Best Hyperparameters: %s' % result.best_params_)"
   ]
  },
  {
   "cell_type": "code",
   "execution_count": null,
   "metadata": {},
   "outputs": [],
   "source": []
  }
 ],
 "metadata": {
  "kernelspec": {
   "display_name": "Python 3",
   "language": "python",
   "name": "python3"
  },
  "language_info": {
   "codemirror_mode": {
    "name": "ipython",
    "version": 3
   },
   "file_extension": ".py",
   "mimetype": "text/x-python",
   "name": "python",
   "nbconvert_exporter": "python",
   "pygments_lexer": "ipython3",
   "version": "3.8.5"
  }
 },
 "nbformat": 4,
 "nbformat_minor": 4
}
