{
 "cells": [
  {
   "cell_type": "markdown",
   "metadata": {},
   "source": [
    "<img src=\"https://d24cdstip7q8pz.cloudfront.net/t/ineuron1/content/common/images/final%20logo.png\" height=50 alt-text=\"iNeuron.ai logo\">"
   ]
  },
  {
   "cell_type": "markdown",
   "metadata": {},
   "source": [
    "## 19.1 SQLite\n",
    "\n",
    "* SQLite is a C library that provides a lightweight disk-based database that doesn’t require a separate server process and allows accessing the database using a nonstandard variant of the SQL query language. \n",
    "* Some applications can use SQLite for internal data storage. It’s also possible to prototype an application using SQLite and then port the code to a larger database such as PostgreSQL or Oracle.\n",
    "\n",
    "* The sqlite3 module was written by Gerhard Häring. It provides a SQL interface compliant with the DB-API 2.0 specification described by PEP 249.\n",
    "\n",
    ">**Note:** To use the module, you must first create a Connection object that represents the database. \n",
    "\n",
    "**Here, we include some basic function of SQLite;**\n",
    "\n",
    "- **SQLite and Python types**\n",
    "- **Connection Establishment with Database**\n",
    "- **Table Creation and Data Insertion**\n",
    "- **Some Data Filtering Operation**\n",
    "- **Table Drop**"
   ]
  },
  {
   "cell_type": "raw",
   "metadata": {},
   "source": [
    "# SQlite - in Memory - Ram itslef - light weight Data base we can confiure- Example mobile\n",
    "# Will help store the data\n",
    "# SQlite - fast(less lentancy) becasue DB itself store in RAM.\n",
    "# Using some patch we can transfer\n",
    "# Sqlite schema tools - we can see the data  details.\n",
    "# Download the https://dbschema.com/download.html tools- we can connect any database\n",
    " "
   ]
  },
  {
   "cell_type": "markdown",
   "metadata": {},
   "source": [
    "### 19.1.1 SQLite and Python types\n",
    "\n",
    "SQLite natively supports the following types: **`NULL`**, **`INTEGER`**, **`REAL`**, **`TEXT`**, **`BLOB`**.\n",
    "\n",
    "The following Python types can thus be sent to `SQLite` without any problem:\n",
    "\n",
    "|Python type|SQLite type|\n",
    "|:-|:-|\n",
    "|None|NULL|\n",
    "|int|INTEGER|\n",
    "|float|REAL|\n",
    "|str|TEXT|\n",
    "|bytes|BLOB|\n",
    "\n",
    "This is how SQLite types are converted to Python types by default:\n",
    "\n",
    "|SQLite type|Python type|\n",
    "|:-|:-|\n",
    "|NULL|None|\n",
    "|INTEGER|int|\n",
    "|REAL|float|\n",
    "|TEXT|depends on text_factory, str by default|\n",
    "|BLOB|bytes|\n"
   ]
  },
  {
   "cell_type": "markdown",
   "metadata": {},
   "source": [
    "### 19.1.2 Connection Establishment with Database \n",
    "Here the data will be stored in the `my_database1.db` file:"
   ]
  },
  {
   "cell_type": "code",
   "execution_count": 1,
   "metadata": {},
   "outputs": [],
   "source": [
    "# importing sqlite\n",
    "import sqlite3\n",
    "#connecting with the database.\n",
    "# Or create the DB instance\n",
    "# Inside DB I can create multiple Table\n",
    "db = sqlite3.connect(\"company_database.db\")"
   ]
  },
  {
   "cell_type": "markdown",
   "metadata": {},
   "source": [
    ">**Note:** You can also supply the special name `:memory:` to create a database in RAM.\n"
   ]
  },
  {
   "cell_type": "markdown",
   "metadata": {},
   "source": [
    "### 19.1.3 Table Creation and Data Insertion\n",
    "* Once you have a Connection, you can create a Cursor object and call its `execute()` method to perform SQL commands:"
   ]
  },
  {
   "cell_type": "code",
   "execution_count": 2,
   "metadata": {},
   "outputs": [],
   "source": [
    "c = db.cursor()"
   ]
  },
  {
   "cell_type": "code",
   "execution_count": 3,
   "metadata": {},
   "outputs": [
    {
     "data": {
      "text/plain": [
       "<sqlite3.Cursor at 0x5262730>"
      ]
     },
     "execution_count": 3,
     "metadata": {},
     "output_type": "execute_result"
    }
   ],
   "source": [
    "# Create table ( same as SQL Syntax)\n",
    "c.execute(\"DROP table IF EXISTS company1\")\n",
    "c.execute('CREATE TABLE company1(ID int, Name text, Age int, Address text, Salary real)')"
   ]
  },
  {
   "cell_type": "code",
   "execution_count": 4,
   "metadata": {},
   "outputs": [
    {
     "data": {
      "text/plain": [
       "<sqlite3.Cursor at 0x5262730>"
      ]
     },
     "execution_count": 4,
     "metadata": {},
     "output_type": "execute_result"
    }
   ],
   "source": [
    "# Insert a row of data only by providing values\n",
    "c.execute(\"INSERT INTO company1 VALUES (1, 'Jhon', 32, 'Bangalore', 100000.00)\")\n",
    "c.execute(\"INSERT INTO company1 VALUES (2, 'Jhon', 32, 'Bangalore', 100000.00)\")"
   ]
  },
  {
   "cell_type": "code",
   "execution_count": 5,
   "metadata": {},
   "outputs": [],
   "source": [
    "data=c.execute(\"SELECT * FROM company1\")"
   ]
  },
  {
   "cell_type": "markdown",
   "metadata": {},
   "source": [
    ">**Note:** Its create a sqlite cursor and to get the data you need to iterate over for loop"
   ]
  },
  {
   "cell_type": "code",
   "execution_count": 6,
   "metadata": {},
   "outputs": [
    {
     "name": "stdout",
     "output_type": "stream",
     "text": [
      "(1, 'Jhon', 32, 'Bangalore', 100000.0)\n",
      "(2, 'Jhon', 32, 'Bangalore', 100000.0)\n"
     ]
    }
   ],
   "source": [
    "for i in data:\n",
    "    print(i)"
   ]
  },
  {
   "cell_type": "markdown",
   "metadata": {},
   "source": [
    "* There is another way to insert in table by both key and values"
   ]
  },
  {
   "cell_type": "code",
   "execution_count": 7,
   "metadata": {},
   "outputs": [
    {
     "data": {
      "text/plain": [
       "<sqlite3.Cursor at 0x5262730>"
      ]
     },
     "execution_count": 7,
     "metadata": {},
     "output_type": "execute_result"
    }
   ],
   "source": [
    "# Insert a row of data\n",
    "c.execute(\"INSERT INTO company (ID, Name, Age, Address, Salary) VALUES (3, 'Venkat', 42, 'Chennai', 400000.00)\")\n",
    "\n",
    "c.execute(\"INSERT INTO company (ID, Name, Age, Address, Salary) VALUES (4, 'Raju', 31, 'Madurai', 400000.00)\")\n",
    "\n",
    "c.execute(\"INSERT INTO company (ID, Name, Age, Address, Salary) VALUES (5, 'Ankit', 25, 'Bangalore', 800000.00)\")\n",
    "\n",
    "c.execute(\"INSERT INTO company (ID, Name, Age, Address, Salary) VALUES (6, 'Ravi', 25, 'Bangalore', 800000.00)\")\n",
    "\n",
    "c.execute(\"INSERT INTO company (ID, Name, Age, Address, Salary) VALUES (7, 'Shivam', 25, 'Bangalore', 800000.00)\")"
   ]
  },
  {
   "cell_type": "code",
   "execution_count": 8,
   "metadata": {},
   "outputs": [
    {
     "name": "stdout",
     "output_type": "stream",
     "text": [
      "(1, 'Jhon', 32, 'Bangalore', 100000.0)\n",
      "(2, 'Jhon', 32, 'Bangalore', 100000.0)\n",
      "(3, 'Venkat', 42, 'Chennai', 400000.0)\n",
      "(4, 'Raju', 31, 'Madurai', 400000.0)\n",
      "(5, 'Ankit', 25, 'Bangalore', 800000.0)\n",
      "(6, 'Ravi', 25, 'Bangalore', 800000.0)\n",
      "(7, 'Shivam', 25, 'Bangalore', 800000.0)\n",
      "(3, 'Venkat', 42, 'Chennai', 400000.0)\n",
      "(4, 'Raju', 31, 'Madurai', 400000.0)\n",
      "(5, 'Ankit', 25, 'Bangalore', 800000.0)\n",
      "(6, 'Ravi', 25, 'Bangalore', 800000.0)\n",
      "(7, 'Shivam', 25, 'Bangalore', 800000.0)\n"
     ]
    }
   ],
   "source": [
    "data=c.execute(\"SELECT * FROM company\")\n",
    "for i in data:\n",
    "    print(i)"
   ]
  },
  {
   "cell_type": "code",
   "execution_count": 9,
   "metadata": {},
   "outputs": [],
   "source": [
    "# Save (commit) the changes\n",
    "db.commit()"
   ]
  },
  {
   "cell_type": "code",
   "execution_count": 10,
   "metadata": {},
   "outputs": [],
   "source": [
    "# We can also close the connection if we are done with it.\n",
    "# Just be sure any changes have been committed or they will be lost.\n",
    "db.close()"
   ]
  },
  {
   "cell_type": "markdown",
   "metadata": {},
   "source": [
    "### 19.1.4 Some Data Filtering Operation"
   ]
  },
  {
   "cell_type": "code",
   "execution_count": 11,
   "metadata": {},
   "outputs": [],
   "source": [
    "## Connecting to a Database\n",
    "db = sqlite3.connect(\"company_database.db\")\n",
    "c=db.cursor()"
   ]
  },
  {
   "cell_type": "code",
   "execution_count": 12,
   "metadata": {},
   "outputs": [
    {
     "name": "stdout",
     "output_type": "stream",
     "text": [
      "(3, 'Venkat', 42, 'Chennai', 400000.0)\n",
      "(4, 'Raju', 31, 'Madurai', 400000.0)\n",
      "(5, 'Ankit', 25, 'Bangalore', 800000.0)\n",
      "(6, 'Ravi', 25, 'Bangalore', 800000.0)\n",
      "(7, 'Shivam', 25, 'Bangalore', 800000.0)\n",
      "(3, 'Venkat', 42, 'Chennai', 400000.0)\n",
      "(4, 'Raju', 31, 'Madurai', 400000.0)\n",
      "(5, 'Ankit', 25, 'Bangalore', 800000.0)\n",
      "(6, 'Ravi', 25, 'Bangalore', 800000.0)\n",
      "(7, 'Shivam', 25, 'Bangalore', 800000.0)\n"
     ]
    }
   ],
   "source": [
    "'''\n",
    "Showing data for salary greater than 100000\n",
    "'''\n",
    "data=c.execute(\"select * from company where Salary >100000\")\n",
    "for x in data:\n",
    "    print(x)"
   ]
  },
  {
   "cell_type": "code",
   "execution_count": 13,
   "metadata": {},
   "outputs": [
    {
     "name": "stdout",
     "output_type": "stream",
     "text": [
      "('Jhon',)\n",
      "('Jhon',)\n",
      "('Ankit',)\n",
      "('Ravi',)\n",
      "('Shivam',)\n",
      "('Ankit',)\n",
      "('Ravi',)\n",
      "('Shivam',)\n"
     ]
    }
   ],
   "source": [
    "'''\n",
    "Showing name from data where place is Bangalore\n",
    "'''\n",
    "data=c.execute(\"select Name from company where Address = 'Bangalore'\")\n",
    "for x in data:\n",
    "    print(x)"
   ]
  },
  {
   "cell_type": "code",
   "execution_count": 14,
   "metadata": {},
   "outputs": [
    {
     "name": "stdout",
     "output_type": "stream",
     "text": [
      "(5, 'Ankit')\n",
      "(6, 'Ravi')\n",
      "(7, 'Shivam')\n",
      "(5, 'Ankit')\n",
      "(6, 'Ravi')\n",
      "(7, 'Shivam')\n",
      "(4, 'Raju')\n",
      "(4, 'Raju')\n",
      "(1, 'Jhon')\n",
      "(2, 'Jhon')\n",
      "(3, 'Venkat')\n",
      "(3, 'Venkat')\n"
     ]
    }
   ],
   "source": [
    "'''\n",
    "Showing ID and Name from data as per accending order of Age\n",
    "'''\n",
    "data=c.execute(\"select ID, Name from company order by Age\")\n",
    "for x in data:\n",
    "    print(x)"
   ]
  },
  {
   "cell_type": "code",
   "execution_count": 15,
   "metadata": {},
   "outputs": [
    {
     "name": "stdout",
     "output_type": "stream",
     "text": [
      "(3, 'Venkat', 42)\n",
      "(3, 'Venkat', 42)\n",
      "(1, 'Jhon', 32)\n",
      "(2, 'Jhon', 32)\n",
      "(4, 'Raju', 31)\n",
      "(4, 'Raju', 31)\n",
      "(5, 'Ankit', 25)\n",
      "(6, 'Ravi', 25)\n",
      "(7, 'Shivam', 25)\n",
      "(5, 'Ankit', 25)\n",
      "(6, 'Ravi', 25)\n",
      "(7, 'Shivam', 25)\n"
     ]
    }
   ],
   "source": [
    "'''\n",
    "Showing ID, Name and Age from data as per deccending order of Age\n",
    "'''\n",
    "data=c.execute(\"select ID, Name, Age from company order by Age desc\")\n",
    "for x in data:\n",
    "    print(x)"
   ]
  },
  {
   "cell_type": "markdown",
   "metadata": {},
   "source": [
    "### 19.1.5 Table Drop "
   ]
  },
  {
   "cell_type": "code",
   "execution_count": 17,
   "metadata": {},
   "outputs": [
    {
     "data": {
      "text/plain": [
       "<sqlite3.Cursor at 0x5262dc0>"
      ]
     },
     "execution_count": 17,
     "metadata": {},
     "output_type": "execute_result"
    }
   ],
   "source": [
    "# importing sqlite\n",
    "import sqlite3\n",
    "\n",
    "#connecting with the database.\n",
    "db = sqlite3.connect(\"food_database.db\")\n",
    "c = db.cursor()\n",
    "\n",
    "# Create table to store food name and their colories\n",
    "c.execute(\"DROP table IF EXISTS food\")\n",
    "c.execute('CREATE TABLE food(Name text, Calories int)') \n",
    "\n",
    "# Insert a row of data\n",
    "c.execute(\"INSERT INTO food VALUES ('Mango', 60)\")\n",
    "c.execute(\"INSERT INTO food VALUES ('Samosa',262)\")\n"
   ]
  },
  {
   "cell_type": "code",
   "execution_count": 18,
   "metadata": {},
   "outputs": [
    {
     "name": "stdout",
     "output_type": "stream",
     "text": [
      "('Mango', 60)\n",
      "('Samosa', 262)\n"
     ]
    }
   ],
   "source": [
    "data=c.execute(\"SELECT * FROM food\")\n",
    "for i in data:\n",
    "    print(i)"
   ]
  },
  {
   "cell_type": "code",
   "execution_count": 19,
   "metadata": {},
   "outputs": [
    {
     "data": {
      "text/plain": [
       "<sqlite3.Cursor at 0x5262dc0>"
      ]
     },
     "execution_count": 19,
     "metadata": {},
     "output_type": "execute_result"
    }
   ],
   "source": [
    "## Its recommended to use this DROP command\n",
    "c.execute(\"DROP table IF EXISTS food\")"
   ]
  },
  {
   "cell_type": "code",
   "execution_count": 20,
   "metadata": {},
   "outputs": [
    {
     "ename": "OperationalError",
     "evalue": "no such table: food",
     "output_type": "error",
     "traceback": [
      "\u001b[1;31m---------------------------------------------------------------------------\u001b[0m",
      "\u001b[1;31mOperationalError\u001b[0m                          Traceback (most recent call last)",
      "\u001b[1;32m<ipython-input-20-2eb9e4f617ea>\u001b[0m in \u001b[0;36m<module>\u001b[1;34m\u001b[0m\n\u001b[0;32m      1\u001b[0m \u001b[1;31m## Checking its deleted or not\u001b[0m\u001b[1;33m\u001b[0m\u001b[1;33m\u001b[0m\u001b[1;33m\u001b[0m\u001b[0m\n\u001b[1;32m----> 2\u001b[1;33m \u001b[0mc\u001b[0m\u001b[1;33m.\u001b[0m\u001b[0mexecute\u001b[0m\u001b[1;33m(\u001b[0m\u001b[1;34m\"DROP table food\"\u001b[0m\u001b[1;33m)\u001b[0m\u001b[1;33m\u001b[0m\u001b[1;33m\u001b[0m\u001b[0m\n\u001b[0m",
      "\u001b[1;31mOperationalError\u001b[0m: no such table: food"
     ]
    }
   ],
   "source": [
    "## Checking its deleted or not\n",
    "c.execute(\"DROP table food\") "
   ]
  },
  {
   "cell_type": "code",
   "execution_count": null,
   "metadata": {},
   "outputs": [],
   "source": []
  }
 ],
 "metadata": {
  "kernelspec": {
   "display_name": "Python 3",
   "language": "python",
   "name": "python3"
  },
  "language_info": {
   "codemirror_mode": {
    "name": "ipython",
    "version": 3
   },
   "file_extension": ".py",
   "mimetype": "text/x-python",
   "name": "python",
   "nbconvert_exporter": "python",
   "pygments_lexer": "ipython3",
   "version": "3.6.8"
  }
 },
 "nbformat": 4,
 "nbformat_minor": 2
}
