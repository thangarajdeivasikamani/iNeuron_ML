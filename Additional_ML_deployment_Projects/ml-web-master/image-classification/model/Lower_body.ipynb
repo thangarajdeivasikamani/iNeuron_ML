{
 "cells": [
  {
   "cell_type": "code",
   "execution_count": 1,
   "id": "f66b1b6d",
   "metadata": {},
   "outputs": [],
   "source": [
    "import cv2\n",
    "from matplotlib import pyplot as plt\n",
    "%matplotlib inline"
   ]
  },
  {
   "cell_type": "code",
   "execution_count": 43,
   "id": "b34d4246",
   "metadata": {},
   "outputs": [],
   "source": [
    "img = cv2.imread(r'C:\\MachineLearning\\iNeuron_ML\\Addtional_Project_for_reference\\ml-web-master\\image-classification\\google_image_scrapping\\datasets\\nude\\Test.jpg')\n",
    "#plt.imshow(img)"
   ]
  },
  {
   "cell_type": "code",
   "execution_count": 44,
   "id": "a60a5140",
   "metadata": {},
   "outputs": [
    {
     "data": {
      "text/plain": [
       "(876, 671)"
      ]
     },
     "execution_count": 44,
     "metadata": {},
     "output_type": "execute_result"
    }
   ],
   "source": [
    "gray = cv2.cvtColor(img, cv2.COLOR_BGR2GRAY)\n",
    "gray.shape"
   ]
  },
  {
   "cell_type": "code",
   "execution_count": 45,
   "id": "55d30736",
   "metadata": {},
   "outputs": [
    {
     "data": {
      "text/plain": [
       "array([[238, 248, 250, ..., 112, 102, 109],\n",
       "       [239, 249, 252, ..., 103, 111, 107],\n",
       "       [239, 247, 251, ..., 108, 107, 113],\n",
       "       ...,\n",
       "       [ 31,  21,  32, ..., 199, 199, 199],\n",
       "       [ 29,  26,  26, ..., 199, 199, 199],\n",
       "       [ 29,  28,  23, ..., 199, 199, 199]], dtype=uint8)"
      ]
     },
     "execution_count": 45,
     "metadata": {},
     "output_type": "execute_result"
    }
   ],
   "source": [
    "gray"
   ]
  },
  {
   "cell_type": "code",
   "execution_count": 40,
   "id": "e733df3b",
   "metadata": {},
   "outputs": [],
   "source": [
    "#plt.imshow(gray, cmap='gray')"
   ]
  },
  {
   "cell_type": "code",
   "execution_count": 48,
   "id": "6a5d7a4f",
   "metadata": {},
   "outputs": [
    {
     "data": {
      "text/plain": [
       "()"
      ]
     },
     "execution_count": 48,
     "metadata": {},
     "output_type": "execute_result"
    }
   ],
   "source": [
    "body_classifier = cv2.CascadeClassifier('./opencv/haarcascades/haarcascade_fullbody.xml')\n",
    "bodies = body_classifier.detectMultiScale(gray, 1.2, 3)\n",
    "bodies"
   ]
  },
  {
   "cell_type": "code",
   "execution_count": 21,
   "id": "51dab3a1",
   "metadata": {},
   "outputs": [
    {
     "data": {
      "text/plain": [
       "(253, 120, 24, 24)"
      ]
     },
     "execution_count": 21,
     "metadata": {},
     "output_type": "execute_result"
    }
   ],
   "source": [
    "(x,y,w,h) = faces[0]\n",
    "x,y,w,h"
   ]
  },
  {
   "cell_type": "code",
   "execution_count": 31,
   "id": "cb160226",
   "metadata": {},
   "outputs": [],
   "source": [
    "face_img = cv2.rectangle(img,(x,y),(x+w,y+h),(255,0,0),2)\n",
    "#plt.imshow(face_img)"
   ]
  },
  {
   "cell_type": "code",
   "execution_count": null,
   "id": "bd1a2134",
   "metadata": {},
   "outputs": [],
   "source": [
    "   \n",
    "    gray = cv2.cvtColor(img,cv2.COLOR_BGR2GRAY)\n",
    "    lower_part = lower_cascade.detectMultiScale(gray,1.1,4)\n",
    "    for (x,y,w,h)in lower_part:\n",
    "     #face_img = cv2.rectangle(img,(x,y),(x+w,y+h),(0,0,0),5)\n",
    "     face_img = cv2.rectangle(img,(x,y),(x+w,y+h),(255,0,0),2)\n",
    "    cv2.imshow('img',img)\n",
    "    key = cv2.waitKey(1)\n",
    "    if key == 27:\n",
    "     break\n",
    "cv2.destroyWindows()\n",
    "    "
   ]
  },
  {
   "cell_type": "code",
   "execution_count": null,
   "id": "ffcfedd9",
   "metadata": {},
   "outputs": [],
   "source": []
  }
 ],
 "metadata": {
  "kernelspec": {
   "display_name": "Python 3",
   "language": "python",
   "name": "python3"
  },
  "language_info": {
   "codemirror_mode": {
    "name": "ipython",
    "version": 3
   },
   "file_extension": ".py",
   "mimetype": "text/x-python",
   "name": "python",
   "nbconvert_exporter": "python",
   "pygments_lexer": "ipython3",
   "version": "3.8.8"
  }
 },
 "nbformat": 4,
 "nbformat_minor": 5
}
